{
  "nbformat": 4,
  "nbformat_minor": 0,
  "metadata": {
    "colab": {
      "name": "Untitled89.ipynb",
      "provenance": [],
      "collapsed_sections": [],
      "toc_visible": true
    },
    "kernelspec": {
      "name": "python3",
      "display_name": "Python 3"
    },
    "language_info": {
      "name": "python"
    }
  },
  "cells": [
    {
      "cell_type": "markdown",
      "source": [
        "#Initialise libraries"
      ],
      "metadata": {
        "id": "EWCFcxk5JETG"
      }
    },
    {
      "cell_type": "code",
      "source": [
        "#Download Pytorch Geometric\n",
        "\n",
        "!pip install -q torch-scatter -f https://data.pyg.org/whl/torch-${TORCH}.html\n",
        "!pip install -q torch-sparse -f https://data.pyg.org/whl/torch-${TORCH}.html\n",
        "!pip install -q git+https://github.com/pyg-team/pytorch_geometric.git"
      ],
      "metadata": {
        "id": "mC_dvBCHdRMy",
        "colab": {
          "base_uri": "https://localhost:8080/"
        },
        "outputId": "e5f00ff4-2e42-4403-fb0b-b3199f0f2f51"
      },
      "execution_count": 15,
      "outputs": [
        {
          "output_type": "stream",
          "name": "stdout",
          "text": [
            "  Building wheel for torch-scatter (setup.py) ... \u001b[?25l\u001b[?25hdone\n",
            "\u001b[K     |████████████████████████████████| 48 kB 2.4 MB/s \n",
            "\u001b[?25h  Building wheel for torch-sparse (setup.py) ... \u001b[?25l\u001b[?25hdone\n",
            "  Building wheel for torch-geometric (setup.py) ... \u001b[?25l\u001b[?25hdone\n"
          ]
        }
      ]
    },
    {
      "cell_type": "code",
      "source": [
        "#Import the libraries\n",
        "import os\n",
        "import torch\n",
        "import torch_geometric.datasets as datasets\n",
        "import torch_geometric.data as data\n",
        "import torch_geometric.transforms as transforms\n",
        "import networkx as nx\n",
        "from torch_geometric.utils import erdos_renyi_graph, to_networkx, from_networkx\n",
        "\n",
        "import networkx as nx\n",
        "import matplotlib.pyplot as plt\n",
        "import random\n",
        "from itertools import combinations, groupby\n",
        "import pandas as pd\n",
        "import numpy as np\n",
        "from sklearn.preprocessing import LabelEncoder\n",
        "\n",
        "from torch_geometric.data import Data, DataLoader\n",
        "from torch_geometric.nn import GCNConv, GATConv\n",
        "import torch.nn.functional as F\n",
        "from sklearn.metrics import median_absolute_error\n",
        "from sklearn.metrics import mean_absolute_error\n",
        "from scipy.ndimage.filters import gaussian_filter1d\n",
        "from collections import namedtuple\n",
        "\n",
        "from sklearn.neural_network import MLPRegressor\n",
        "from sklearn.model_selection import train_test_split\n",
        "from keras.models import Sequential\n",
        "from keras.layers import Dense, Conv1D, Flatten\n",
        "\n",
        "import sklearn\n",
        "import torch.nn.utils.prune as prune\n",
        "from tqdm import tqdm\n"
      ],
      "metadata": {
        "id": "sCLg23JyhbWK"
      },
      "execution_count": 245,
      "outputs": []
    },
    {
      "cell_type": "markdown",
      "source": [
        "#Data Preparation"
      ],
      "metadata": {
        "id": "Iol_MstdEoqf"
      }
    },
    {
      "cell_type": "code",
      "source": [
        "#Set seed \n",
        "np.random.seed(1234)\n",
        "\n",
        "#Generate a random NetworkX graph\n",
        "def gnp_random_connected_graph(n, p):\n",
        "    \"\"\"\n",
        "    Generates a random undirected graph, similarly to an Erdős-Rényi \n",
        "    graph, but enforcing that the resulting graph is conneted\n",
        "    \"\"\"\n",
        "    edges = combinations(range(n), 2)\n",
        "    G = nx.Graph()\n",
        "    G.add_nodes_from(range(n))\n",
        "    if p <= 0:\n",
        "        return G\n",
        "    if p >= 1:\n",
        "        return nx.complete_graph(n, create_using=G)\n",
        "    for _, node_edges in groupby(edges, key=lambda x: x[0]):\n",
        "        node_edges = list(node_edges)\n",
        "        random_edge = random.choice(node_edges)\n",
        "        G.add_edge(*random_edge)\n",
        "        for e in node_edges:\n",
        "            if random.random() < p:\n",
        "                G.add_edge(*e)\n",
        "    return G\n",
        "\n",
        "    #Reference [1]: https://stackoverflow.com/questions/61958360/how-to-create-random-graph-where-each-node-has-at-least-1-edge-using-networkx"
      ],
      "metadata": {
        "id": "uClRU_UJLRw0"
      },
      "execution_count": 19,
      "outputs": []
    },
    {
      "cell_type": "code",
      "execution_count": 20,
      "metadata": {
        "id": "8ZHYDQHgLNxY"
      },
      "outputs": [],
      "source": [
        "np.random.seed(1234)\n",
        "\n",
        "#Create 200 graphs with 5 nodes\n",
        "for i in range(1, 200):\n",
        "  j = 0\n",
        "  # j = j/10\n",
        "  k = random.randint(1,42)\n",
        "  globals()['G_'+str(i)] = gnp_random_connected_graph(5, j) "
      ]
    },
    {
      "cell_type": "code",
      "source": [
        "#Define node attributes\n",
        "#Randomise x and y coordinates for each of the 5 nodes\n",
        "np.random.seed(1234)\n",
        "\n",
        "\n",
        "for i in range(1,200):\n",
        "\n",
        "  x_cord_0 =  random.randint(50,60)\n",
        "  x_cord_1 = random.randint(45,50)\n",
        "  x_cord_2 = random.randint(40,50)\n",
        "  x_cord_3 = random.randint(10,20)\n",
        "  x_cord_4 = random.randint(10,20)\n",
        "  \n",
        "  y_cord_0 = random.randint(60,70)\n",
        "  y_cord_1 = random.randint(40,50)\n",
        "  y_cord_2 = random.randint(50,60)\n",
        "  y_cord_3 = random.randint(60,70)\n",
        "  y_cord_4 = random.randint(45,50)\n",
        "\n",
        "#Set node attributes\n",
        "  pos_x={0:x_cord_0, 1:x_cord_1, 2 :x_cord_2, 3 :x_cord_3, 4:x_cord_4}\n",
        "  pos_y= {0:y_cord_0, 1:y_cord_1, 2 :y_cord_2, 3 :y_cord_3, 4:y_cord_4}\n",
        "  nx.set_node_attributes(globals()['G_'+str(i)], pos_x, 'pos_x')\n",
        "  nx.set_node_attributes(globals()['G_'+str(i)], pos_y, 'pos_y')"
      ],
      "metadata": {
        "id": "Yyd_ItECRMWn"
      },
      "execution_count": 21,
      "outputs": []
    },
    {
      "cell_type": "code",
      "source": [
        "#Visualise a graph\n",
        "def viz(G):\n",
        "  fig, ax = plt.subplots(figsize = (15,8))\n",
        "  initialpos = {0:(nx.get_node_attributes(G, \"pos_x\")[0], nx.get_node_attributes(G, \"pos_y\")[0]), 1:(nx.get_node_attributes(G, \"pos_x\")[1], nx.get_node_attributes(G, \"pos_y\")[1]), \n",
        "                2:(nx.get_node_attributes(G, \"pos_x\")[2], nx.get_node_attributes(G, \"pos_y\")[2]), 3:(nx.get_node_attributes(G, \"pos_x\")[3], nx.get_node_attributes(G, \"pos_y\")[3]), \n",
        "                4:(nx.get_node_attributes(G, \"pos_x\")[4], nx.get_node_attributes(G, \"pos_y\")[4])}\n",
        "  nx.draw(G, with_labels = True, pos = initialpos)\n",
        "  limits=plt.axis('on') # turns on axis\n",
        "  ax.set_xlim(0,120)\n",
        "  ax.set_ylim(0,120)\n",
        "  ax.tick_params(left=True, bottom=True, labelleft=True, labelbottom=True)"
      ],
      "metadata": {
        "id": "XOnrUPFIsufW"
      },
      "execution_count": 22,
      "outputs": []
    },
    {
      "cell_type": "code",
      "source": [
        "#Visualise graph\n",
        "viz(G_1)"
      ],
      "metadata": {
        "id": "wqrCr3d_t1uZ",
        "colab": {
          "base_uri": "https://localhost:8080/",
          "height": 487
        },
        "outputId": "07d59a52-e9ee-4e62-dd5c-126c0ef39662"
      },
      "execution_count": 23,
      "outputs": [
        {
          "output_type": "display_data",
          "data": {
            "text/plain": [
              "<Figure size 1080x576 with 1 Axes>"
            ],
            "image/png": "[encoded data removed]"
          },
          "metadata": {}
        }
      ]
    },
    {
      "cell_type": "markdown",
      "source": [
        "##MAST formulation"
      ],
      "metadata": {
        "id": "b5JL6fLwEvQI"
      }
    },
    {
      "cell_type": "code",
      "source": [
        "#Adding connections based on the smallest distance(area) between nodes\n",
        "list_1 = [0,1,2,3,4]\n",
        "list_2 = [0,1,2,3,4]\n",
        "\n",
        "def graph_dataset(G): \n",
        "  edge_1 = []\n",
        "  edge_2 = []\n",
        "  distance = []\n",
        "  for u in list_1:\n",
        "    for v in list_2:\n",
        "      df = pd.DataFrame(columns = ['edge_1','edge_2', 'distance'])\n",
        "      if(u!=v):\n",
        "        dist = round((((nx.get_node_attributes(G, 'pos_x')[u]  - nx.get_node_attributes(G, 'pos_x')[v])**2 + (nx.get_node_attributes(G, 'pos_y')[u] - nx.get_node_attributes(G, 'pos_y')[v])**2)**0.5),2)\n",
        "        # x = random.randint(0, 5)\n",
        "        # dist = x + dist\n",
        "        edge_1.append(u)\n",
        "        edge_2.append(v)\n",
        "        distance.append(dist)\n",
        "        \n",
        "  df['edge_1'] = edge_1\n",
        "  df['edge_2'] = edge_2\n",
        "  df['distance'] = distance\n",
        "  df.drop(df[ (df['edge_1'] == 0) & (df['edge_2'] == 2)].index, inplace = True)\n",
        "  df.drop(df[ (df['edge_1'] == 0) & (df['edge_2'] == 3)].index, inplace = True)\n",
        "  df.drop(df[ (df['edge_1'] == 0) & (df['edge_2'] == 4)].index, inplace = True)\n",
        "  indexes = df[ (df['edge_1'] == 1) & (df['edge_2'] == 0)].index\n",
        "  df.drop(indexes, inplace = True)\n",
        "  indexes = df[ (df['edge_1'] == 1) & (df['edge_2'] == 3)].index\n",
        "  df.drop(indexes, inplace = True)\n",
        "  indexes = df[ (df['edge_1'] == 1) & (df['edge_2'] == 4)].index\n",
        "  df.drop(indexes, inplace = True)\n",
        "  indexes = df[ (df['edge_1'] == 2) & (df['edge_2'] == 0)].index\n",
        "  df.drop(indexes, inplace = True)\n",
        "  # indexes = df[ (df['edge_1'] == 2) & (df['edge_2'] == 3) ].index\n",
        "  # df.drop(indexes, inplace = True)\n",
        "  # df.drop(df[ (df['edge_1'] == 2) & (df['edge_2'] == 4)].index, inplace = True)\n",
        "  df.drop(df[ (df['edge_1'] == 2) & (df['edge_2'] == 1)].index, inplace = True)\n",
        "\n",
        "  df.sort_values(by = ['distance'], inplace = True)\n",
        "\n",
        "  min_df = pd.DataFrame() \n",
        "  for i in df.edge_1.unique():\n",
        "    globals()['df_'+str(i)] = df[df['edge_1'] == i]\n",
        "    globals()['df_'+str(i)] = globals()['df_'+str(i)][globals()['df_'+str(i)].distance == globals()['df_'+str(i)].distance.min()]\n",
        "    min_df = min_df.append(globals()['df_'+str(i)], ignore_index = True)\n",
        "  \n",
        "  return min_df\n"
      ],
      "metadata": {
        "id": "nUrx1mFGVG4-"
      },
      "execution_count": 24,
      "outputs": []
    },
    {
      "cell_type": "code",
      "source": [
        "#Iterate the MAST function over the 200 graphs\n",
        "for i in range(1,200):\n",
        "  globals()['min_df_'+str(i)] = graph_dataset(globals()['G_'+str(i)])\n",
        "  globals()['min_df_'+str(i)].sort_values( by = ['edge_1'], inplace = True)\n",
        "  globals()['min_df_'+str(i)].reset_index (inplace = True)\n",
        "  globals()['min_df_'+str(i)].drop(columns = ['index'], inplace = True)\n",
        " \n",
        "  \n",
        "\n"
      ],
      "metadata": {
        "id": "G3tEzI_oTFws"
      },
      "execution_count": 25,
      "outputs": []
    },
    {
      "cell_type": "code",
      "source": [
        "#Further MAST formulation\n",
        "#Ensuring that the constraint is met, i.e. node x and node y can only be connected if and only if, coverage area of node x & coverage area of node y > distance between x and y\n",
        "for i in range(1, 200):\n",
        "    if((globals()['min_df_'+str(i)].iloc[0,0] == 0) & (globals()['min_df_'+str(i)].iloc[0,1] == 1)):\n",
        "      if(globals()['min_df_'+str(i)].iloc[0,2]>globals()['min_df_'+str(i)].iloc[1,2]): #0,1\n",
        "        globals()['min_df_'+str(i)].iloc[1,2] = globals()['min_df_'+str(i)].iloc[0,2]\n",
        "      else:\n",
        "        globals()['min_df_'+str(i)].iloc[0,2] = globals()['min_df_'+str(i)].iloc[1,2]\n",
        "    if((globals()['min_df_'+str(i)].iloc[2,0] == 2) & (globals()['min_df_'+str(i)].iloc[2,1] == 3)): #2,3\n",
        "      if(globals()['min_df_'+str(i)].iloc[2,2]>globals()['min_df_'+str(i)].iloc[3,2]):\n",
        "        globals()['min_df_'+str(i)].iloc[3,2] = globals()['min_df_'+str(i)].iloc[2,2]\n",
        "      else:\n",
        "        globals()['min_df_'+str(i)].iloc[2,2] = globals()['min_df_'+str(i)].iloc[3,2]\n",
        "    if((globals()['min_df_'+str(i)].iloc[2,0] == 2) & (globals()['min_df_'+str(i)].iloc[2,1] == 4)): #2,4\n",
        "      if(globals()['min_df_'+str(i)].iloc[2,2]>globals()['min_df_'+str(i)].iloc[4,2]):\n",
        "        globals()['min_df_'+str(i)].iloc[4,2] = globals()['min_df_'+str(i)].iloc[2,2]\n",
        "      else:\n",
        "        globals()['min_df_'+str(i)].iloc[2,2] =globals()['min_df_'+str(i)].iloc[4,2]\n",
        "  \n",
        "    \n",
        "  \n",
        " \n"
      ],
      "metadata": {
        "id": "YF53zfq_QWHr"
      },
      "execution_count": 26,
      "outputs": []
    },
    {
      "cell_type": "code",
      "source": [
        "#Set coverage area as a node attribute for the nodes\n",
        "for i in range(1,200):\n",
        "  pow={}\n",
        "  pow={0:globals()['min_df_'+str(i)]['distance'][0], 1:globals()['min_df_'+str(i)]['distance'][1], 2:globals()['min_df_'+str(i)]['distance'][2], 3:globals()['min_df_'+str(i)]['distance'][3], 4:globals()['min_df_'+str(i)]['distance'][4]}\n",
        "  nx.set_node_attributes(globals()['G_'+str(i)], pow, 'y')\n",
        "  "
      ],
      "metadata": {
        "id": "qeMiwsb8Ry4O"
      },
      "execution_count": 27,
      "outputs": []
    },
    {
      "cell_type": "code",
      "source": [
        "#Adding edges where the constraint is met, i.e. edge exist between a pair of nodes if and only if their individual coverage area is greater than the distance between the pair of nodes\n",
        "for i in range(1,200):\n",
        "  globals()['G_'+str(i)].add_edge(0, 1)\n",
        "  cov_0 = nx.get_node_attributes(globals()['G_'+str(i)], 'y')[0]\n",
        "  cov_1 = nx.get_node_attributes(globals()['G_'+str(i)], 'y')[1]\n",
        "  cov_2 = nx.get_node_attributes(globals()['G_'+str(i)], 'y')[2]\n",
        "  cov_3 = nx.get_node_attributes(globals()['G_'+str(i)], 'y')[3]\n",
        "  cov_4 = nx.get_node_attributes(globals()['G_'+str(i)], 'y')[4]\n",
        "  dist_12 = round((((nx.get_node_attributes(globals()['G_'+str(i)], 'pos_x')[1]  - nx.get_node_attributes(globals()['G_'+str(i)], 'pos_x')[2])**2 + (nx.get_node_attributes(globals()['G_'+str(i)], 'pos_y')[1] - nx.get_node_attributes(globals()['G_'+str(i)], 'pos_y')[2])**2)**0.5),2)\n",
        "  dist_23 = round((((nx.get_node_attributes(globals()['G_'+str(i)], 'pos_x')[2]  - nx.get_node_attributes(globals()['G_'+str(i)], 'pos_x')[3])**2 + (nx.get_node_attributes(globals()['G_'+str(i)], 'pos_y')[2] - nx.get_node_attributes(globals()['G_'+str(i)], 'pos_y')[3])**2)**0.5),2)\n",
        "  dist_24 = round((((nx.get_node_attributes(globals()['G_'+str(i)], 'pos_x')[2]  - nx.get_node_attributes(globals()['G_'+str(i)], 'pos_x')[4])**2 + (nx.get_node_attributes(globals()['G_'+str(i)], 'pos_y')[2] - nx.get_node_attributes(globals()['G_'+str(i)], 'pos_y')[4])**2)**0.5),2)\n",
        "  dist_34 = round((((nx.get_node_attributes(globals()['G_'+str(i)], 'pos_x')[3]  - nx.get_node_attributes(globals()['G_'+str(i)], 'pos_x')[4])**2 + (nx.get_node_attributes(globals()['G_'+str(i)], 'pos_y')[3] - nx.get_node_attributes(globals()['G_'+str(i)], 'pos_y')[4])**2)**0.5),2)\n",
        "  if((cov_1 >= dist_12) & (cov_2 >= dist_12)):\n",
        "    globals()['G_'+str(i)].add_edge(1, 2)\n",
        "  if((cov_2>=dist_23) & (cov_3>=dist_23)):\n",
        "    globals()['G_'+str(i)].add_edge(2, 3)  \n",
        "  if((cov_2>=dist_24) & (cov_4>=dist_24)):\n",
        "    globals()['G_'+str(i)].add_edge(2, 4)  \n",
        "  if((cov_3>=dist_34) & (cov_4>=dist_34)):\n",
        "    globals()['G_'+str(i)].add_edge(3, 4)  "
      ],
      "metadata": {
        "id": "0qOD9gT5UJwr"
      },
      "execution_count": 28,
      "outputs": []
    },
    {
      "cell_type": "markdown",
      "source": [
        "##Converting NetworkX graph to Pytorch Geometric Objects"
      ],
      "metadata": {
        "id": "qv5tDt1LHgNU"
      }
    },
    {
      "cell_type": "code",
      "source": [
        "#Appeding all the graphs to an empty list\n",
        "Graphs = []\n",
        "for i in range(1, 200):\n",
        "  Graphs.append(globals()['G_'+str(i)])"
      ],
      "metadata": {
        "id": "bcrQaCPcEJDI"
      },
      "execution_count": 29,
      "outputs": []
    },
    {
      "cell_type": "code",
      "source": [
        "#Convert to PyG objects with features as node coordinates\n",
        "for i in range(1,199):\n",
        "  globals()['data_'+str(i)] = from_networkx(Graphs[i],['pos_x','pos_y'])"
      ],
      "metadata": {
        "id": "QW5IVA9JkWXa"
      },
      "execution_count": 30,
      "outputs": []
    },
    {
      "cell_type": "code",
      "source": [
        "#List of data for dataloader\n",
        "data_list = [data_1,\tdata_2,\tdata_3,\tdata_4,\tdata_5,\tdata_6,\tdata_7,\tdata_8,\tdata_9,\tdata_10,\tdata_11,\tdata_12,\tdata_13,\tdata_14,\tdata_15,\tdata_16,\tdata_17,\tdata_18,\tdata_19,\tdata_20,\tdata_21,\tdata_22,\tdata_23,\tdata_24,\tdata_25,\tdata_26,\tdata_27,\tdata_28,\tdata_29,\tdata_30,\tdata_31,\tdata_32,\tdata_33,\tdata_34,\tdata_35,\tdata_36,\tdata_37,\tdata_38,\tdata_39,\tdata_40,\tdata_41,\tdata_42,\tdata_43,\tdata_44,\tdata_45,\tdata_46,\tdata_47,\tdata_48,\tdata_49,\tdata_50,\tdata_51,\tdata_52,\tdata_53,\tdata_54,\tdata_55,\tdata_56,\tdata_57,\tdata_58,\tdata_59,\tdata_60,\tdata_61,\tdata_62,\tdata_63,\tdata_64,\tdata_65,\tdata_66,\tdata_67,\tdata_68,\tdata_69,\tdata_70,\tdata_71,\tdata_72,\tdata_73,\tdata_74,\tdata_75,\tdata_76,\tdata_77,\tdata_78,\tdata_79,\tdata_80,\tdata_81,\tdata_82,\tdata_83,\tdata_84,\tdata_85,\tdata_86,\tdata_87,\tdata_88,\tdata_89,\tdata_90,\tdata_91,\tdata_92,\tdata_93,\tdata_94,\tdata_95,\tdata_96,\tdata_97,\tdata_98,\tdata_99,\tdata_100,\tdata_101,\tdata_102,\tdata_103,\tdata_104,\tdata_105,\tdata_106,\tdata_107,\tdata_108,\tdata_109,\tdata_110,\tdata_111,\tdata_112,\tdata_113,\tdata_114,\tdata_115,\tdata_116,\tdata_117,\tdata_118,\tdata_119,\tdata_120,\tdata_121,\tdata_122,\tdata_123,\tdata_124,\tdata_125,\tdata_126,\tdata_127,\tdata_128,\tdata_129,\tdata_130,\tdata_131,\tdata_132,\tdata_133,\tdata_134,\tdata_135,\tdata_136,\tdata_137,\tdata_138,\tdata_139,\tdata_140,\tdata_141,\tdata_142,\tdata_143,\tdata_144,\tdata_145,\tdata_146,\tdata_147,\tdata_148,\tdata_149,\tdata_150,\tdata_151,\tdata_152,\tdata_153,\tdata_154,\tdata_155,\tdata_156,\tdata_157,\tdata_158,\tdata_159,\tdata_160,\tdata_161,\tdata_162,\tdata_163,\tdata_164,\tdata_165,\tdata_166,\tdata_167,\tdata_168,\tdata_169,\tdata_170,\tdata_171,\tdata_172,\tdata_173,\tdata_174,\tdata_175,\tdata_176,\tdata_177,\tdata_178,\tdata_179,\tdata_180,\tdata_181,\tdata_182,\tdata_183,\tdata_184,\tdata_185,\tdata_186,\tdata_187,\tdata_188,\tdata_189,\tdata_190,\tdata_191,\tdata_192,\tdata_193,\tdata_194,\tdata_195,\tdata_196,\tdata_197,\tdata_198]"
      ],
      "metadata": {
        "id": "_o9vZWEarkPe"
      },
      "execution_count": 32,
      "outputs": []
    },
    {
      "cell_type": "code",
      "source": [
        "#Split data into train and test\n",
        "train_data = data_list[0:190]\n",
        "\n",
        "test_data = data_list[190:]"
      ],
      "metadata": {
        "id": "8ucv6M2jpDfT"
      },
      "execution_count": 33,
      "outputs": []
    },
    {
      "cell_type": "code",
      "source": [
        "#Prepare data before feeding into our GCN \n",
        "train_loader = DataLoader(train_data, batch_size=32, shuffle=False)\n",
        "test_loader = DataLoader(test_data, batch_size=1, shuffle=False)\n"
      ],
      "metadata": {
        "colab": {
          "base_uri": "https://localhost:8080/"
        },
        "id": "c7bMNKhtkW1l",
        "outputId": "bdb6467f-92c8-4866-fcd9-5f94a69eb802"
      },
      "execution_count": 493,
      "outputs": [
        {
          "output_type": "stream",
          "name": "stderr",
          "text": [
            "/usr/local/lib/python3.7/dist-packages/torch_geometric/deprecation.py:12: UserWarning: 'data.DataLoader' is deprecated, use 'loader.DataLoader' instead\n",
            "  warnings.warn(out)\n"
          ]
        }
      ]
    },
    {
      "cell_type": "markdown",
      "source": [
        "#GCN"
      ],
      "metadata": {
        "id": "cj5N1bJm21CP"
      }
    },
    {
      "cell_type": "markdown",
      "source": [
        "##Define model"
      ],
      "metadata": {
        "id": "QxHPCFyPFF5G"
      }
    },
    {
      "cell_type": "code",
      "source": [
        "#GCN Architecture\n",
        "class GCN(torch.nn.Module):\n",
        "    def __init__(self, hidden_channels):\n",
        "        super(GCN, self).__init__()\n",
        "        torch.manual_seed(12345)\n",
        "        \n",
        "        self.conv1 = GATConv(2, 256)\n",
        "        #self.conv2 = GATConv(256, 128)\n",
        "        # self.conv3 = GCNConv(128, 56)\n",
        "        # self.conv4 = GCNConv(56, 28)\n",
        "        #self.conv3 = GCNConv(data.num_features, 32)\n",
        "        \n",
        "        #self.linear1 = torch.nn.Linear(128,64)\n",
        "        self.conv3 = GCNConv(256,128)\n",
        "        self.linear1 = torch.nn.Linear(128,64)\n",
        "        self.linear2 = torch.nn.Linear(64,1)\n",
        "        #self.linear3 = torch.nn.Linear(32,1)\n",
        "    def forward(self, x, edge_index):\n",
        "        x = self.conv1(x, edge_index)\n",
        "        x = x.relu()\n",
        "        x = F.dropout(x, p=0.5, training=self.training)\n",
        "        #x = self.conv2(x, edge_index)\n",
        "        #x = x.relu()\n",
        "        #x = torch.flatten(x)\n",
        "        # x = self.conv2(x, edge_index)\n",
        "        # x = x.relu()\n",
        "        # x = self.conv3(x, edge_index)\n",
        "        # x = x.relu()\n",
        "        # x = self.conv4(x, edge_index)\n",
        "        # x = x.relu()\n",
        "        # x = self.conv2(x, edge_index)\n",
        "        # x = x.relu()\n",
        "        # x = self.linear1(x)\n",
        "        # x = x.relu()\n",
        "        x = self.conv3(x, edge_index)\n",
        "        x = x.relu()\n",
        "        x = self.linear1(x)\n",
        "        #x= x.relu()\n",
        "        x = self.linear2(x)\n",
        "        # x = self.linear3(x)\n",
        "        #x= x.relu()\n",
        "        \n",
        "        return x"
      ],
      "metadata": {
        "id": "gHQGKDMZlYqW"
      },
      "execution_count": 553,
      "outputs": []
    },
    {
      "cell_type": "code",
      "source": [
        "#Initialise our GCN model\n",
        "device = torch.device('cuda' if torch.cuda.is_available() else 'cpu')\n",
        "model = GCN(256).to(device)"
      ],
      "metadata": {
        "id": "NuLyKWxi00Tb"
      },
      "execution_count": 554,
      "outputs": []
    },
    {
      "cell_type": "code",
      "source": [
        "#Define optimiser\n",
        "optim = torch.optim.Adam(model.parameters(), lr=0.001)"
      ],
      "metadata": {
        "id": "nrXA4svp1uyE"
      },
      "execution_count": 555,
      "outputs": []
    },
    {
      "cell_type": "code",
      "source": [
        "#Model architecture\n",
        "print(model)"
      ],
      "metadata": {
        "colab": {
          "base_uri": "https://localhost:8080/"
        },
        "id": "O4DYs-DeLE6_",
        "outputId": "a0ddf2fc-ba7b-407b-942f-05b5d5dd0630"
      },
      "execution_count": 556,
      "outputs": [
        {
          "output_type": "stream",
          "name": "stdout",
          "text": [
            "GCN(\n",
            "  (conv1): GATConv(2, 256, heads=1)\n",
            "  (conv3): GCNConv(256, 128)\n",
            "  (linear1): Linear(in_features=128, out_features=64, bias=True)\n",
            "  (linear2): Linear(in_features=64, out_features=1, bias=True)\n",
            ")\n"
          ]
        }
      ]
    },
    {
      "cell_type": "markdown",
      "source": [
        "##Train our model"
      ],
      "metadata": {
        "id": "ReqqJOxsFIwP"
      }
    },
    {
      "cell_type": "code",
      "source": [
        "#Train our model and evaluate on the test set\n",
        "train_pred = []\n",
        "train_values = []\n",
        "val_pred = []\n",
        "val_values = []\n",
        "for e in range(1000):\n",
        "    print(e)\n",
        "    model.train()     # Optional when not using Model Specific layer\n",
        "    for data in train_loader:\n",
        "\n",
        "      optim.zero_grad()\n",
        "      data.x = data.x.to(device, dtype = torch.float)\n",
        "      data.y = data.y.to(device, dtype = torch.float)\n",
        "\n",
        "      pred = model(data.x, data.edge_index)\n",
        "      \n",
        "      loss = F.mse_loss(pred.squeeze(), data.y.squeeze())\n",
        "      pred_np = pred.detach().numpy()\n",
        "      data.y_np = data.y.detach().numpy() \n",
        "      train_pred.append(pred_np)\n",
        "      train_values.append(data.y_np)\n",
        "      loss.backward()\n",
        "      optim.step()\n",
        "    \n",
        "    model.eval()\n",
        "    for data in train_loader:\n",
        "           # Optional when not using Model Specific layer\n",
        "      optim.zero_grad()\n",
        "      data.x = data.x.to(device, dtype = torch.float)\n",
        "      data.y = data.y.to(device, dtype = torch.float)\n",
        "      \n",
        "      pred = model(data.x, data.edge_index)\n",
        "      \n",
        "      loss = F.mse_loss(pred.squeeze(), data.y.squeeze())\n",
        "      pred_np = pred.detach().numpy()\n",
        "      data.y_np = data.y.detach().numpy() \n",
        "      val_pred.append(pred_np)\n",
        "      val_values.append(data.y_np)\n",
        "        "
      ],
      "metadata": {
        "id": "WViLYFG_8Teo",
        "colab": {
          "base_uri": "https://localhost:8080/"
        },
        "outputId": "093fbf06-1230-46c4-be2e-7f005f6db5d7"
      },
      "execution_count": 557,
      "outputs": [
        {
          "output_type": "stream",
          "name": "stdout",
          "text": [
            "0\n",
            "1\n",
            "2\n",
            "3\n",
            "4\n",
            "5\n",
            "6\n",
            "7\n",
            "8\n",
            "9\n",
            "10\n",
            "11\n",
            "12\n",
            "13\n",
            "14\n",
            "15\n",
            "16\n",
            "17\n",
            "18\n",
            "19\n",
            "20\n",
            "21\n",
            "22\n",
            "23\n",
            "24\n",
            "25\n",
            "26\n",
            "27\n",
            "28\n",
            "29\n",
            "30\n",
            "31\n",
            "32\n",
            "33\n",
            "34\n",
            "35\n",
            "36\n",
            "37\n",
            "38\n",
            "39\n",
            "40\n",
            "41\n",
            "42\n",
            "43\n",
            "44\n",
            "45\n",
            "46\n",
            "47\n",
            "48\n",
            "49\n",
            "50\n",
            "51\n",
            "52\n",
            "53\n",
            "54\n",
            "55\n",
            "56\n",
            "57\n",
            "58\n",
            "59\n",
            "60\n",
            "61\n",
            "62\n",
            "63\n",
            "64\n",
            "65\n",
            "66\n",
            "67\n",
            "68\n",
            "69\n",
            "70\n",
            "71\n",
            "72\n",
            "73\n",
            "74\n",
            "75\n",
            "76\n",
            "77\n",
            "78\n",
            "79\n",
            "80\n",
            "81\n",
            "82\n",
            "83\n",
            "84\n",
            "85\n",
            "86\n",
            "87\n",
            "88\n",
            "89\n",
            "90\n",
            "91\n",
            "92\n",
            "93\n",
            "94\n",
            "95\n",
            "96\n",
            "97\n",
            "98\n",
            "99\n",
            "100\n",
            "101\n",
            "102\n",
            "103\n",
            "104\n",
            "105\n",
            "106\n",
            "107\n",
            "108\n",
            "109\n",
            "110\n",
            "111\n",
            "112\n",
            "113\n",
            "114\n",
            "115\n",
            "116\n",
            "117\n",
            "118\n",
            "119\n",
            "120\n",
            "121\n",
            "122\n",
            "123\n",
            "124\n",
            "125\n",
            "126\n",
            "127\n",
            "128\n",
            "129\n",
            "130\n",
            "131\n",
            "132\n",
            "133\n",
            "134\n",
            "135\n",
            "136\n",
            "137\n",
            "138\n",
            "139\n",
            "140\n",
            "141\n",
            "142\n",
            "143\n",
            "144\n",
            "145\n",
            "146\n",
            "147\n",
            "148\n",
            "149\n",
            "150\n",
            "151\n",
            "152\n",
            "153\n",
            "154\n",
            "155\n",
            "156\n",
            "157\n",
            "158\n",
            "159\n",
            "160\n",
            "161\n",
            "162\n",
            "163\n",
            "164\n",
            "165\n",
            "166\n",
            "167\n",
            "168\n",
            "169\n",
            "170\n",
            "171\n",
            "172\n",
            "173\n",
            "174\n",
            "175\n",
            "176\n",
            "177\n",
            "178\n",
            "179\n",
            "180\n",
            "181\n",
            "182\n",
            "183\n",
            "184\n",
            "185\n",
            "186\n",
            "187\n",
            "188\n",
            "189\n",
            "190\n",
            "191\n",
            "192\n",
            "193\n",
            "194\n",
            "195\n",
            "196\n",
            "197\n",
            "198\n",
            "199\n",
            "200\n",
            "201\n",
            "202\n",
            "203\n",
            "204\n",
            "205\n",
            "206\n",
            "207\n",
            "208\n",
            "209\n",
            "210\n",
            "211\n",
            "212\n",
            "213\n",
            "214\n",
            "215\n",
            "216\n",
            "217\n",
            "218\n",
            "219\n",
            "220\n",
            "221\n",
            "222\n",
            "223\n",
            "224\n",
            "225\n",
            "226\n",
            "227\n",
            "228\n",
            "229\n",
            "230\n",
            "231\n",
            "232\n",
            "233\n",
            "234\n",
            "235\n",
            "236\n",
            "237\n",
            "238\n",
            "239\n",
            "240\n",
            "241\n",
            "242\n",
            "243\n",
            "244\n",
            "245\n",
            "246\n",
            "247\n",
            "248\n",
            "249\n",
            "250\n",
            "251\n",
            "252\n",
            "253\n",
            "254\n",
            "255\n",
            "256\n",
            "257\n",
            "258\n",
            "259\n",
            "260\n",
            "261\n",
            "262\n",
            "263\n",
            "264\n",
            "265\n",
            "266\n",
            "267\n",
            "268\n",
            "269\n",
            "270\n",
            "271\n",
            "272\n",
            "273\n",
            "274\n",
            "275\n",
            "276\n",
            "277\n",
            "278\n",
            "279\n",
            "280\n",
            "281\n",
            "282\n",
            "283\n",
            "284\n",
            "285\n",
            "286\n",
            "287\n",
            "288\n",
            "289\n",
            "290\n",
            "291\n",
            "292\n",
            "293\n",
            "294\n",
            "295\n",
            "296\n",
            "297\n",
            "298\n",
            "299\n",
            "300\n",
            "301\n",
            "302\n",
            "303\n",
            "304\n",
            "305\n",
            "306\n",
            "307\n",
            "308\n",
            "309\n",
            "310\n",
            "311\n",
            "312\n",
            "313\n",
            "314\n",
            "315\n",
            "316\n",
            "317\n",
            "318\n",
            "319\n",
            "320\n",
            "321\n",
            "322\n",
            "323\n",
            "324\n",
            "325\n",
            "326\n",
            "327\n",
            "328\n",
            "329\n",
            "330\n",
            "331\n",
            "332\n",
            "333\n",
            "334\n",
            "335\n",
            "336\n",
            "337\n",
            "338\n",
            "339\n",
            "340\n",
            "341\n",
            "342\n",
            "343\n",
            "344\n",
            "345\n",
            "346\n",
            "347\n",
            "348\n",
            "349\n",
            "350\n",
            "351\n",
            "352\n",
            "353\n",
            "354\n",
            "355\n",
            "356\n",
            "357\n",
            "358\n",
            "359\n",
            "360\n",
            "361\n",
            "362\n",
            "363\n",
            "364\n",
            "365\n",
            "366\n",
            "367\n",
            "368\n",
            "369\n",
            "370\n",
            "371\n",
            "372\n",
            "373\n",
            "374\n",
            "375\n",
            "376\n",
            "377\n",
            "378\n",
            "379\n",
            "380\n",
            "381\n",
            "382\n",
            "383\n",
            "384\n",
            "385\n",
            "386\n",
            "387\n",
            "388\n",
            "389\n",
            "390\n",
            "391\n",
            "392\n",
            "393\n",
            "394\n",
            "395\n",
            "396\n",
            "397\n",
            "398\n",
            "399\n",
            "400\n",
            "401\n",
            "402\n",
            "403\n",
            "404\n",
            "405\n",
            "406\n",
            "407\n",
            "408\n",
            "409\n",
            "410\n",
            "411\n",
            "412\n",
            "413\n",
            "414\n",
            "415\n",
            "416\n",
            "417\n",
            "418\n",
            "419\n",
            "420\n",
            "421\n",
            "422\n",
            "423\n",
            "424\n",
            "425\n",
            "426\n",
            "427\n",
            "428\n",
            "429\n",
            "430\n",
            "431\n",
            "432\n",
            "433\n",
            "434\n",
            "435\n",
            "436\n",
            "437\n",
            "438\n",
            "439\n",
            "440\n",
            "441\n",
            "442\n",
            "443\n",
            "444\n",
            "445\n",
            "446\n",
            "447\n",
            "448\n",
            "449\n",
            "450\n",
            "451\n",
            "452\n",
            "453\n",
            "454\n",
            "455\n",
            "456\n",
            "457\n",
            "458\n",
            "459\n",
            "460\n",
            "461\n",
            "462\n",
            "463\n",
            "464\n",
            "465\n",
            "466\n",
            "467\n",
            "468\n",
            "469\n",
            "470\n",
            "471\n",
            "472\n",
            "473\n",
            "474\n",
            "475\n",
            "476\n",
            "477\n",
            "478\n",
            "479\n",
            "480\n",
            "481\n",
            "482\n",
            "483\n",
            "484\n",
            "485\n",
            "486\n",
            "487\n",
            "488\n",
            "489\n",
            "490\n",
            "491\n",
            "492\n",
            "493\n",
            "494\n",
            "495\n",
            "496\n",
            "497\n",
            "498\n",
            "499\n",
            "500\n",
            "501\n",
            "502\n",
            "503\n",
            "504\n",
            "505\n",
            "506\n",
            "507\n",
            "508\n",
            "509\n",
            "510\n",
            "511\n",
            "512\n",
            "513\n",
            "514\n",
            "515\n",
            "516\n",
            "517\n",
            "518\n",
            "519\n",
            "520\n",
            "521\n",
            "522\n",
            "523\n",
            "524\n",
            "525\n",
            "526\n",
            "527\n",
            "528\n",
            "529\n",
            "530\n",
            "531\n",
            "532\n",
            "533\n",
            "534\n",
            "535\n",
            "536\n",
            "537\n",
            "538\n",
            "539\n",
            "540\n",
            "541\n",
            "542\n",
            "543\n",
            "544\n",
            "545\n",
            "546\n",
            "547\n",
            "548\n",
            "549\n",
            "550\n",
            "551\n",
            "552\n",
            "553\n",
            "554\n",
            "555\n",
            "556\n",
            "557\n",
            "558\n",
            "559\n",
            "560\n",
            "561\n",
            "562\n",
            "563\n",
            "564\n",
            "565\n",
            "566\n",
            "567\n",
            "568\n",
            "569\n",
            "570\n",
            "571\n",
            "572\n",
            "573\n",
            "574\n",
            "575\n",
            "576\n",
            "577\n",
            "578\n",
            "579\n",
            "580\n",
            "581\n",
            "582\n",
            "583\n",
            "584\n",
            "585\n",
            "586\n",
            "587\n",
            "588\n",
            "589\n",
            "590\n",
            "591\n",
            "592\n",
            "593\n",
            "594\n",
            "595\n",
            "596\n",
            "597\n",
            "598\n",
            "599\n",
            "600\n",
            "601\n",
            "602\n",
            "603\n",
            "604\n",
            "605\n",
            "606\n",
            "607\n",
            "608\n",
            "609\n",
            "610\n",
            "611\n",
            "612\n",
            "613\n",
            "614\n",
            "615\n",
            "616\n",
            "617\n",
            "618\n",
            "619\n",
            "620\n",
            "621\n",
            "622\n",
            "623\n",
            "624\n",
            "625\n",
            "626\n",
            "627\n",
            "628\n",
            "629\n",
            "630\n",
            "631\n",
            "632\n",
            "633\n",
            "634\n",
            "635\n",
            "636\n",
            "637\n",
            "638\n",
            "639\n",
            "640\n",
            "641\n",
            "642\n",
            "643\n",
            "644\n",
            "645\n",
            "646\n",
            "647\n",
            "648\n",
            "649\n",
            "650\n",
            "651\n",
            "652\n",
            "653\n",
            "654\n",
            "655\n",
            "656\n",
            "657\n",
            "658\n",
            "659\n",
            "660\n",
            "661\n",
            "662\n",
            "663\n",
            "664\n",
            "665\n",
            "666\n",
            "667\n",
            "668\n",
            "669\n",
            "670\n",
            "671\n",
            "672\n",
            "673\n",
            "674\n",
            "675\n",
            "676\n",
            "677\n",
            "678\n",
            "679\n",
            "680\n",
            "681\n",
            "682\n",
            "683\n",
            "684\n",
            "685\n",
            "686\n",
            "687\n",
            "688\n",
            "689\n",
            "690\n",
            "691\n",
            "692\n",
            "693\n",
            "694\n",
            "695\n",
            "696\n",
            "697\n",
            "698\n",
            "699\n",
            "700\n",
            "701\n",
            "702\n",
            "703\n",
            "704\n",
            "705\n",
            "706\n",
            "707\n",
            "708\n",
            "709\n",
            "710\n",
            "711\n",
            "712\n",
            "713\n",
            "714\n",
            "715\n",
            "716\n",
            "717\n",
            "718\n",
            "719\n",
            "720\n",
            "721\n",
            "722\n",
            "723\n",
            "724\n",
            "725\n",
            "726\n",
            "727\n",
            "728\n",
            "729\n",
            "730\n",
            "731\n",
            "732\n",
            "733\n",
            "734\n",
            "735\n",
            "736\n",
            "737\n",
            "738\n",
            "739\n",
            "740\n",
            "741\n",
            "742\n",
            "743\n",
            "744\n",
            "745\n",
            "746\n",
            "747\n",
            "748\n",
            "749\n",
            "750\n",
            "751\n",
            "752\n",
            "753\n",
            "754\n",
            "755\n",
            "756\n",
            "757\n",
            "758\n",
            "759\n",
            "760\n",
            "761\n",
            "762\n",
            "763\n",
            "764\n",
            "765\n",
            "766\n",
            "767\n",
            "768\n",
            "769\n",
            "770\n",
            "771\n",
            "772\n",
            "773\n",
            "774\n",
            "775\n",
            "776\n",
            "777\n",
            "778\n",
            "779\n",
            "780\n",
            "781\n",
            "782\n",
            "783\n",
            "784\n",
            "785\n",
            "786\n",
            "787\n",
            "788\n",
            "789\n",
            "790\n",
            "791\n",
            "792\n",
            "793\n",
            "794\n",
            "795\n",
            "796\n",
            "797\n",
            "798\n",
            "799\n",
            "800\n",
            "801\n",
            "802\n",
            "803\n",
            "804\n",
            "805\n",
            "806\n",
            "807\n",
            "808\n",
            "809\n",
            "810\n",
            "811\n",
            "812\n",
            "813\n",
            "814\n",
            "815\n",
            "816\n",
            "817\n",
            "818\n",
            "819\n",
            "820\n",
            "821\n",
            "822\n",
            "823\n",
            "824\n",
            "825\n",
            "826\n",
            "827\n",
            "828\n",
            "829\n",
            "830\n",
            "831\n",
            "832\n",
            "833\n",
            "834\n",
            "835\n",
            "836\n",
            "837\n",
            "838\n",
            "839\n",
            "840\n",
            "841\n",
            "842\n",
            "843\n",
            "844\n",
            "845\n",
            "846\n",
            "847\n",
            "848\n",
            "849\n",
            "850\n",
            "851\n",
            "852\n",
            "853\n",
            "854\n",
            "855\n",
            "856\n",
            "857\n",
            "858\n",
            "859\n",
            "860\n",
            "861\n",
            "862\n",
            "863\n",
            "864\n",
            "865\n",
            "866\n",
            "867\n",
            "868\n",
            "869\n",
            "870\n",
            "871\n",
            "872\n",
            "873\n",
            "874\n",
            "875\n",
            "876\n",
            "877\n",
            "878\n",
            "879\n",
            "880\n",
            "881\n",
            "882\n",
            "883\n",
            "884\n",
            "885\n",
            "886\n",
            "887\n",
            "888\n",
            "889\n",
            "890\n",
            "891\n",
            "892\n",
            "893\n",
            "894\n",
            "895\n",
            "896\n",
            "897\n",
            "898\n",
            "899\n",
            "900\n",
            "901\n",
            "902\n",
            "903\n",
            "904\n",
            "905\n",
            "906\n",
            "907\n",
            "908\n",
            "909\n",
            "910\n",
            "911\n",
            "912\n",
            "913\n",
            "914\n",
            "915\n",
            "916\n",
            "917\n",
            "918\n",
            "919\n",
            "920\n",
            "921\n",
            "922\n",
            "923\n",
            "924\n",
            "925\n",
            "926\n",
            "927\n",
            "928\n",
            "929\n",
            "930\n",
            "931\n",
            "932\n",
            "933\n",
            "934\n",
            "935\n",
            "936\n",
            "937\n",
            "938\n",
            "939\n",
            "940\n",
            "941\n",
            "942\n",
            "943\n",
            "944\n",
            "945\n",
            "946\n",
            "947\n",
            "948\n",
            "949\n",
            "950\n",
            "951\n",
            "952\n",
            "953\n",
            "954\n",
            "955\n",
            "956\n",
            "957\n",
            "958\n",
            "959\n",
            "960\n",
            "961\n",
            "962\n",
            "963\n",
            "964\n",
            "965\n",
            "966\n",
            "967\n",
            "968\n",
            "969\n",
            "970\n",
            "971\n",
            "972\n",
            "973\n",
            "974\n",
            "975\n",
            "976\n",
            "977\n",
            "978\n",
            "979\n",
            "980\n",
            "981\n",
            "982\n",
            "983\n",
            "984\n",
            "985\n",
            "986\n",
            "987\n",
            "988\n",
            "989\n",
            "990\n",
            "991\n",
            "992\n",
            "993\n",
            "994\n",
            "995\n",
            "996\n",
            "997\n",
            "998\n",
            "999\n"
          ]
        }
      ]
    },
    {
      "cell_type": "markdown",
      "source": [
        "##Visualise learning curves"
      ],
      "metadata": {
        "id": "Xlb71wX7FCQV"
      }
    },
    {
      "cell_type": "code",
      "source": [
        "#Obtain the training/validation curves\n",
        "def train_graph(pred, train, val_pred, val_train, epochs):\n",
        "\n",
        "  median_scores_train = []\n",
        "  median_scores_test = []\n",
        "\n",
        "  mean_scores_train = []\n",
        "  mean_scores_test = []\n",
        "\n",
        "  for i in range(1,epochs):\n",
        "    median_scores_train.append(median_absolute_error(pred[i], train[i]))\n",
        "    mean_scores_train.append(mean_absolute_error(pred[i], train[i]))\n",
        "    median_scores_test.append(median_absolute_error(val_pred[i], val_train[i]))\n",
        "    mean_scores_test.append(mean_absolute_error(val_pred[i], val_train[i]))\n",
        "\n",
        "  epoch = []\n",
        "  for i in range(1,epochs):\n",
        "    epoch.append(i)\n",
        "\n",
        "  ysmoothed_median_train = gaussian_filter1d(median_scores_train, sigma=2)\n",
        "  ysmoothed_mean_train = gaussian_filter1d(mean_scores_train, sigma=2)\n",
        "\n",
        "  ysmoothed_median_test = gaussian_filter1d(median_scores_test, sigma=2)\n",
        "  ysmoothed_mean_test = gaussian_filter1d(mean_scores_test, sigma=2)\n",
        "\n",
        "  plt.rcParams['figure.figsize'] = [7, 7]\n",
        "  plt.plot(epoch, ysmoothed_median_train, label = 'Train Median Absolute error')\n",
        "  plt.plot(epoch, ysmoothed_mean_train, label = 'Train Mean Absolute error')\n",
        "\n",
        "  plt.plot(epoch, ysmoothed_median_test, label = 'Test Median Absolute error')\n",
        "  plt.plot(epoch, ysmoothed_mean_test, label = 'Test Mean Absolute error')\n",
        "\n",
        "  listOf_Xticks = np.arange(0, epochs, epochs/10)\n",
        "  plt.xticks(listOf_Xticks)\n",
        "\n",
        "  plt.ylim([0, 12])\n",
        "  plt.xlabel(\"Epochs\")\n",
        "  plt.ylabel(\"Error\")\n",
        "  plt.title(\"Median/Mean absolute error vs Epochs(GCN)\")\n",
        "  plt.legend()\n",
        "  plt.show()\n",
        "  print(\"Mimimum test median absolute error\", min(median_scores_test))\n",
        "  print(\"Mimimum test mean absolute error\", min(mean_scores_test))"
      ],
      "metadata": {
        "id": "ZP4-OfnstoZf"
      },
      "execution_count": 574,
      "outputs": []
    },
    {
      "cell_type": "code",
      "source": [
        "#Learning curves for the GCN\n",
        "train_graph(train_pred, train_values, val_pred, val_values, 1000)"
      ],
      "metadata": {
        "id": "tWqoOkn7uw0m",
        "colab": {
          "base_uri": "https://localhost:8080/",
          "height": 493
        },
        "outputId": "66dad641-46e3-4bce-d3bb-158e29554d43"
      },
      "execution_count": 575,
      "outputs": [
        {
          "output_type": "display_data",
          "data": {
            "text/plain": [
              "<Figure size 504x504 with 1 Axes>"
            ],
            "image/png": "[encoded data removed]"
          },
          "metadata": {
            "needs_background": "light"
          }
        },
        {
          "output_type": "stream",
          "name": "stdout",
          "text": [
            "Mimimum test median absolute error 2.046445\n",
            "Mimimum test mean absolute error 2.5416987\n"
          ]
        }
      ]
    },
    {
      "cell_type": "markdown",
      "source": [
        "#Data preparation(CNN and MLP)"
      ],
      "metadata": {
        "id": "Kz-qbE64Cype"
      }
    },
    {
      "cell_type": "code",
      "source": [
        "#Creating our dataset\n",
        "for i in range(1,50):\n",
        "  globals()['min_df_'+str(i)] = graph_dataset(globals()['G_'+str(i)])\n",
        "  globals()['min_df_'+str(i)]\n",
        "  for index, row in globals()['min_df_'+str(i)].iterrows():\n",
        "    globals()['G_'+str(i)].add_edge(row['edge_1'], row['edge_2'])\n",
        "\n",
        "  globals()['min_df_'+str(i)].sort_values( by = ['edge_1'], inplace = True) \n",
        "  globals()['min_df_'+str(i)]['distance'] = globals()['min_df_'+str(i)]['distance'].astype(int)\n",
        "  pow={0:globals()['min_df_'+str(i)].iloc[0, 2], 1:globals()['min_df_'+str(i)].iloc[1, 2], 2:globals()['min_df_'+str(i)].iloc[2, 2], 3:globals()['min_df_'+str(i)].iloc[3, 2], 4:globals()['min_df_'+str(i)].iloc[4, 2]}\n",
        "  nx.set_node_attributes(globals()['G_'+str(i)], pow, 'y')\n",
        "  \n",
        "\n"
      ],
      "metadata": {
        "id": "2zX_5GgyQo6Y"
      },
      "execution_count": 577,
      "outputs": []
    },
    {
      "cell_type": "code",
      "source": [
        "#Data preparation\n",
        "Graph = []\n",
        "coord_x = []\n",
        "coord_y = []\n",
        "coord_near_x = []\n",
        "coord_near_y = []\n",
        "distance = []\n",
        "for i in range(1, 200):\n",
        "    for index, row in globals()['min_df_'+str(i)].iterrows():\n",
        "      Graph.append(i)\n",
        "      coord_x.append(nx.get_node_attributes(globals()['G_'+str(i)], 'pos_x')[row['edge_1']])\n",
        "      \n",
        "      coord_y.append(nx.get_node_attributes(globals()['G_'+str(i)], 'pos_y')[row['edge_1']])\n",
        "\n",
        "      distance.append(row['distance'])"
      ],
      "metadata": {
        "id": "UWJVrvgSQygn"
      },
      "execution_count": null,
      "outputs": []
    },
    {
      "cell_type": "code",
      "source": [
        "#Assigning values in the dataset\n",
        "combined_data = pd.DataFrame(columns = ['Graph', 'coord_x', 'coord_y', 'distance'])\n",
        "combined_data['Graph'] = Graph\n",
        "combined_data['coord_x'] = coord_x\n",
        "combined_data['coord_y'] = coord_y\n",
        "combined_data['distance'] = distance\n"
      ],
      "metadata": {
        "id": "9y5PwNZxTbd_"
      },
      "execution_count": null,
      "outputs": []
    },
    {
      "cell_type": "code",
      "source": [
        "#Look at the first few rows of our dataset\n",
        "combined_data"
      ],
      "metadata": {
        "colab": {
          "base_uri": "https://localhost:8080/",
          "height": 424
        },
        "id": "TZWrvVElY3wH",
        "outputId": "e900073f-f526-49bf-f317-839f3f629bd3"
      },
      "execution_count": null,
      "outputs": [
        {
          "output_type": "execute_result",
          "data": {
            "text/plain": [
              "     Graph  coord_x  coord_y  distance\n",
              "0        1       53       66     16.28\n",
              "1        1       50       50     16.28\n",
              "2        1       49       56     36.77\n",
              "3        1       15       70     36.77\n",
              "4        1       12       48     22.20\n",
              "..     ...      ...      ...       ...\n",
              "990    199       57       66     26.93\n",
              "991    199       47       41     26.93\n",
              "992    199       46       56     31.26\n",
              "993    199       15       60     31.26\n",
              "994    199       12       49     11.40\n",
              "\n",
              "[995 rows x 4 columns]"
            ],
            "text/html": [
              "\n",
              "  <div id=\"df-3f03bc47-3c41-4a26-898b-5fa7974e5788\">\n",
              "    <div class=\"colab-df-container\">\n",
              "      <div>\n",
              "<style scoped>\n",
              "    .dataframe tbody tr th:only-of-type {\n",
              "        vertical-align: middle;\n",
              "    }\n",
              "\n",
              "    .dataframe tbody tr th {\n",
              "        vertical-align: top;\n",
              "    }\n",
              "\n",
              "    .dataframe thead th {\n",
              "        text-align: right;\n",
              "    }\n",
              "</style>\n",
              "<table border=\"1\" class=\"dataframe\">\n",
              "  <thead>\n",
              "    <tr style=\"text-align: right;\">\n",
              "      <th></th>\n",
              "      <th>Graph</th>\n",
              "      <th>coord_x</th>\n",
              "      <th>coord_y</th>\n",
              "      <th>distance</th>\n",
              "    </tr>\n",
              "  </thead>\n",
              "  <tbody>\n",
              "    <tr>\n",
              "      <th>0</th>\n",
              "      <td>1</td>\n",
              "      <td>53</td>\n",
              "      <td>66</td>\n",
              "      <td>16.28</td>\n",
              "    </tr>\n",
              "    <tr>\n",
              "      <th>1</th>\n",
              "      <td>1</td>\n",
              "      <td>50</td>\n",
              "      <td>50</td>\n",
              "      <td>16.28</td>\n",
              "    </tr>\n",
              "    <tr>\n",
              "      <th>2</th>\n",
              "      <td>1</td>\n",
              "      <td>49</td>\n",
              "      <td>56</td>\n",
              "      <td>36.77</td>\n",
              "    </tr>\n",
              "    <tr>\n",
              "      <th>3</th>\n",
              "      <td>1</td>\n",
              "      <td>15</td>\n",
              "      <td>70</td>\n",
              "      <td>36.77</td>\n",
              "    </tr>\n",
              "    <tr>\n",
              "      <th>4</th>\n",
              "      <td>1</td>\n",
              "      <td>12</td>\n",
              "      <td>48</td>\n",
              "      <td>22.20</td>\n",
              "    </tr>\n",
              "    <tr>\n",
              "      <th>...</th>\n",
              "      <td>...</td>\n",
              "      <td>...</td>\n",
              "      <td>...</td>\n",
              "      <td>...</td>\n",
              "    </tr>\n",
              "    <tr>\n",
              "      <th>990</th>\n",
              "      <td>199</td>\n",
              "      <td>57</td>\n",
              "      <td>66</td>\n",
              "      <td>26.93</td>\n",
              "    </tr>\n",
              "    <tr>\n",
              "      <th>991</th>\n",
              "      <td>199</td>\n",
              "      <td>47</td>\n",
              "      <td>41</td>\n",
              "      <td>26.93</td>\n",
              "    </tr>\n",
              "    <tr>\n",
              "      <th>992</th>\n",
              "      <td>199</td>\n",
              "      <td>46</td>\n",
              "      <td>56</td>\n",
              "      <td>31.26</td>\n",
              "    </tr>\n",
              "    <tr>\n",
              "      <th>993</th>\n",
              "      <td>199</td>\n",
              "      <td>15</td>\n",
              "      <td>60</td>\n",
              "      <td>31.26</td>\n",
              "    </tr>\n",
              "    <tr>\n",
              "      <th>994</th>\n",
              "      <td>199</td>\n",
              "      <td>12</td>\n",
              "      <td>49</td>\n",
              "      <td>11.40</td>\n",
              "    </tr>\n",
              "  </tbody>\n",
              "</table>\n",
              "<p>995 rows × 4 columns</p>\n",
              "</div>\n",
              "      <button class=\"colab-df-convert\" onclick=\"convertToInteractive('df-3f03bc47-3c41-4a26-898b-5fa7974e5788')\"\n",
              "              title=\"Convert this dataframe to an interactive table.\"\n",
              "              style=\"display:none;\">\n",
              "        \n",
              "  <svg xmlns=\"http://www.w3.org/2000/svg\" height=\"24px\"viewBox=\"0 0 24 24\"\n",
              "       width=\"24px\">\n",
              "    <path d=\"M0 0h24v24H0V0z\" fill=\"none\"/>\n",
              "    <path d=\"M18.56 5.44l.94 2.06.94-2.06 2.06-.94-2.06-.94-.94-2.06-.94 2.06-2.06.94zm-11 1L8.5 8.5l.94-2.06 2.06-.94-2.06-.94L8.5 2.5l-.94 2.06-2.06.94zm10 10l.94 2.06.94-2.06 2.06-.94-2.06-.94-.94-2.06-.94 2.06-2.06.94z\"/><path d=\"M17.41 7.96l-1.37-1.37c-.4-.4-.92-.59-1.43-.59-.52 0-1.04.2-1.43.59L10.3 9.45l-7.72 7.72c-.78.78-.78 2.05 0 2.83L4 21.41c.39.39.9.59 1.41.59.51 0 1.02-.2 1.41-.59l7.78-7.78 2.81-2.81c.8-.78.8-2.07 0-2.86zM5.41 20L4 18.59l7.72-7.72 1.47 1.35L5.41 20z\"/>\n",
              "  </svg>\n",
              "      </button>\n",
              "      \n",
              "  <style>\n",
              "    .colab-df-container {\n",
              "      display:flex;\n",
              "      flex-wrap:wrap;\n",
              "      gap: 12px;\n",
              "    }\n",
              "\n",
              "    .colab-df-convert {\n",
              "      background-color: #E8F0FE;\n",
              "      border: none;\n",
              "      border-radius: 50%;\n",
              "      cursor: pointer;\n",
              "      display: none;\n",
              "      fill: #1967D2;\n",
              "      height: 32px;\n",
              "      padding: 0 0 0 0;\n",
              "      width: 32px;\n",
              "    }\n",
              "\n",
              "    .colab-df-convert:hover {\n",
              "      background-color: #E2EBFA;\n",
              "      box-shadow: 0px 1px 2px rgba(60, 64, 67, 0.3), 0px 1px 3px 1px rgba(60, 64, 67, 0.15);\n",
              "      fill: #174EA6;\n",
              "    }\n",
              "\n",
              "    [theme=dark] .colab-df-convert {\n",
              "      background-color: #3B4455;\n",
              "      fill: #D2E3FC;\n",
              "    }\n",
              "\n",
              "    [theme=dark] .colab-df-convert:hover {\n",
              "      background-color: #434B5C;\n",
              "      box-shadow: 0px 1px 3px 1px rgba(0, 0, 0, 0.15);\n",
              "      filter: drop-shadow(0px 1px 2px rgba(0, 0, 0, 0.3));\n",
              "      fill: #FFFFFF;\n",
              "    }\n",
              "  </style>\n",
              "\n",
              "      <script>\n",
              "        const buttonEl =\n",
              "          document.querySelector('#df-3f03bc47-3c41-4a26-898b-5fa7974e5788 button.colab-df-convert');\n",
              "        buttonEl.style.display =\n",
              "          google.colab.kernel.accessAllowed ? 'block' : 'none';\n",
              "\n",
              "        async function convertToInteractive(key) {\n",
              "          const element = document.querySelector('#df-3f03bc47-3c41-4a26-898b-5fa7974e5788');\n",
              "          const dataTable =\n",
              "            await google.colab.kernel.invokeFunction('convertToInteractive',\n",
              "                                                     [key], {});\n",
              "          if (!dataTable) return;\n",
              "\n",
              "          const docLinkHtml = 'Like what you see? Visit the ' +\n",
              "            '<a target=\"_blank\" href=https://colab.research.google.com/notebooks/data_table.ipynb>data table notebook</a>'\n",
              "            + ' to learn more about interactive tables.';\n",
              "          element.innerHTML = '';\n",
              "          dataTable['output_type'] = 'display_data';\n",
              "          await google.colab.output.renderOutput(dataTable, element);\n",
              "          const docLink = document.createElement('div');\n",
              "          docLink.innerHTML = docLinkHtml;\n",
              "          element.appendChild(docLink);\n",
              "        }\n",
              "      </script>\n",
              "    </div>\n",
              "  </div>\n",
              "  "
            ]
          },
          "metadata": {},
          "execution_count": 117
        }
      ]
    },
    {
      "cell_type": "markdown",
      "source": [
        "#MLP"
      ],
      "metadata": {
        "id": "S1LWD75nFXup"
      }
    },
    {
      "cell_type": "markdown",
      "source": [
        "##Train/Test split"
      ],
      "metadata": {
        "id": "23xVy3wGDPhx"
      }
    },
    {
      "cell_type": "code",
      "source": [
        "#Splitting our training and testing data\n",
        "x = combined_data[['coord_x', 'coord_y']]\n",
        "y = combined_data[['distance']]\n",
        "\n",
        "X_train, X_test, y_train, y_test = train_test_split(x, y, test_size = 0.10, random_state=42, shuffle=False)"
      ],
      "metadata": {
        "id": "jS5MjSTSXoKC"
      },
      "execution_count": null,
      "outputs": []
    },
    {
      "cell_type": "markdown",
      "source": [
        "##Train model"
      ],
      "metadata": {
        "id": "EtS0u_dfFkKf"
      }
    },
    {
      "cell_type": "code",
      "source": [
        "#Initialise our MLP regressor\n",
        "clf = MLPRegressor(random_state=20, max_iter=300).fit(X_train, y_train)"
      ],
      "metadata": {
        "colab": {
          "base_uri": "https://localhost:8080/"
        },
        "id": "3hS6z66kYvo6",
        "outputId": "48a9e274-cc7c-4839-a439-a4261bbed020"
      },
      "execution_count": null,
      "outputs": [
        {
          "output_type": "stream",
          "name": "stderr",
          "text": [
            "/usr/local/lib/python3.7/dist-packages/sklearn/neural_network/_multilayer_perceptron.py:1599: DataConversionWarning: A column-vector y was passed when a 1d array was expected. Please change the shape of y to (n_samples, ), for example using ravel().\n",
            "  y = column_or_1d(y, warn=True)\n",
            "/usr/local/lib/python3.7/dist-packages/sklearn/neural_network/_multilayer_perceptron.py:696: ConvergenceWarning: Stochastic Optimizer: Maximum iterations (300) reached and the optimization hasn't converged yet.\n",
            "  ConvergenceWarning,\n"
          ]
        }
      ]
    },
    {
      "cell_type": "markdown",
      "source": [
        "##Evaluate for the test set"
      ],
      "metadata": {
        "id": "XaWPIRJpEU0e"
      }
    },
    {
      "cell_type": "code",
      "source": [
        "#Predict on test set\n",
        "pred = clf.predict(X_test)"
      ],
      "metadata": {
        "id": "KnVd8--ilpMB"
      },
      "execution_count": null,
      "outputs": []
    },
    {
      "cell_type": "code",
      "source": [
        "#Mean absolute error for the MLP\n",
        "mean_absolute_error(y_test, pred)"
      ],
      "metadata": {
        "id": "r-VJYpbhl3mV"
      },
      "execution_count": null,
      "outputs": []
    },
    {
      "cell_type": "code",
      "source": [
        "#Median absolute error for the MLP\n",
        "median_absolute_error(y_test, pred)"
      ],
      "metadata": {
        "colab": {
          "base_uri": "https://localhost:8080/"
        },
        "id": "KcJX-ajvlc6R",
        "outputId": "7ecb05af-02c9-4e3e-83e8-08bfd60f87b7"
      },
      "execution_count": null,
      "outputs": [
        {
          "output_type": "execute_result",
          "data": {
            "text/plain": [
              "6.1238212904121685"
            ]
          },
          "metadata": {},
          "execution_count": 246
        }
      ]
    },
    {
      "cell_type": "markdown",
      "source": [
        "#Convolution Neural Network"
      ],
      "metadata": {
        "id": "NTTu-CHpD7cc"
      }
    },
    {
      "cell_type": "markdown",
      "source": [
        "##Prepare data for our CNN"
      ],
      "metadata": {
        "id": "7SvlWLolDvr9"
      }
    },
    {
      "cell_type": "code",
      "source": [
        "#Reshape values for CNN\n",
        "x = x.values\n",
        "x = x.reshape(x.shape[0], x.shape[1], 1)"
      ],
      "metadata": {
        "colab": {
          "base_uri": "https://localhost:8080/"
        },
        "id": "REedzAcNmD6z",
        "outputId": "649a9490-bf42-405a-9ac4-13864a2b2bc5"
      },
      "execution_count": null,
      "outputs": [
        {
          "output_type": "execute_result",
          "data": {
            "text/plain": [
              "(995, 2, 1)"
            ]
          },
          "metadata": {},
          "execution_count": 122
        }
      ]
    },
    {
      "cell_type": "markdown",
      "source": [
        "##Train/Test split"
      ],
      "metadata": {
        "id": "xw3QiJ9_F2nE"
      }
    },
    {
      "cell_type": "code",
      "source": [
        "#Train/Test split\n",
        "X_train, X_test, y_train, y_test = train_test_split(x, y, test_size = 0.20, random_state=42, shuffle=False)"
      ],
      "metadata": {
        "id": "ISUn-1a-mGk7"
      },
      "execution_count": null,
      "outputs": []
    },
    {
      "cell_type": "markdown",
      "source": [
        "##Define our model"
      ],
      "metadata": {
        "id": "E_iIlX1pF6hv"
      }
    },
    {
      "cell_type": "code",
      "source": [
        "#Define our CNN \n",
        "model = Sequential()\n",
        "model.add(Conv1D(32, 2, activation=\"relu\", input_shape=(2, 1)))\n",
        "model.add(Flatten())\n",
        "model.add(Dense(64, activation=\"relu\"))\n",
        "model.add(Dense(32, activation=\"relu\"))\n",
        "model.add(Dense(1))\n",
        "model.compile(loss=[\"mae\"], optimizer=\"adam\")"
      ],
      "metadata": {
        "id": "Yts27nQcmNKN"
      },
      "execution_count": null,
      "outputs": []
    },
    {
      "cell_type": "code",
      "source": [
        "#Model architecture\n",
        "model.summary()"
      ],
      "metadata": {
        "colab": {
          "base_uri": "https://localhost:8080/"
        },
        "id": "LNjfNSXNNhIe",
        "outputId": "88ada4eb-064c-422e-9b00-281a3bd10d25"
      },
      "execution_count": null,
      "outputs": [
        {
          "output_type": "stream",
          "name": "stdout",
          "text": [
            "Model: \"sequential_8\"\n",
            "_________________________________________________________________\n",
            " Layer (type)                Output Shape              Param #   \n",
            "=================================================================\n",
            " conv1d_8 (Conv1D)           (None, 1, 32)             96        \n",
            "                                                                 \n",
            " flatten_8 (Flatten)         (None, 32)                0         \n",
            "                                                                 \n",
            " dense_24 (Dense)            (None, 64)                2112      \n",
            "                                                                 \n",
            " dense_25 (Dense)            (None, 32)                2080      \n",
            "                                                                 \n",
            " dense_26 (Dense)            (None, 1)                 33        \n",
            "                                                                 \n",
            "=================================================================\n",
            "Total params: 4,321\n",
            "Trainable params: 4,321\n",
            "Non-trainable params: 0\n",
            "_________________________________________________________________\n"
          ]
        }
      ]
    },
    {
      "cell_type": "markdown",
      "source": [
        "##Train CNN"
      ],
      "metadata": {
        "id": "NMzZAVV-F8tT"
      }
    },
    {
      "cell_type": "code",
      "source": [
        "#Train model\n",
        "history = model.fit(X_train, y_train, batch_size=32,epochs=300, verbose=1, validation_data = (X_test,y_test))"
      ],
      "metadata": {
        "colab": {
          "base_uri": "https://localhost:8080/"
        },
        "id": "cEfW3M2qmQpg",
        "outputId": "192fdc6f-3e7b-46d5-8813-c94e2d674ae5"
      },
      "execution_count": null,
      "outputs": [
        {
          "output_type": "stream",
          "name": "stdout",
          "text": [
            "Epoch 1/300\n",
            "25/25 [==============================] - 1s 14ms/step - loss: 9.8940 - val_loss: 6.5895\n",
            "Epoch 2/300\n",
            "25/25 [==============================] - 0s 5ms/step - loss: 6.3069 - val_loss: 5.9300\n",
            "Epoch 3/300\n",
            "25/25 [==============================] - 0s 6ms/step - loss: 6.0417 - val_loss: 5.8560\n",
            "Epoch 4/300\n",
            "25/25 [==============================] - 0s 5ms/step - loss: 5.9916 - val_loss: 5.9846\n",
            "Epoch 5/300\n",
            "25/25 [==============================] - 0s 5ms/step - loss: 5.9449 - val_loss: 5.8737\n",
            "Epoch 6/300\n",
            "25/25 [==============================] - 0s 5ms/step - loss: 5.9481 - val_loss: 6.1522\n",
            "Epoch 7/300\n",
            "25/25 [==============================] - 0s 5ms/step - loss: 5.9816 - val_loss: 5.8214\n",
            "Epoch 8/300\n",
            "25/25 [==============================] - 0s 5ms/step - loss: 5.9035 - val_loss: 5.7815\n",
            "Epoch 9/300\n",
            "25/25 [==============================] - 0s 6ms/step - loss: 5.8725 - val_loss: 5.7701\n",
            "Epoch 10/300\n",
            "25/25 [==============================] - 0s 6ms/step - loss: 5.8509 - val_loss: 5.7518\n",
            "Epoch 11/300\n",
            "25/25 [==============================] - 0s 5ms/step - loss: 5.8687 - val_loss: 5.7429\n",
            "Epoch 12/300\n",
            "25/25 [==============================] - 0s 5ms/step - loss: 5.8539 - val_loss: 5.7096\n",
            "Epoch 13/300\n",
            "25/25 [==============================] - 0s 6ms/step - loss: 5.8161 - val_loss: 5.8026\n",
            "Epoch 14/300\n",
            "25/25 [==============================] - 0s 5ms/step - loss: 5.8555 - val_loss: 5.6205\n",
            "Epoch 15/300\n",
            "25/25 [==============================] - 0s 5ms/step - loss: 5.8996 - val_loss: 5.5960\n",
            "Epoch 16/300\n",
            "25/25 [==============================] - 0s 5ms/step - loss: 5.8208 - val_loss: 5.6374\n",
            "Epoch 17/300\n",
            "25/25 [==============================] - 0s 5ms/step - loss: 5.7329 - val_loss: 5.5684\n",
            "Epoch 18/300\n",
            "25/25 [==============================] - 0s 6ms/step - loss: 5.8218 - val_loss: 5.4901\n",
            "Epoch 19/300\n",
            "25/25 [==============================] - 0s 5ms/step - loss: 5.7670 - val_loss: 5.5288\n",
            "Epoch 20/300\n",
            "25/25 [==============================] - 0s 6ms/step - loss: 5.7850 - val_loss: 5.5160\n",
            "Epoch 21/300\n",
            "25/25 [==============================] - 0s 5ms/step - loss: 5.6862 - val_loss: 5.7572\n",
            "Epoch 22/300\n",
            "25/25 [==============================] - 0s 5ms/step - loss: 5.6832 - val_loss: 5.4826\n",
            "Epoch 23/300\n",
            "25/25 [==============================] - 0s 5ms/step - loss: 5.6316 - val_loss: 5.4240\n",
            "Epoch 24/300\n",
            "25/25 [==============================] - 0s 6ms/step - loss: 5.6103 - val_loss: 5.3609\n",
            "Epoch 25/300\n",
            "25/25 [==============================] - 0s 7ms/step - loss: 5.5985 - val_loss: 5.2923\n",
            "Epoch 26/300\n",
            "25/25 [==============================] - 0s 5ms/step - loss: 5.5532 - val_loss: 5.6015\n",
            "Epoch 27/300\n",
            "25/25 [==============================] - 0s 5ms/step - loss: 5.6368 - val_loss: 5.2184\n",
            "Epoch 28/300\n",
            "25/25 [==============================] - 0s 5ms/step - loss: 5.5764 - val_loss: 5.3565\n",
            "Epoch 29/300\n",
            "25/25 [==============================] - 0s 5ms/step - loss: 5.5164 - val_loss: 5.2701\n",
            "Epoch 30/300\n",
            "25/25 [==============================] - 0s 5ms/step - loss: 5.4886 - val_loss: 5.3340\n",
            "Epoch 31/300\n",
            "25/25 [==============================] - 0s 5ms/step - loss: 5.4167 - val_loss: 5.1453\n",
            "Epoch 32/300\n",
            "25/25 [==============================] - 0s 5ms/step - loss: 5.4370 - val_loss: 5.1509\n",
            "Epoch 33/300\n",
            "25/25 [==============================] - 0s 5ms/step - loss: 5.3602 - val_loss: 5.3068\n",
            "Epoch 34/300\n",
            "25/25 [==============================] - 0s 5ms/step - loss: 5.5111 - val_loss: 5.0968\n",
            "Epoch 35/300\n",
            "25/25 [==============================] - 0s 5ms/step - loss: 5.4116 - val_loss: 5.1831\n",
            "Epoch 36/300\n",
            "25/25 [==============================] - 0s 5ms/step - loss: 5.3607 - val_loss: 5.1360\n",
            "Epoch 37/300\n",
            "25/25 [==============================] - 0s 5ms/step - loss: 5.4050 - val_loss: 5.1330\n",
            "Epoch 38/300\n",
            "25/25 [==============================] - 0s 6ms/step - loss: 5.3316 - val_loss: 5.1673\n",
            "Epoch 39/300\n",
            "25/25 [==============================] - 0s 5ms/step - loss: 5.5284 - val_loss: 5.2401\n",
            "Epoch 40/300\n",
            "25/25 [==============================] - 0s 5ms/step - loss: 5.5198 - val_loss: 5.1657\n",
            "Epoch 41/300\n",
            "25/25 [==============================] - 0s 5ms/step - loss: 5.3239 - val_loss: 5.1652\n",
            "Epoch 42/300\n",
            "25/25 [==============================] - 0s 5ms/step - loss: 5.3764 - val_loss: 5.1628\n",
            "Epoch 43/300\n",
            "25/25 [==============================] - 0s 5ms/step - loss: 5.3938 - val_loss: 5.8717\n",
            "Epoch 44/300\n",
            "25/25 [==============================] - 0s 5ms/step - loss: 5.4837 - val_loss: 5.3079\n",
            "Epoch 45/300\n",
            "25/25 [==============================] - 0s 5ms/step - loss: 5.4284 - val_loss: 5.4883\n",
            "Epoch 46/300\n",
            "25/25 [==============================] - 0s 5ms/step - loss: 5.3221 - val_loss: 5.1893\n",
            "Epoch 47/300\n",
            "25/25 [==============================] - 0s 5ms/step - loss: 5.4464 - val_loss: 5.1517\n",
            "Epoch 48/300\n",
            "25/25 [==============================] - 0s 6ms/step - loss: 5.3930 - val_loss: 5.0960\n",
            "Epoch 49/300\n",
            "25/25 [==============================] - 0s 5ms/step - loss: 5.2962 - val_loss: 5.0804\n",
            "Epoch 50/300\n",
            "25/25 [==============================] - 0s 5ms/step - loss: 5.3095 - val_loss: 5.1616\n",
            "Epoch 51/300\n",
            "25/25 [==============================] - 0s 5ms/step - loss: 5.3174 - val_loss: 5.1623\n",
            "Epoch 52/300\n",
            "25/25 [==============================] - 0s 6ms/step - loss: 5.4568 - val_loss: 5.1285\n",
            "Epoch 53/300\n",
            "25/25 [==============================] - 0s 5ms/step - loss: 5.3021 - val_loss: 5.1116\n",
            "Epoch 54/300\n",
            "25/25 [==============================] - 0s 5ms/step - loss: 5.3721 - val_loss: 5.1676\n",
            "Epoch 55/300\n",
            "25/25 [==============================] - 0s 5ms/step - loss: 5.3433 - val_loss: 5.0744\n",
            "Epoch 56/300\n",
            "25/25 [==============================] - 0s 5ms/step - loss: 5.3215 - val_loss: 5.1725\n",
            "Epoch 57/300\n",
            "25/25 [==============================] - 0s 5ms/step - loss: 5.2943 - val_loss: 5.1337\n",
            "Epoch 58/300\n",
            "25/25 [==============================] - 0s 5ms/step - loss: 5.2506 - val_loss: 5.0883\n",
            "Epoch 59/300\n",
            "25/25 [==============================] - 0s 5ms/step - loss: 5.2545 - val_loss: 5.2397\n",
            "Epoch 60/300\n",
            "25/25 [==============================] - 0s 5ms/step - loss: 5.3488 - val_loss: 5.2348\n",
            "Epoch 61/300\n",
            "25/25 [==============================] - 0s 5ms/step - loss: 5.3435 - val_loss: 5.0973\n",
            "Epoch 62/300\n",
            "25/25 [==============================] - 0s 6ms/step - loss: 5.3047 - val_loss: 5.1607\n",
            "Epoch 63/300\n",
            "25/25 [==============================] - 0s 5ms/step - loss: 5.2884 - val_loss: 5.1842\n",
            "Epoch 64/300\n",
            "25/25 [==============================] - 0s 3ms/step - loss: 5.2781 - val_loss: 5.0791\n",
            "Epoch 65/300\n",
            "25/25 [==============================] - 0s 3ms/step - loss: 5.3146 - val_loss: 5.4808\n",
            "Epoch 66/300\n",
            "25/25 [==============================] - 0s 3ms/step - loss: 5.3144 - val_loss: 5.5254\n",
            "Epoch 67/300\n",
            "25/25 [==============================] - 0s 3ms/step - loss: 5.2857 - val_loss: 5.1143\n",
            "Epoch 68/300\n",
            "25/25 [==============================] - 0s 4ms/step - loss: 5.3296 - val_loss: 5.0856\n",
            "Epoch 69/300\n",
            "25/25 [==============================] - 0s 4ms/step - loss: 5.3044 - val_loss: 5.2808\n",
            "Epoch 70/300\n",
            "25/25 [==============================] - 0s 4ms/step - loss: 5.4327 - val_loss: 5.2097\n",
            "Epoch 71/300\n",
            "25/25 [==============================] - 0s 3ms/step - loss: 5.3140 - val_loss: 5.2352\n",
            "Epoch 72/300\n",
            "25/25 [==============================] - 0s 3ms/step - loss: 5.3081 - val_loss: 5.0436\n",
            "Epoch 73/300\n",
            "25/25 [==============================] - 0s 3ms/step - loss: 5.2168 - val_loss: 5.0298\n",
            "Epoch 74/300\n",
            "25/25 [==============================] - 0s 3ms/step - loss: 5.2284 - val_loss: 5.1894\n",
            "Epoch 75/300\n",
            "25/25 [==============================] - 0s 4ms/step - loss: 5.2726 - val_loss: 5.0904\n",
            "Epoch 76/300\n",
            "25/25 [==============================] - 0s 3ms/step - loss: 5.2405 - val_loss: 5.0669\n",
            "Epoch 77/300\n",
            "25/25 [==============================] - 0s 4ms/step - loss: 5.2169 - val_loss: 5.0967\n",
            "Epoch 78/300\n",
            "25/25 [==============================] - 0s 4ms/step - loss: 5.3062 - val_loss: 5.1959\n",
            "Epoch 79/300\n",
            "25/25 [==============================] - 0s 3ms/step - loss: 5.2320 - val_loss: 5.0697\n",
            "Epoch 80/300\n",
            "25/25 [==============================] - 0s 4ms/step - loss: 5.2433 - val_loss: 5.3670\n",
            "Epoch 81/300\n",
            "25/25 [==============================] - 0s 4ms/step - loss: 5.3689 - val_loss: 5.1117\n",
            "Epoch 82/300\n",
            "25/25 [==============================] - 0s 3ms/step - loss: 5.2498 - val_loss: 5.1474\n",
            "Epoch 83/300\n",
            "25/25 [==============================] - 0s 3ms/step - loss: 5.1945 - val_loss: 5.1054\n",
            "Epoch 84/300\n",
            "25/25 [==============================] - 0s 3ms/step - loss: 5.2875 - val_loss: 5.0590\n",
            "Epoch 85/300\n",
            "25/25 [==============================] - 0s 3ms/step - loss: 5.2222 - val_loss: 5.0078\n",
            "Epoch 86/300\n",
            "25/25 [==============================] - 0s 4ms/step - loss: 5.1889 - val_loss: 5.0772\n",
            "Epoch 87/300\n",
            "25/25 [==============================] - 0s 3ms/step - loss: 5.2375 - val_loss: 5.4015\n",
            "Epoch 88/300\n",
            "25/25 [==============================] - 0s 4ms/step - loss: 5.2602 - val_loss: 5.0881\n",
            "Epoch 89/300\n",
            "25/25 [==============================] - 0s 3ms/step - loss: 5.2251 - val_loss: 5.1239\n",
            "Epoch 90/300\n",
            "25/25 [==============================] - 0s 4ms/step - loss: 5.2051 - val_loss: 5.1434\n",
            "Epoch 91/300\n",
            "25/25 [==============================] - 0s 4ms/step - loss: 5.3227 - val_loss: 5.0425\n",
            "Epoch 92/300\n",
            "25/25 [==============================] - 0s 4ms/step - loss: 5.2127 - val_loss: 5.0591\n",
            "Epoch 93/300\n",
            "25/25 [==============================] - 0s 4ms/step - loss: 5.1966 - val_loss: 5.1405\n",
            "Epoch 94/300\n",
            "25/25 [==============================] - 0s 4ms/step - loss: 5.2822 - val_loss: 5.1169\n",
            "Epoch 95/300\n",
            "25/25 [==============================] - 0s 3ms/step - loss: 5.2330 - val_loss: 5.0380\n",
            "Epoch 96/300\n",
            "25/25 [==============================] - 0s 3ms/step - loss: 5.2891 - val_loss: 5.1171\n",
            "Epoch 97/300\n",
            "25/25 [==============================] - 0s 3ms/step - loss: 5.2571 - val_loss: 5.1086\n",
            "Epoch 98/300\n",
            "25/25 [==============================] - 0s 4ms/step - loss: 5.2575 - val_loss: 5.0410\n",
            "Epoch 99/300\n",
            "25/25 [==============================] - 0s 3ms/step - loss: 5.2451 - val_loss: 5.0404\n",
            "Epoch 100/300\n",
            "25/25 [==============================] - 0s 3ms/step - loss: 5.1914 - val_loss: 5.0629\n",
            "Epoch 101/300\n",
            "25/25 [==============================] - 0s 3ms/step - loss: 5.1778 - val_loss: 5.0123\n",
            "Epoch 102/300\n",
            "25/25 [==============================] - 0s 4ms/step - loss: 5.2140 - val_loss: 5.2285\n",
            "Epoch 103/300\n",
            "25/25 [==============================] - 0s 3ms/step - loss: 5.2461 - val_loss: 4.9989\n",
            "Epoch 104/300\n",
            "25/25 [==============================] - 0s 4ms/step - loss: 5.1859 - val_loss: 5.0039\n",
            "Epoch 105/300\n",
            "25/25 [==============================] - 0s 4ms/step - loss: 5.2143 - val_loss: 5.1141\n",
            "Epoch 106/300\n",
            "25/25 [==============================] - 0s 4ms/step - loss: 5.2948 - val_loss: 5.1076\n",
            "Epoch 107/300\n",
            "25/25 [==============================] - 0s 3ms/step - loss: 5.2984 - val_loss: 5.2479\n",
            "Epoch 108/300\n",
            "25/25 [==============================] - 0s 3ms/step - loss: 5.1785 - val_loss: 5.0904\n",
            "Epoch 109/300\n",
            "25/25 [==============================] - 0s 3ms/step - loss: 5.1782 - val_loss: 5.0011\n",
            "Epoch 110/300\n",
            "25/25 [==============================] - 0s 3ms/step - loss: 5.1983 - val_loss: 5.2149\n",
            "Epoch 111/300\n",
            "25/25 [==============================] - 0s 4ms/step - loss: 5.1957 - val_loss: 5.3260\n",
            "Epoch 112/300\n",
            "25/25 [==============================] - 0s 3ms/step - loss: 5.3187 - val_loss: 5.0266\n",
            "Epoch 113/300\n",
            "25/25 [==============================] - 0s 4ms/step - loss: 5.2239 - val_loss: 5.0203\n",
            "Epoch 114/300\n",
            "25/25 [==============================] - 0s 3ms/step - loss: 5.1403 - val_loss: 5.0255\n",
            "Epoch 115/300\n",
            "25/25 [==============================] - 0s 3ms/step - loss: 5.1616 - val_loss: 5.1315\n",
            "Epoch 116/300\n",
            "25/25 [==============================] - 0s 4ms/step - loss: 5.1565 - val_loss: 5.0378\n",
            "Epoch 117/300\n",
            "25/25 [==============================] - 0s 4ms/step - loss: 5.1699 - val_loss: 4.9525\n",
            "Epoch 118/300\n",
            "25/25 [==============================] - 0s 3ms/step - loss: 5.1654 - val_loss: 5.0192\n",
            "Epoch 119/300\n",
            "25/25 [==============================] - 0s 4ms/step - loss: 5.1780 - val_loss: 4.9562\n",
            "Epoch 120/300\n",
            "25/25 [==============================] - 0s 4ms/step - loss: 5.1262 - val_loss: 4.9613\n",
            "Epoch 121/300\n",
            "25/25 [==============================] - 0s 3ms/step - loss: 5.1724 - val_loss: 5.0703\n",
            "Epoch 122/300\n",
            "25/25 [==============================] - 0s 3ms/step - loss: 5.1657 - val_loss: 4.9877\n",
            "Epoch 123/300\n",
            "25/25 [==============================] - 0s 3ms/step - loss: 5.2170 - val_loss: 5.1297\n",
            "Epoch 124/300\n",
            "25/25 [==============================] - 0s 3ms/step - loss: 5.1653 - val_loss: 4.9858\n",
            "Epoch 125/300\n",
            "25/25 [==============================] - 0s 4ms/step - loss: 5.2745 - val_loss: 5.8120\n",
            "Epoch 126/300\n",
            "25/25 [==============================] - 0s 3ms/step - loss: 5.1553 - val_loss: 5.1860\n",
            "Epoch 127/300\n",
            "25/25 [==============================] - 0s 3ms/step - loss: 5.1931 - val_loss: 5.1261\n",
            "Epoch 128/300\n",
            "25/25 [==============================] - 0s 4ms/step - loss: 5.1467 - val_loss: 4.9492\n",
            "Epoch 129/300\n",
            "25/25 [==============================] - 0s 4ms/step - loss: 5.1907 - val_loss: 4.9356\n",
            "Epoch 130/300\n",
            "25/25 [==============================] - 0s 4ms/step - loss: 5.2946 - val_loss: 5.0137\n",
            "Epoch 131/300\n",
            "25/25 [==============================] - 0s 6ms/step - loss: 5.1307 - val_loss: 5.0073\n",
            "Epoch 132/300\n",
            "25/25 [==============================] - 0s 6ms/step - loss: 5.1727 - val_loss: 4.9930\n",
            "Epoch 133/300\n",
            "25/25 [==============================] - 0s 5ms/step - loss: 5.1262 - val_loss: 5.0819\n",
            "Epoch 134/300\n",
            "25/25 [==============================] - 0s 6ms/step - loss: 5.1732 - val_loss: 4.9605\n",
            "Epoch 135/300\n",
            "25/25 [==============================] - 0s 6ms/step - loss: 5.1628 - val_loss: 5.1002\n",
            "Epoch 136/300\n",
            "25/25 [==============================] - 0s 5ms/step - loss: 5.1147 - val_loss: 4.9471\n",
            "Epoch 137/300\n",
            "25/25 [==============================] - 0s 5ms/step - loss: 5.1067 - val_loss: 4.9341\n",
            "Epoch 138/300\n",
            "25/25 [==============================] - 0s 5ms/step - loss: 5.1126 - val_loss: 5.0009\n",
            "Epoch 139/300\n",
            "25/25 [==============================] - 0s 7ms/step - loss: 5.1177 - val_loss: 4.9363\n",
            "Epoch 140/300\n",
            "25/25 [==============================] - 0s 7ms/step - loss: 5.1444 - val_loss: 4.9716\n",
            "Epoch 141/300\n",
            "25/25 [==============================] - 0s 6ms/step - loss: 5.1374 - val_loss: 5.0755\n",
            "Epoch 142/300\n",
            "25/25 [==============================] - 0s 6ms/step - loss: 5.2256 - val_loss: 4.9414\n",
            "Epoch 143/300\n",
            "25/25 [==============================] - 0s 6ms/step - loss: 5.1432 - val_loss: 5.1072\n",
            "Epoch 144/300\n",
            "25/25 [==============================] - 0s 5ms/step - loss: 5.1300 - val_loss: 5.0787\n",
            "Epoch 145/300\n",
            "25/25 [==============================] - 0s 6ms/step - loss: 5.1648 - val_loss: 4.9340\n",
            "Epoch 146/300\n",
            "25/25 [==============================] - 0s 5ms/step - loss: 5.1707 - val_loss: 4.9714\n",
            "Epoch 147/300\n",
            "25/25 [==============================] - 0s 7ms/step - loss: 5.0648 - val_loss: 4.9067\n",
            "Epoch 148/300\n",
            "25/25 [==============================] - 0s 9ms/step - loss: 5.1065 - val_loss: 4.9010\n",
            "Epoch 149/300\n",
            "25/25 [==============================] - 0s 8ms/step - loss: 5.0961 - val_loss: 5.0125\n",
            "Epoch 150/300\n",
            "25/25 [==============================] - 0s 9ms/step - loss: 5.1045 - val_loss: 4.9283\n",
            "Epoch 151/300\n",
            "25/25 [==============================] - 0s 11ms/step - loss: 5.0900 - val_loss: 4.9460\n",
            "Epoch 152/300\n",
            "25/25 [==============================] - 0s 9ms/step - loss: 5.0505 - val_loss: 4.9065\n",
            "Epoch 153/300\n",
            "25/25 [==============================] - 0s 12ms/step - loss: 5.1616 - val_loss: 4.9374\n",
            "Epoch 154/300\n",
            "25/25 [==============================] - 0s 10ms/step - loss: 5.0548 - val_loss: 5.0242\n",
            "Epoch 155/300\n",
            "25/25 [==============================] - 0s 11ms/step - loss: 5.3321 - val_loss: 5.0567\n",
            "Epoch 156/300\n",
            "25/25 [==============================] - 0s 12ms/step - loss: 5.2595 - val_loss: 5.2241\n",
            "Epoch 157/300\n",
            "25/25 [==============================] - 0s 8ms/step - loss: 5.1883 - val_loss: 4.9063\n",
            "Epoch 158/300\n",
            "25/25 [==============================] - 0s 9ms/step - loss: 5.0887 - val_loss: 4.8913\n",
            "Epoch 159/300\n",
            "25/25 [==============================] - 0s 10ms/step - loss: 5.0786 - val_loss: 4.8760\n",
            "Epoch 160/300\n",
            "25/25 [==============================] - 0s 9ms/step - loss: 5.0518 - val_loss: 4.9410\n",
            "Epoch 161/300\n",
            "25/25 [==============================] - 0s 10ms/step - loss: 5.2404 - val_loss: 5.0470\n",
            "Epoch 162/300\n",
            "25/25 [==============================] - 0s 10ms/step - loss: 5.2546 - val_loss: 5.2389\n",
            "Epoch 163/300\n",
            "25/25 [==============================] - 0s 7ms/step - loss: 5.1324 - val_loss: 4.9437\n",
            "Epoch 164/300\n",
            "25/25 [==============================] - 0s 10ms/step - loss: 5.1303 - val_loss: 5.2101\n",
            "Epoch 165/300\n",
            "25/25 [==============================] - 0s 8ms/step - loss: 5.1918 - val_loss: 4.8909\n",
            "Epoch 166/300\n",
            "25/25 [==============================] - 0s 9ms/step - loss: 5.0993 - val_loss: 4.8936\n",
            "Epoch 167/300\n",
            "25/25 [==============================] - 0s 10ms/step - loss: 5.2002 - val_loss: 5.0577\n",
            "Epoch 168/300\n",
            "25/25 [==============================] - 0s 8ms/step - loss: 5.0691 - val_loss: 4.8922\n",
            "Epoch 169/300\n",
            "25/25 [==============================] - 0s 5ms/step - loss: 5.0456 - val_loss: 5.0042\n",
            "Epoch 170/300\n",
            "25/25 [==============================] - 0s 4ms/step - loss: 5.1099 - val_loss: 4.9317\n",
            "Epoch 171/300\n",
            "25/25 [==============================] - 0s 3ms/step - loss: 5.0800 - val_loss: 4.8849\n",
            "Epoch 172/300\n",
            "25/25 [==============================] - 0s 5ms/step - loss: 5.0390 - val_loss: 4.8971\n",
            "Epoch 173/300\n",
            "25/25 [==============================] - 0s 6ms/step - loss: 5.0403 - val_loss: 4.9928\n",
            "Epoch 174/300\n",
            "25/25 [==============================] - 0s 6ms/step - loss: 5.1164 - val_loss: 4.8636\n",
            "Epoch 175/300\n",
            "25/25 [==============================] - 0s 6ms/step - loss: 5.1404 - val_loss: 4.8719\n",
            "Epoch 176/300\n",
            "25/25 [==============================] - 0s 5ms/step - loss: 5.0931 - val_loss: 4.9231\n",
            "Epoch 177/300\n",
            "25/25 [==============================] - 0s 7ms/step - loss: 5.0869 - val_loss: 5.1570\n",
            "Epoch 178/300\n",
            "25/25 [==============================] - 0s 5ms/step - loss: 5.1181 - val_loss: 4.8644\n",
            "Epoch 179/300\n",
            "25/25 [==============================] - 0s 4ms/step - loss: 5.0412 - val_loss: 4.9000\n",
            "Epoch 180/300\n",
            "25/25 [==============================] - 0s 4ms/step - loss: 5.0400 - val_loss: 4.9563\n",
            "Epoch 181/300\n",
            "25/25 [==============================] - 0s 4ms/step - loss: 5.0573 - val_loss: 4.8676\n",
            "Epoch 182/300\n",
            "25/25 [==============================] - 0s 8ms/step - loss: 4.9768 - val_loss: 4.8802\n",
            "Epoch 183/300\n",
            "25/25 [==============================] - 0s 10ms/step - loss: 5.0540 - val_loss: 4.8926\n",
            "Epoch 184/300\n",
            "25/25 [==============================] - 0s 6ms/step - loss: 5.0434 - val_loss: 4.8825\n",
            "Epoch 185/300\n",
            "25/25 [==============================] - 0s 7ms/step - loss: 5.0187 - val_loss: 4.9849\n",
            "Epoch 186/300\n",
            "25/25 [==============================] - 0s 10ms/step - loss: 5.0345 - val_loss: 4.8856\n",
            "Epoch 187/300\n",
            "25/25 [==============================] - 0s 7ms/step - loss: 5.0966 - val_loss: 4.9093\n",
            "Epoch 188/300\n",
            "25/25 [==============================] - 0s 9ms/step - loss: 5.0128 - val_loss: 4.9069\n",
            "Epoch 189/300\n",
            "25/25 [==============================] - 0s 8ms/step - loss: 5.0269 - val_loss: 4.9110\n",
            "Epoch 190/300\n",
            "25/25 [==============================] - 0s 11ms/step - loss: 4.9789 - val_loss: 4.8526\n",
            "Epoch 191/300\n",
            "25/25 [==============================] - 0s 7ms/step - loss: 5.0160 - val_loss: 4.8877\n",
            "Epoch 192/300\n",
            "25/25 [==============================] - 0s 8ms/step - loss: 4.9976 - val_loss: 4.8660\n",
            "Epoch 193/300\n",
            "25/25 [==============================] - 0s 5ms/step - loss: 4.9950 - val_loss: 4.9682\n",
            "Epoch 194/300\n",
            "25/25 [==============================] - 0s 6ms/step - loss: 5.0672 - val_loss: 4.9164\n",
            "Epoch 195/300\n",
            "25/25 [==============================] - 0s 7ms/step - loss: 5.0200 - val_loss: 4.8911\n",
            "Epoch 196/300\n",
            "25/25 [==============================] - 0s 8ms/step - loss: 4.9582 - val_loss: 4.9091\n",
            "Epoch 197/300\n",
            "25/25 [==============================] - 0s 8ms/step - loss: 4.9750 - val_loss: 4.8379\n",
            "Epoch 198/300\n",
            "25/25 [==============================] - 0s 6ms/step - loss: 4.9204 - val_loss: 4.9636\n",
            "Epoch 199/300\n",
            "25/25 [==============================] - 0s 8ms/step - loss: 4.9408 - val_loss: 4.8766\n",
            "Epoch 200/300\n",
            "25/25 [==============================] - 0s 11ms/step - loss: 5.0097 - val_loss: 5.0258\n",
            "Epoch 201/300\n",
            "25/25 [==============================] - 0s 10ms/step - loss: 5.0522 - val_loss: 4.9635\n",
            "Epoch 202/300\n",
            "25/25 [==============================] - 0s 8ms/step - loss: 4.9568 - val_loss: 4.8461\n",
            "Epoch 203/300\n",
            "25/25 [==============================] - 0s 9ms/step - loss: 4.9436 - val_loss: 4.8571\n",
            "Epoch 204/300\n",
            "25/25 [==============================] - 0s 7ms/step - loss: 5.0741 - val_loss: 4.8215\n",
            "Epoch 205/300\n",
            "25/25 [==============================] - 0s 9ms/step - loss: 4.9124 - val_loss: 4.8642\n",
            "Epoch 206/300\n",
            "25/25 [==============================] - 0s 9ms/step - loss: 4.9205 - val_loss: 4.8167\n",
            "Epoch 207/300\n",
            "25/25 [==============================] - 0s 5ms/step - loss: 4.9740 - val_loss: 4.8174\n",
            "Epoch 208/300\n",
            "25/25 [==============================] - 0s 6ms/step - loss: 4.9947 - val_loss: 4.8244\n",
            "Epoch 209/300\n",
            "25/25 [==============================] - 0s 5ms/step - loss: 4.9680 - val_loss: 4.8112\n",
            "Epoch 210/300\n",
            "25/25 [==============================] - 0s 8ms/step - loss: 4.9112 - val_loss: 4.8436\n",
            "Epoch 211/300\n",
            "25/25 [==============================] - 0s 9ms/step - loss: 4.9057 - val_loss: 4.8241\n",
            "Epoch 212/300\n",
            "25/25 [==============================] - 0s 9ms/step - loss: 4.9380 - val_loss: 5.0505\n",
            "Epoch 213/300\n",
            "25/25 [==============================] - 0s 9ms/step - loss: 4.9882 - val_loss: 4.9426\n",
            "Epoch 214/300\n",
            "25/25 [==============================] - 0s 9ms/step - loss: 5.1232 - val_loss: 5.1023\n",
            "Epoch 215/300\n",
            "25/25 [==============================] - 0s 8ms/step - loss: 4.9417 - val_loss: 4.8553\n",
            "Epoch 216/300\n",
            "25/25 [==============================] - 0s 11ms/step - loss: 4.9468 - val_loss: 4.8232\n",
            "Epoch 217/300\n",
            "25/25 [==============================] - 0s 9ms/step - loss: 4.9126 - val_loss: 4.8997\n",
            "Epoch 218/300\n",
            "25/25 [==============================] - 0s 13ms/step - loss: 5.0321 - val_loss: 4.8471\n",
            "Epoch 219/300\n",
            "25/25 [==============================] - 0s 6ms/step - loss: 4.9049 - val_loss: 4.8135\n",
            "Epoch 220/300\n",
            "25/25 [==============================] - 0s 4ms/step - loss: 4.8568 - val_loss: 4.7898\n",
            "Epoch 221/300\n",
            "25/25 [==============================] - 0s 3ms/step - loss: 4.8288 - val_loss: 4.8573\n",
            "Epoch 222/300\n",
            "25/25 [==============================] - 0s 5ms/step - loss: 4.9868 - val_loss: 4.8653\n",
            "Epoch 223/300\n",
            "25/25 [==============================] - 0s 4ms/step - loss: 4.9630 - val_loss: 4.8584\n",
            "Epoch 224/300\n",
            "25/25 [==============================] - 0s 3ms/step - loss: 4.8632 - val_loss: 4.7796\n",
            "Epoch 225/300\n",
            "25/25 [==============================] - 0s 6ms/step - loss: 4.9195 - val_loss: 4.7716\n",
            "Epoch 226/300\n",
            "25/25 [==============================] - 0s 5ms/step - loss: 4.8459 - val_loss: 4.8231\n",
            "Epoch 227/300\n",
            "25/25 [==============================] - 0s 6ms/step - loss: 4.8648 - val_loss: 4.7832\n",
            "Epoch 228/300\n",
            "25/25 [==============================] - 0s 5ms/step - loss: 4.8475 - val_loss: 4.9239\n",
            "Epoch 229/300\n",
            "25/25 [==============================] - 0s 7ms/step - loss: 4.9675 - val_loss: 5.7241\n",
            "Epoch 230/300\n",
            "25/25 [==============================] - 0s 6ms/step - loss: 5.3218 - val_loss: 4.8502\n",
            "Epoch 231/300\n",
            "25/25 [==============================] - 0s 5ms/step - loss: 4.9079 - val_loss: 4.8585\n",
            "Epoch 232/300\n",
            "25/25 [==============================] - 0s 5ms/step - loss: 4.8937 - val_loss: 4.7657\n",
            "Epoch 233/300\n",
            "25/25 [==============================] - 0s 5ms/step - loss: 4.9528 - val_loss: 5.2416\n",
            "Epoch 234/300\n",
            "25/25 [==============================] - 0s 5ms/step - loss: 5.3537 - val_loss: 5.1895\n",
            "Epoch 235/300\n",
            "25/25 [==============================] - 0s 6ms/step - loss: 4.9885 - val_loss: 4.8857\n",
            "Epoch 236/300\n",
            "25/25 [==============================] - 0s 5ms/step - loss: 5.0227 - val_loss: 4.9042\n",
            "Epoch 237/300\n",
            "25/25 [==============================] - 0s 6ms/step - loss: 4.8813 - val_loss: 5.1668\n",
            "Epoch 238/300\n",
            "25/25 [==============================] - 0s 5ms/step - loss: 4.8484 - val_loss: 4.8512\n",
            "Epoch 239/300\n",
            "25/25 [==============================] - 0s 5ms/step - loss: 4.8726 - val_loss: 4.8450\n",
            "Epoch 240/300\n",
            "25/25 [==============================] - 0s 7ms/step - loss: 4.9064 - val_loss: 4.9655\n",
            "Epoch 241/300\n",
            "25/25 [==============================] - 0s 6ms/step - loss: 4.8456 - val_loss: 4.7866\n",
            "Epoch 242/300\n",
            "25/25 [==============================] - 0s 4ms/step - loss: 4.8821 - val_loss: 4.8273\n",
            "Epoch 243/300\n",
            "25/25 [==============================] - 0s 4ms/step - loss: 4.8989 - val_loss: 4.7769\n",
            "Epoch 244/300\n",
            "25/25 [==============================] - 0s 5ms/step - loss: 4.8728 - val_loss: 4.8002\n",
            "Epoch 245/300\n",
            "25/25 [==============================] - 0s 6ms/step - loss: 4.8491 - val_loss: 4.9562\n",
            "Epoch 246/300\n",
            "25/25 [==============================] - 0s 7ms/step - loss: 4.8935 - val_loss: 4.7886\n",
            "Epoch 247/300\n",
            "25/25 [==============================] - 0s 6ms/step - loss: 4.8258 - val_loss: 4.8800\n",
            "Epoch 248/300\n",
            "25/25 [==============================] - 0s 6ms/step - loss: 4.7835 - val_loss: 4.7869\n",
            "Epoch 249/300\n",
            "25/25 [==============================] - 0s 5ms/step - loss: 4.8212 - val_loss: 4.7623\n",
            "Epoch 250/300\n",
            "25/25 [==============================] - 0s 6ms/step - loss: 4.9070 - val_loss: 4.7862\n",
            "Epoch 251/300\n",
            "25/25 [==============================] - 0s 5ms/step - loss: 4.7797 - val_loss: 4.7823\n",
            "Epoch 252/300\n",
            "25/25 [==============================] - 0s 7ms/step - loss: 4.8465 - val_loss: 4.7970\n",
            "Epoch 253/300\n",
            "25/25 [==============================] - 0s 7ms/step - loss: 4.8307 - val_loss: 4.8568\n",
            "Epoch 254/300\n",
            "25/25 [==============================] - 0s 8ms/step - loss: 4.7931 - val_loss: 4.8482\n",
            "Epoch 255/300\n",
            "25/25 [==============================] - 0s 6ms/step - loss: 4.8392 - val_loss: 4.8220\n",
            "Epoch 256/300\n",
            "25/25 [==============================] - 0s 7ms/step - loss: 4.8604 - val_loss: 4.7696\n",
            "Epoch 257/300\n",
            "25/25 [==============================] - 0s 6ms/step - loss: 4.8687 - val_loss: 4.9092\n",
            "Epoch 258/300\n",
            "25/25 [==============================] - 0s 6ms/step - loss: 4.8252 - val_loss: 4.8717\n",
            "Epoch 259/300\n",
            "25/25 [==============================] - 0s 5ms/step - loss: 4.7630 - val_loss: 4.9390\n",
            "Epoch 260/300\n",
            "25/25 [==============================] - 0s 6ms/step - loss: 4.7759 - val_loss: 4.7426\n",
            "Epoch 261/300\n",
            "25/25 [==============================] - 0s 6ms/step - loss: 4.7936 - val_loss: 4.7671\n",
            "Epoch 262/300\n",
            "25/25 [==============================] - 0s 6ms/step - loss: 4.7457 - val_loss: 4.7751\n",
            "Epoch 263/300\n",
            "25/25 [==============================] - 0s 5ms/step - loss: 4.8090 - val_loss: 4.7748\n",
            "Epoch 264/300\n",
            "25/25 [==============================] - 0s 5ms/step - loss: 4.7709 - val_loss: 4.8943\n",
            "Epoch 265/300\n",
            "25/25 [==============================] - 0s 5ms/step - loss: 4.7655 - val_loss: 4.7922\n",
            "Epoch 266/300\n",
            "25/25 [==============================] - 0s 6ms/step - loss: 4.7739 - val_loss: 5.0334\n",
            "Epoch 267/300\n",
            "25/25 [==============================] - 0s 5ms/step - loss: 4.8185 - val_loss: 4.8254\n",
            "Epoch 268/300\n",
            "25/25 [==============================] - 0s 5ms/step - loss: 4.7281 - val_loss: 4.8747\n",
            "Epoch 269/300\n",
            "25/25 [==============================] - 0s 5ms/step - loss: 4.8583 - val_loss: 4.8159\n",
            "Epoch 270/300\n",
            "25/25 [==============================] - 0s 8ms/step - loss: 4.7200 - val_loss: 4.7505\n",
            "Epoch 271/300\n",
            "25/25 [==============================] - 0s 6ms/step - loss: 4.7775 - val_loss: 4.7410\n",
            "Epoch 272/300\n",
            "25/25 [==============================] - 0s 7ms/step - loss: 4.7471 - val_loss: 4.8480\n",
            "Epoch 273/300\n",
            "25/25 [==============================] - 0s 6ms/step - loss: 4.6943 - val_loss: 4.7921\n",
            "Epoch 274/300\n",
            "25/25 [==============================] - 0s 5ms/step - loss: 4.6843 - val_loss: 4.7570\n",
            "Epoch 275/300\n",
            "25/25 [==============================] - 0s 7ms/step - loss: 4.7398 - val_loss: 4.7775\n",
            "Epoch 276/300\n",
            "25/25 [==============================] - 0s 8ms/step - loss: 4.7007 - val_loss: 4.8014\n",
            "Epoch 277/300\n",
            "25/25 [==============================] - 0s 6ms/step - loss: 4.6572 - val_loss: 4.9718\n",
            "Epoch 278/300\n",
            "25/25 [==============================] - 0s 5ms/step - loss: 4.6674 - val_loss: 5.6769\n",
            "Epoch 279/300\n",
            "25/25 [==============================] - 0s 6ms/step - loss: 4.9039 - val_loss: 4.9095\n",
            "Epoch 280/300\n",
            "25/25 [==============================] - 0s 6ms/step - loss: 4.8116 - val_loss: 4.7405\n",
            "Epoch 281/300\n",
            "25/25 [==============================] - 0s 5ms/step - loss: 4.7341 - val_loss: 5.6422\n",
            "Epoch 282/300\n",
            "25/25 [==============================] - 0s 6ms/step - loss: 4.9884 - val_loss: 4.7442\n",
            "Epoch 283/300\n",
            "25/25 [==============================] - 0s 5ms/step - loss: 4.8117 - val_loss: 5.1310\n",
            "Epoch 284/300\n",
            "25/25 [==============================] - 0s 5ms/step - loss: 4.8216 - val_loss: 4.7381\n",
            "Epoch 285/300\n",
            "25/25 [==============================] - 0s 5ms/step - loss: 4.7527 - val_loss: 4.9197\n",
            "Epoch 286/300\n",
            "25/25 [==============================] - 0s 5ms/step - loss: 4.7621 - val_loss: 4.7625\n",
            "Epoch 287/300\n",
            "25/25 [==============================] - 0s 6ms/step - loss: 4.6914 - val_loss: 4.7297\n",
            "Epoch 288/300\n",
            "25/25 [==============================] - 0s 7ms/step - loss: 4.7090 - val_loss: 4.7139\n",
            "Epoch 289/300\n",
            "25/25 [==============================] - 0s 8ms/step - loss: 4.6904 - val_loss: 4.7383\n",
            "Epoch 290/300\n",
            "25/25 [==============================] - 0s 6ms/step - loss: 4.6938 - val_loss: 4.7367\n",
            "Epoch 291/300\n",
            "25/25 [==============================] - 0s 6ms/step - loss: 4.6718 - val_loss: 4.8093\n",
            "Epoch 292/300\n",
            "25/25 [==============================] - 0s 6ms/step - loss: 4.6983 - val_loss: 4.8822\n",
            "Epoch 293/300\n",
            "25/25 [==============================] - 0s 5ms/step - loss: 4.7550 - val_loss: 4.8388\n",
            "Epoch 294/300\n",
            "25/25 [==============================] - 0s 6ms/step - loss: 4.7780 - val_loss: 4.7895\n",
            "Epoch 295/300\n",
            "25/25 [==============================] - 0s 5ms/step - loss: 4.6693 - val_loss: 4.8092\n",
            "Epoch 296/300\n",
            "25/25 [==============================] - 0s 7ms/step - loss: 4.6619 - val_loss: 4.7330\n",
            "Epoch 297/300\n",
            "25/25 [==============================] - 0s 6ms/step - loss: 4.7584 - val_loss: 4.7254\n",
            "Epoch 298/300\n",
            "25/25 [==============================] - 0s 5ms/step - loss: 4.7324 - val_loss: 4.7203\n",
            "Epoch 299/300\n",
            "25/25 [==============================] - 0s 5ms/step - loss: 4.7774 - val_loss: 4.9177\n",
            "Epoch 300/300\n",
            "25/25 [==============================] - 0s 5ms/step - loss: 4.7042 - val_loss: 4.7948\n"
          ]
        }
      ]
    },
    {
      "cell_type": "markdown",
      "source": [
        "##Evaluate for the test set"
      ],
      "metadata": {
        "id": "X6B0pEN0EYwg"
      }
    },
    {
      "cell_type": "code",
      "source": [
        "#Predict for Test set\n",
        "ypred = model.predict(X_test)"
      ],
      "metadata": {
        "id": "kejZ8WeMmUEO"
      },
      "execution_count": null,
      "outputs": []
    },
    {
      "cell_type": "code",
      "source": [
        "#Median absolute error for the CNN\n",
        "median_absolute_error(y_test, ypred)"
      ],
      "metadata": {
        "colab": {
          "base_uri": "https://localhost:8080/"
        },
        "id": "pga569npmqyn",
        "outputId": "7c229ec0-3237-47c7-fa04-619e5b7efe65"
      },
      "execution_count": null,
      "outputs": [
        {
          "output_type": "execute_result",
          "data": {
            "text/plain": [
              "4.1228829193115235"
            ]
          },
          "metadata": {},
          "execution_count": 259
        }
      ]
    },
    {
      "cell_type": "code",
      "source": [
        "#Nean absolute error for the CNN\n",
        "mean_absolute_error(y_test, ypred)"
      ],
      "metadata": {
        "colab": {
          "base_uri": "https://localhost:8080/"
        },
        "id": "ypF7qIsFmtK3",
        "outputId": "e5e63037-cc7a-4828-d6f9-3eb927d4b53c"
      },
      "execution_count": null,
      "outputs": [
        {
          "output_type": "execute_result",
          "data": {
            "text/plain": [
              "4.757785089492798"
            ]
          },
          "metadata": {},
          "execution_count": 260
        }
      ]
    },
    {
      "cell_type": "markdown",
      "source": [
        "#Federated learning with GCN"
      ],
      "metadata": {
        "id": "b4cPOtLG1Dzc"
      }
    },
    {
      "cell_type": "markdown",
      "source": [
        "##Prepare dataset for each client"
      ],
      "metadata": {
        "id": "on-saKIrE1az"
      }
    },
    {
      "cell_type": "code",
      "source": [
        "#Create multiple train_loader for different clients\n",
        "for i in range(0, 6):\n",
        "\n",
        "  ran = random.randint(0,175)\n",
        "  globals()['train_data_'+str(i)] = data_list[ran:ran+25]\n"
      ],
      "metadata": {
        "id": "1e-Nl80JZe8Y"
      },
      "execution_count": null,
      "outputs": []
    },
    {
      "cell_type": "code",
      "source": [
        "for i in range(0,6):\n",
        "\n",
        "  globals()['train_loader_'+str(i)] = DataLoader((globals()['train_data_'+str(i)]), batch_size=10, shuffle=False)"
      ],
      "metadata": {
        "colab": {
          "base_uri": "https://localhost:8080/"
        },
        "id": "g0st3NYrZbKN",
        "outputId": "b8384a13-9318-44b6-b527-70888e5381d7"
      },
      "execution_count": null,
      "outputs": [
        {
          "output_type": "stream",
          "name": "stderr",
          "text": [
            "/usr/local/lib/python3.7/dist-packages/torch_geometric/deprecation.py:12: UserWarning: 'data.DataLoader' is deprecated, use 'loader.DataLoader' instead\n",
            "  warnings.warn(out)\n"
          ]
        }
      ]
    },
    {
      "cell_type": "markdown",
      "source": [
        "##Initialise FL parameters"
      ],
      "metadata": {
        "id": "dBe7o0PqGG6E"
      }
    },
    {
      "cell_type": "code",
      "source": [
        "#FL parameters\n",
        "num_clients = 10\n",
        "num_selected = 6\n",
        "num_rounds = 150\n",
        "epochs = 50\n",
        "batch_size = 10"
      ],
      "metadata": {
        "id": "1_WdRwvU1OWL"
      },
      "execution_count": null,
      "outputs": []
    },
    {
      "cell_type": "markdown",
      "source": [
        "##Initialise Global model"
      ],
      "metadata": {
        "id": "kqQPRZ7PGe06"
      }
    },
    {
      "cell_type": "code",
      "source": [
        "#GCN Architecture\n",
        "class GCN(torch.nn.Module):\n",
        "    def __init__(self, hidden_channels):\n",
        "        super(GCN, self).__init__()\n",
        "        torch.manual_seed(12345)\n",
        "        \n",
        "        self.conv1 = GATConv(2, 256)\n",
        "        #self.conv2 = GATConv(256, 128)\n",
        "        # self.conv3 = GCNConv(128, 56)\n",
        "        # self.conv4 = GCNConv(56, 28)\n",
        "        #self.conv3 = GCNConv(data.num_features, 32)\n",
        "        \n",
        "        #self.linear1 = torch.nn.Linear(128,64)\n",
        "        self.conv3 = GCNConv(256,128)\n",
        "        self.linear1 = torch.nn.Linear(128,64)\n",
        "        self.linear2 = torch.nn.Linear(64,1)\n",
        "        #self.linear3 = torch.nn.Linear(32,1)\n",
        "    def forward(self, x, edge_index):\n",
        "        x = self.conv1(x, edge_index)\n",
        "        x = x.relu()\n",
        "        x = F.dropout(x, p=0.5, training=self.training)\n",
        "        #x = self.conv2(x, edge_index)\n",
        "        #x = x.relu()\n",
        "        #x = torch.flatten(x)\n",
        "        # x = self.conv2(x, edge_index)\n",
        "        # x = x.relu()\n",
        "        # x = self.conv3(x, edge_index)\n",
        "        # x = x.relu()\n",
        "        # x = self.conv4(x, edge_index)\n",
        "        # x = x.relu()\n",
        "        # x = self.conv2(x, edge_index)\n",
        "        # x = x.relu()\n",
        "        # x = self.linear1(x)\n",
        "        # x = x.relu()\n",
        "        x = self.conv3(x, edge_index)\n",
        "        x = x.relu()\n",
        "        x = self.linear1(x)\n",
        "        #x= x.relu()\n",
        "        x = self.linear2(x)\n",
        "        # x = self.linear3(x)\n",
        "        #x= x.relu()\n",
        "        \n",
        "        return x"
      ],
      "metadata": {
        "id": "EqbBo35v1V2D"
      },
      "execution_count": null,
      "outputs": []
    },
    {
      "cell_type": "markdown",
      "source": [
        "##Train model"
      ],
      "metadata": {
        "id": "l7KRk4brGlNx"
      }
    },
    {
      "cell_type": "code",
      "source": [
        "#Train client model on client data\n",
        "def client_update(client_model, optimizer, train_loader, epoch):\n",
        "    \"\"\"\n",
        "    This function updates/trains client model on client data\n",
        "    \"\"\"\n",
        "    model.train()\n",
        "    for e in range(epoch):\n",
        "        for data in train_loader:\n",
        "          total_loss = 0\n",
        "          opt.zero_grad()\n",
        "          data.x = data.x.to(device, dtype = torch.float)\n",
        "          data.y = data.y.to(device, dtype = torch.float)\n",
        "          pred = model(data.x, data.edge_index)\n",
        "          loss = F.mse_loss(pred.squeeze(), data.y.squeeze())\n",
        "          #total_loss += loss.item() * data.num_graphs\n",
        "    \n",
        "          loss.backward()\n",
        "          opt.step()\n",
        "    return loss.item()"
      ],
      "metadata": {
        "id": "4PaCuj1o13vO"
      },
      "execution_count": null,
      "outputs": []
    },
    {
      "cell_type": "code",
      "source": [
        "#Fedaveraging\n",
        "def server_aggregate(global_model, client_models):\n",
        "    \"\"\"\n",
        "    This function has aggregation method 'mean'\n",
        "    \"\"\"\n",
        "    ### This will take simple mean of the weights of models ###\n",
        "    global_dict = global_model.state_dict()\n",
        "    for k in global_dict.keys():\n",
        "      global_dict[k] = torch.stack([client_models[i].state_dict()[k].float() for i in range(len(client_models))], 0).mean(0)\n",
        "      global_model.load_state_dict(global_dict)\n",
        "    for model in client_models:\n",
        "      model.load_state_dict(global_model.state_dict())"
      ],
      "metadata": {
        "id": "91I9AvVO4LvZ"
      },
      "execution_count": null,
      "outputs": []
    },
    {
      "cell_type": "code",
      "source": [
        "#Define global model\n",
        "device = torch.device('cuda' if torch.cuda.is_available() else 'cpu')\n",
        "global_model = GCN(256).to(device)"
      ],
      "metadata": {
        "id": "wpKgCQpP1-0d"
      },
      "execution_count": null,
      "outputs": []
    },
    {
      "cell_type": "code",
      "source": [
        "#Define client model as an object of the global model\n",
        "client_models = [ global_model for _ in range(num_selected)]"
      ],
      "metadata": {
        "id": "ussNjEzn5Af6"
      },
      "execution_count": null,
      "outputs": []
    },
    {
      "cell_type": "code",
      "source": [
        "#Initialise weight parameters\n",
        "for model in client_models:\n",
        "    model.load_state_dict(global_model.state_dict())"
      ],
      "metadata": {
        "id": "2f-n9oAv5Rka"
      },
      "execution_count": null,
      "outputs": []
    },
    {
      "cell_type": "code",
      "source": [
        "#Define optimiser\n",
        "opt = torch.optim.Adam(model.parameters(), lr=0.001)"
      ],
      "metadata": {
        "id": "hO3nX_QZ5o7y"
      },
      "execution_count": null,
      "outputs": []
    },
    {
      "cell_type": "code",
      "source": [
        "#Federated training with 6 clients and 150 rounds for each epoch\n",
        "for r in range(num_rounds):\n",
        "    print(\"Round\", r)\n",
        "    # select random clients\n",
        "    client_idx = np.random.permutation(num_clients)[:num_selected]\n",
        "    loss = 0\n",
        "    for i in tqdm(range(num_selected)):\n",
        "        loss += client_update(client_models[i], torch.optim.Adam(model.parameters(), lr=0.001), globals()['train_data_'+str(i)], epoch=5)"
      ],
      "metadata": {
        "colab": {
          "base_uri": "https://localhost:8080/"
        },
        "id": "fSHUSaDM698F",
        "outputId": "67de69f0-8507-4ad4-c459-c78630163e87"
      },
      "execution_count": null,
      "outputs": [
        {
          "output_type": "stream",
          "name": "stdout",
          "text": [
            "Round 0\n"
          ]
        },
        {
          "output_type": "stream",
          "name": "stderr",
          "text": [
            "100%|██████████| 6/6 [00:01<00:00,  3.95it/s]\n"
          ]
        },
        {
          "output_type": "stream",
          "name": "stdout",
          "text": [
            "Round 1\n"
          ]
        },
        {
          "output_type": "stream",
          "name": "stderr",
          "text": [
            "100%|██████████| 6/6 [00:01<00:00,  3.68it/s]\n"
          ]
        },
        {
          "output_type": "stream",
          "name": "stdout",
          "text": [
            "Round 2\n"
          ]
        },
        {
          "output_type": "stream",
          "name": "stderr",
          "text": [
            "100%|██████████| 6/6 [00:01<00:00,  3.36it/s]\n"
          ]
        },
        {
          "output_type": "stream",
          "name": "stdout",
          "text": [
            "Round 3\n"
          ]
        },
        {
          "output_type": "stream",
          "name": "stderr",
          "text": [
            "100%|██████████| 6/6 [00:01<00:00,  3.50it/s]\n"
          ]
        },
        {
          "output_type": "stream",
          "name": "stdout",
          "text": [
            "Round 4\n"
          ]
        },
        {
          "output_type": "stream",
          "name": "stderr",
          "text": [
            "100%|██████████| 6/6 [00:01<00:00,  3.31it/s]\n"
          ]
        },
        {
          "output_type": "stream",
          "name": "stdout",
          "text": [
            "Round 5\n"
          ]
        },
        {
          "output_type": "stream",
          "name": "stderr",
          "text": [
            "100%|██████████| 6/6 [00:01<00:00,  3.42it/s]\n"
          ]
        },
        {
          "output_type": "stream",
          "name": "stdout",
          "text": [
            "Round 6\n"
          ]
        },
        {
          "output_type": "stream",
          "name": "stderr",
          "text": [
            "100%|██████████| 6/6 [00:01<00:00,  3.21it/s]\n"
          ]
        },
        {
          "output_type": "stream",
          "name": "stdout",
          "text": [
            "Round 7\n"
          ]
        },
        {
          "output_type": "stream",
          "name": "stderr",
          "text": [
            "100%|██████████| 6/6 [00:01<00:00,  3.33it/s]\n"
          ]
        },
        {
          "output_type": "stream",
          "name": "stdout",
          "text": [
            "Round 8\n"
          ]
        },
        {
          "output_type": "stream",
          "name": "stderr",
          "text": [
            "100%|██████████| 6/6 [00:01<00:00,  3.18it/s]\n"
          ]
        },
        {
          "output_type": "stream",
          "name": "stdout",
          "text": [
            "Round 9\n"
          ]
        },
        {
          "output_type": "stream",
          "name": "stderr",
          "text": [
            "100%|██████████| 6/6 [00:01<00:00,  3.42it/s]\n"
          ]
        },
        {
          "output_type": "stream",
          "name": "stdout",
          "text": [
            "Round 10\n"
          ]
        },
        {
          "output_type": "stream",
          "name": "stderr",
          "text": [
            "100%|██████████| 6/6 [00:01<00:00,  3.35it/s]\n"
          ]
        },
        {
          "output_type": "stream",
          "name": "stdout",
          "text": [
            "Round 11\n"
          ]
        },
        {
          "output_type": "stream",
          "name": "stderr",
          "text": [
            "100%|██████████| 6/6 [00:01<00:00,  3.24it/s]\n"
          ]
        },
        {
          "output_type": "stream",
          "name": "stdout",
          "text": [
            "Round 12\n"
          ]
        },
        {
          "output_type": "stream",
          "name": "stderr",
          "text": [
            "100%|██████████| 6/6 [00:01<00:00,  3.20it/s]\n"
          ]
        },
        {
          "output_type": "stream",
          "name": "stdout",
          "text": [
            "Round 13\n"
          ]
        },
        {
          "output_type": "stream",
          "name": "stderr",
          "text": [
            "100%|██████████| 6/6 [00:02<00:00,  2.47it/s]\n"
          ]
        },
        {
          "output_type": "stream",
          "name": "stdout",
          "text": [
            "Round 14\n"
          ]
        },
        {
          "output_type": "stream",
          "name": "stderr",
          "text": [
            "100%|██████████| 6/6 [00:01<00:00,  3.31it/s]\n"
          ]
        },
        {
          "output_type": "stream",
          "name": "stdout",
          "text": [
            "Round 15\n"
          ]
        },
        {
          "output_type": "stream",
          "name": "stderr",
          "text": [
            "100%|██████████| 6/6 [00:01<00:00,  3.41it/s]\n"
          ]
        },
        {
          "output_type": "stream",
          "name": "stdout",
          "text": [
            "Round 16\n"
          ]
        },
        {
          "output_type": "stream",
          "name": "stderr",
          "text": [
            "100%|██████████| 6/6 [00:01<00:00,  3.49it/s]\n"
          ]
        },
        {
          "output_type": "stream",
          "name": "stdout",
          "text": [
            "Round 17\n"
          ]
        },
        {
          "output_type": "stream",
          "name": "stderr",
          "text": [
            "100%|██████████| 6/6 [00:01<00:00,  3.18it/s]\n"
          ]
        },
        {
          "output_type": "stream",
          "name": "stdout",
          "text": [
            "Round 18\n"
          ]
        },
        {
          "output_type": "stream",
          "name": "stderr",
          "text": [
            "100%|██████████| 6/6 [00:01<00:00,  3.41it/s]\n"
          ]
        },
        {
          "output_type": "stream",
          "name": "stdout",
          "text": [
            "Round 19\n"
          ]
        },
        {
          "output_type": "stream",
          "name": "stderr",
          "text": [
            "100%|██████████| 6/6 [00:01<00:00,  3.34it/s]\n"
          ]
        },
        {
          "output_type": "stream",
          "name": "stdout",
          "text": [
            "Round 20\n"
          ]
        },
        {
          "output_type": "stream",
          "name": "stderr",
          "text": [
            "100%|██████████| 6/6 [00:01<00:00,  3.36it/s]\n"
          ]
        },
        {
          "output_type": "stream",
          "name": "stdout",
          "text": [
            "Round 21\n"
          ]
        },
        {
          "output_type": "stream",
          "name": "stderr",
          "text": [
            "100%|██████████| 6/6 [00:01<00:00,  3.42it/s]\n"
          ]
        },
        {
          "output_type": "stream",
          "name": "stdout",
          "text": [
            "Round 22\n"
          ]
        },
        {
          "output_type": "stream",
          "name": "stderr",
          "text": [
            "100%|██████████| 6/6 [00:01<00:00,  3.36it/s]\n"
          ]
        },
        {
          "output_type": "stream",
          "name": "stdout",
          "text": [
            "Round 23\n"
          ]
        },
        {
          "output_type": "stream",
          "name": "stderr",
          "text": [
            "100%|██████████| 6/6 [00:01<00:00,  3.17it/s]\n"
          ]
        },
        {
          "output_type": "stream",
          "name": "stdout",
          "text": [
            "Round 24\n"
          ]
        },
        {
          "output_type": "stream",
          "name": "stderr",
          "text": [
            "100%|██████████| 6/6 [00:01<00:00,  3.37it/s]\n"
          ]
        },
        {
          "output_type": "stream",
          "name": "stdout",
          "text": [
            "Round 25\n"
          ]
        },
        {
          "output_type": "stream",
          "name": "stderr",
          "text": [
            "100%|██████████| 6/6 [00:01<00:00,  3.44it/s]\n"
          ]
        },
        {
          "output_type": "stream",
          "name": "stdout",
          "text": [
            "Round 26\n"
          ]
        },
        {
          "output_type": "stream",
          "name": "stderr",
          "text": [
            "100%|██████████| 6/6 [00:01<00:00,  3.35it/s]\n"
          ]
        },
        {
          "output_type": "stream",
          "name": "stdout",
          "text": [
            "Round 27\n"
          ]
        },
        {
          "output_type": "stream",
          "name": "stderr",
          "text": [
            "100%|██████████| 6/6 [00:01<00:00,  3.42it/s]\n"
          ]
        },
        {
          "output_type": "stream",
          "name": "stdout",
          "text": [
            "Round 28\n"
          ]
        },
        {
          "output_type": "stream",
          "name": "stderr",
          "text": [
            "100%|██████████| 6/6 [00:01<00:00,  3.39it/s]\n"
          ]
        },
        {
          "output_type": "stream",
          "name": "stdout",
          "text": [
            "Round 29\n"
          ]
        },
        {
          "output_type": "stream",
          "name": "stderr",
          "text": [
            "100%|██████████| 6/6 [00:01<00:00,  3.29it/s]\n"
          ]
        },
        {
          "output_type": "stream",
          "name": "stdout",
          "text": [
            "Round 30\n"
          ]
        },
        {
          "output_type": "stream",
          "name": "stderr",
          "text": [
            "100%|██████████| 6/6 [00:01<00:00,  3.33it/s]\n"
          ]
        },
        {
          "output_type": "stream",
          "name": "stdout",
          "text": [
            "Round 31\n"
          ]
        },
        {
          "output_type": "stream",
          "name": "stderr",
          "text": [
            "100%|██████████| 6/6 [00:01<00:00,  3.27it/s]\n"
          ]
        },
        {
          "output_type": "stream",
          "name": "stdout",
          "text": [
            "Round 32\n"
          ]
        },
        {
          "output_type": "stream",
          "name": "stderr",
          "text": [
            "100%|██████████| 6/6 [00:01<00:00,  3.37it/s]\n"
          ]
        },
        {
          "output_type": "stream",
          "name": "stdout",
          "text": [
            "Round 33\n"
          ]
        },
        {
          "output_type": "stream",
          "name": "stderr",
          "text": [
            "100%|██████████| 6/6 [00:01<00:00,  3.20it/s]\n"
          ]
        },
        {
          "output_type": "stream",
          "name": "stdout",
          "text": [
            "Round 34\n"
          ]
        },
        {
          "output_type": "stream",
          "name": "stderr",
          "text": [
            "100%|██████████| 6/6 [00:02<00:00,  3.00it/s]\n"
          ]
        },
        {
          "output_type": "stream",
          "name": "stdout",
          "text": [
            "Round 35\n"
          ]
        },
        {
          "output_type": "stream",
          "name": "stderr",
          "text": [
            "100%|██████████| 6/6 [00:01<00:00,  3.17it/s]\n"
          ]
        },
        {
          "output_type": "stream",
          "name": "stdout",
          "text": [
            "Round 36\n"
          ]
        },
        {
          "output_type": "stream",
          "name": "stderr",
          "text": [
            "100%|██████████| 6/6 [00:01<00:00,  3.33it/s]\n"
          ]
        },
        {
          "output_type": "stream",
          "name": "stdout",
          "text": [
            "Round 37\n"
          ]
        },
        {
          "output_type": "stream",
          "name": "stderr",
          "text": [
            "100%|██████████| 6/6 [00:01<00:00,  3.41it/s]\n"
          ]
        },
        {
          "output_type": "stream",
          "name": "stdout",
          "text": [
            "Round 38\n"
          ]
        },
        {
          "output_type": "stream",
          "name": "stderr",
          "text": [
            "100%|██████████| 6/6 [00:01<00:00,  3.30it/s]\n"
          ]
        },
        {
          "output_type": "stream",
          "name": "stdout",
          "text": [
            "Round 39\n"
          ]
        },
        {
          "output_type": "stream",
          "name": "stderr",
          "text": [
            "100%|██████████| 6/6 [00:01<00:00,  3.10it/s]\n"
          ]
        },
        {
          "output_type": "stream",
          "name": "stdout",
          "text": [
            "Round 40\n"
          ]
        },
        {
          "output_type": "stream",
          "name": "stderr",
          "text": [
            "100%|██████████| 6/6 [00:01<00:00,  3.37it/s]\n"
          ]
        },
        {
          "output_type": "stream",
          "name": "stdout",
          "text": [
            "Round 41\n"
          ]
        },
        {
          "output_type": "stream",
          "name": "stderr",
          "text": [
            "100%|██████████| 6/6 [00:01<00:00,  3.21it/s]\n"
          ]
        },
        {
          "output_type": "stream",
          "name": "stdout",
          "text": [
            "Round 42\n"
          ]
        },
        {
          "output_type": "stream",
          "name": "stderr",
          "text": [
            "100%|██████████| 6/6 [00:01<00:00,  3.34it/s]\n"
          ]
        },
        {
          "output_type": "stream",
          "name": "stdout",
          "text": [
            "Round 43\n"
          ]
        },
        {
          "output_type": "stream",
          "name": "stderr",
          "text": [
            "100%|██████████| 6/6 [00:01<00:00,  3.38it/s]\n"
          ]
        },
        {
          "output_type": "stream",
          "name": "stdout",
          "text": [
            "Round 44\n"
          ]
        },
        {
          "output_type": "stream",
          "name": "stderr",
          "text": [
            "100%|██████████| 6/6 [00:01<00:00,  3.36it/s]\n"
          ]
        },
        {
          "output_type": "stream",
          "name": "stdout",
          "text": [
            "Round 45\n"
          ]
        },
        {
          "output_type": "stream",
          "name": "stderr",
          "text": [
            "100%|██████████| 6/6 [00:01<00:00,  3.37it/s]\n"
          ]
        },
        {
          "output_type": "stream",
          "name": "stdout",
          "text": [
            "Round 46\n"
          ]
        },
        {
          "output_type": "stream",
          "name": "stderr",
          "text": [
            "100%|██████████| 6/6 [00:01<00:00,  3.33it/s]\n"
          ]
        },
        {
          "output_type": "stream",
          "name": "stdout",
          "text": [
            "Round 47\n"
          ]
        },
        {
          "output_type": "stream",
          "name": "stderr",
          "text": [
            "100%|██████████| 6/6 [00:01<00:00,  3.10it/s]\n"
          ]
        },
        {
          "output_type": "stream",
          "name": "stdout",
          "text": [
            "Round 48\n"
          ]
        },
        {
          "output_type": "stream",
          "name": "stderr",
          "text": [
            "100%|██████████| 6/6 [00:01<00:00,  3.38it/s]\n"
          ]
        },
        {
          "output_type": "stream",
          "name": "stdout",
          "text": [
            "Round 49\n"
          ]
        },
        {
          "output_type": "stream",
          "name": "stderr",
          "text": [
            "100%|██████████| 6/6 [00:01<00:00,  3.35it/s]\n"
          ]
        },
        {
          "output_type": "stream",
          "name": "stdout",
          "text": [
            "Round 50\n"
          ]
        },
        {
          "output_type": "stream",
          "name": "stderr",
          "text": [
            "100%|██████████| 6/6 [00:01<00:00,  3.38it/s]\n"
          ]
        },
        {
          "output_type": "stream",
          "name": "stdout",
          "text": [
            "Round 51\n"
          ]
        },
        {
          "output_type": "stream",
          "name": "stderr",
          "text": [
            "100%|██████████| 6/6 [00:01<00:00,  3.36it/s]\n"
          ]
        },
        {
          "output_type": "stream",
          "name": "stdout",
          "text": [
            "Round 52\n"
          ]
        },
        {
          "output_type": "stream",
          "name": "stderr",
          "text": [
            "100%|██████████| 6/6 [00:01<00:00,  3.34it/s]\n"
          ]
        },
        {
          "output_type": "stream",
          "name": "stdout",
          "text": [
            "Round 53\n"
          ]
        },
        {
          "output_type": "stream",
          "name": "stderr",
          "text": [
            "100%|██████████| 6/6 [00:01<00:00,  3.31it/s]\n"
          ]
        },
        {
          "output_type": "stream",
          "name": "stdout",
          "text": [
            "Round 54\n"
          ]
        },
        {
          "output_type": "stream",
          "name": "stderr",
          "text": [
            "100%|██████████| 6/6 [00:01<00:00,  3.34it/s]\n"
          ]
        },
        {
          "output_type": "stream",
          "name": "stdout",
          "text": [
            "Round 55\n"
          ]
        },
        {
          "output_type": "stream",
          "name": "stderr",
          "text": [
            "100%|██████████| 6/6 [00:01<00:00,  3.34it/s]\n"
          ]
        },
        {
          "output_type": "stream",
          "name": "stdout",
          "text": [
            "Round 56\n"
          ]
        },
        {
          "output_type": "stream",
          "name": "stderr",
          "text": [
            "100%|██████████| 6/6 [00:01<00:00,  3.04it/s]\n"
          ]
        },
        {
          "output_type": "stream",
          "name": "stdout",
          "text": [
            "Round 57\n"
          ]
        },
        {
          "output_type": "stream",
          "name": "stderr",
          "text": [
            "100%|██████████| 6/6 [00:01<00:00,  3.27it/s]\n"
          ]
        },
        {
          "output_type": "stream",
          "name": "stdout",
          "text": [
            "Round 58\n"
          ]
        },
        {
          "output_type": "stream",
          "name": "stderr",
          "text": [
            "100%|██████████| 6/6 [00:01<00:00,  3.31it/s]\n"
          ]
        },
        {
          "output_type": "stream",
          "name": "stdout",
          "text": [
            "Round 59\n"
          ]
        },
        {
          "output_type": "stream",
          "name": "stderr",
          "text": [
            "100%|██████████| 6/6 [00:01<00:00,  3.32it/s]\n"
          ]
        },
        {
          "output_type": "stream",
          "name": "stdout",
          "text": [
            "Round 60\n"
          ]
        },
        {
          "output_type": "stream",
          "name": "stderr",
          "text": [
            "100%|██████████| 6/6 [00:01<00:00,  3.12it/s]\n"
          ]
        },
        {
          "output_type": "stream",
          "name": "stdout",
          "text": [
            "Round 61\n"
          ]
        },
        {
          "output_type": "stream",
          "name": "stderr",
          "text": [
            "100%|██████████| 6/6 [00:01<00:00,  3.22it/s]\n"
          ]
        },
        {
          "output_type": "stream",
          "name": "stdout",
          "text": [
            "Round 62\n"
          ]
        },
        {
          "output_type": "stream",
          "name": "stderr",
          "text": [
            "100%|██████████| 6/6 [00:01<00:00,  3.29it/s]\n"
          ]
        },
        {
          "output_type": "stream",
          "name": "stdout",
          "text": [
            "Round 63\n"
          ]
        },
        {
          "output_type": "stream",
          "name": "stderr",
          "text": [
            "100%|██████████| 6/6 [00:01<00:00,  3.04it/s]\n"
          ]
        },
        {
          "output_type": "stream",
          "name": "stdout",
          "text": [
            "Round 64\n"
          ]
        },
        {
          "output_type": "stream",
          "name": "stderr",
          "text": [
            "100%|██████████| 6/6 [00:01<00:00,  3.28it/s]\n"
          ]
        },
        {
          "output_type": "stream",
          "name": "stdout",
          "text": [
            "Round 65\n"
          ]
        },
        {
          "output_type": "stream",
          "name": "stderr",
          "text": [
            "100%|██████████| 6/6 [00:01<00:00,  3.32it/s]\n"
          ]
        },
        {
          "output_type": "stream",
          "name": "stdout",
          "text": [
            "Round 66\n"
          ]
        },
        {
          "output_type": "stream",
          "name": "stderr",
          "text": [
            "100%|██████████| 6/6 [00:01<00:00,  3.36it/s]\n"
          ]
        },
        {
          "output_type": "stream",
          "name": "stdout",
          "text": [
            "Round 67\n"
          ]
        },
        {
          "output_type": "stream",
          "name": "stderr",
          "text": [
            "100%|██████████| 6/6 [00:01<00:00,  3.33it/s]\n"
          ]
        },
        {
          "output_type": "stream",
          "name": "stdout",
          "text": [
            "Round 68\n"
          ]
        },
        {
          "output_type": "stream",
          "name": "stderr",
          "text": [
            "100%|██████████| 6/6 [00:01<00:00,  3.32it/s]\n"
          ]
        },
        {
          "output_type": "stream",
          "name": "stdout",
          "text": [
            "Round 69\n"
          ]
        },
        {
          "output_type": "stream",
          "name": "stderr",
          "text": [
            "100%|██████████| 6/6 [00:01<00:00,  3.32it/s]\n"
          ]
        },
        {
          "output_type": "stream",
          "name": "stdout",
          "text": [
            "Round 70\n"
          ]
        },
        {
          "output_type": "stream",
          "name": "stderr",
          "text": [
            "100%|██████████| 6/6 [00:01<00:00,  3.12it/s]\n"
          ]
        },
        {
          "output_type": "stream",
          "name": "stdout",
          "text": [
            "Round 71\n"
          ]
        },
        {
          "output_type": "stream",
          "name": "stderr",
          "text": [
            "100%|██████████| 6/6 [00:01<00:00,  3.29it/s]\n"
          ]
        },
        {
          "output_type": "stream",
          "name": "stdout",
          "text": [
            "Round 72\n"
          ]
        },
        {
          "output_type": "stream",
          "name": "stderr",
          "text": [
            "100%|██████████| 6/6 [00:01<00:00,  3.18it/s]\n"
          ]
        },
        {
          "output_type": "stream",
          "name": "stdout",
          "text": [
            "Round 73\n"
          ]
        },
        {
          "output_type": "stream",
          "name": "stderr",
          "text": [
            "100%|██████████| 6/6 [00:01<00:00,  3.19it/s]\n"
          ]
        },
        {
          "output_type": "stream",
          "name": "stdout",
          "text": [
            "Round 74\n"
          ]
        },
        {
          "output_type": "stream",
          "name": "stderr",
          "text": [
            "100%|██████████| 6/6 [00:01<00:00,  3.20it/s]\n"
          ]
        },
        {
          "output_type": "stream",
          "name": "stdout",
          "text": [
            "Round 75\n"
          ]
        },
        {
          "output_type": "stream",
          "name": "stderr",
          "text": [
            "100%|██████████| 6/6 [00:01<00:00,  3.31it/s]\n"
          ]
        },
        {
          "output_type": "stream",
          "name": "stdout",
          "text": [
            "Round 76\n"
          ]
        },
        {
          "output_type": "stream",
          "name": "stderr",
          "text": [
            "100%|██████████| 6/6 [00:01<00:00,  3.28it/s]\n"
          ]
        },
        {
          "output_type": "stream",
          "name": "stdout",
          "text": [
            "Round 77\n"
          ]
        },
        {
          "output_type": "stream",
          "name": "stderr",
          "text": [
            "100%|██████████| 6/6 [00:01<00:00,  3.27it/s]\n"
          ]
        },
        {
          "output_type": "stream",
          "name": "stdout",
          "text": [
            "Round 78\n"
          ]
        },
        {
          "output_type": "stream",
          "name": "stderr",
          "text": [
            "100%|██████████| 6/6 [00:01<00:00,  3.14it/s]\n"
          ]
        },
        {
          "output_type": "stream",
          "name": "stdout",
          "text": [
            "Round 79\n"
          ]
        },
        {
          "output_type": "stream",
          "name": "stderr",
          "text": [
            "100%|██████████| 6/6 [00:02<00:00,  2.79it/s]\n"
          ]
        },
        {
          "output_type": "stream",
          "name": "stdout",
          "text": [
            "Round 80\n"
          ]
        },
        {
          "output_type": "stream",
          "name": "stderr",
          "text": [
            "100%|██████████| 6/6 [00:01<00:00,  3.16it/s]\n"
          ]
        },
        {
          "output_type": "stream",
          "name": "stdout",
          "text": [
            "Round 81\n"
          ]
        },
        {
          "output_type": "stream",
          "name": "stderr",
          "text": [
            "100%|██████████| 6/6 [00:02<00:00,  2.84it/s]\n"
          ]
        },
        {
          "output_type": "stream",
          "name": "stdout",
          "text": [
            "Round 82\n"
          ]
        },
        {
          "output_type": "stream",
          "name": "stderr",
          "text": [
            "100%|██████████| 6/6 [00:02<00:00,  2.74it/s]\n"
          ]
        },
        {
          "output_type": "stream",
          "name": "stdout",
          "text": [
            "Round 83\n"
          ]
        },
        {
          "output_type": "stream",
          "name": "stderr",
          "text": [
            "100%|██████████| 6/6 [00:01<00:00,  3.12it/s]\n"
          ]
        },
        {
          "output_type": "stream",
          "name": "stdout",
          "text": [
            "Round 84\n"
          ]
        },
        {
          "output_type": "stream",
          "name": "stderr",
          "text": [
            "100%|██████████| 6/6 [00:01<00:00,  3.04it/s]\n"
          ]
        },
        {
          "output_type": "stream",
          "name": "stdout",
          "text": [
            "Round 85\n"
          ]
        },
        {
          "output_type": "stream",
          "name": "stderr",
          "text": [
            "100%|██████████| 6/6 [00:02<00:00,  2.99it/s]\n"
          ]
        },
        {
          "output_type": "stream",
          "name": "stdout",
          "text": [
            "Round 86\n"
          ]
        },
        {
          "output_type": "stream",
          "name": "stderr",
          "text": [
            "100%|██████████| 6/6 [00:01<00:00,  3.04it/s]\n"
          ]
        },
        {
          "output_type": "stream",
          "name": "stdout",
          "text": [
            "Round 87\n"
          ]
        },
        {
          "output_type": "stream",
          "name": "stderr",
          "text": [
            "100%|██████████| 6/6 [00:01<00:00,  3.07it/s]\n"
          ]
        },
        {
          "output_type": "stream",
          "name": "stdout",
          "text": [
            "Round 88\n"
          ]
        },
        {
          "output_type": "stream",
          "name": "stderr",
          "text": [
            "100%|██████████| 6/6 [00:02<00:00,  2.99it/s]\n"
          ]
        },
        {
          "output_type": "stream",
          "name": "stdout",
          "text": [
            "Round 89\n"
          ]
        },
        {
          "output_type": "stream",
          "name": "stderr",
          "text": [
            "100%|██████████| 6/6 [00:02<00:00,  3.00it/s]\n"
          ]
        },
        {
          "output_type": "stream",
          "name": "stdout",
          "text": [
            "Round 90\n"
          ]
        },
        {
          "output_type": "stream",
          "name": "stderr",
          "text": [
            "100%|██████████| 6/6 [00:02<00:00,  2.83it/s]\n"
          ]
        },
        {
          "output_type": "stream",
          "name": "stdout",
          "text": [
            "Round 91\n"
          ]
        },
        {
          "output_type": "stream",
          "name": "stderr",
          "text": [
            "100%|██████████| 6/6 [00:02<00:00,  2.98it/s]\n"
          ]
        },
        {
          "output_type": "stream",
          "name": "stdout",
          "text": [
            "Round 92\n"
          ]
        },
        {
          "output_type": "stream",
          "name": "stderr",
          "text": [
            "100%|██████████| 6/6 [00:02<00:00,  2.92it/s]\n"
          ]
        },
        {
          "output_type": "stream",
          "name": "stdout",
          "text": [
            "Round 93\n"
          ]
        },
        {
          "output_type": "stream",
          "name": "stderr",
          "text": [
            "100%|██████████| 6/6 [00:02<00:00,  2.70it/s]\n"
          ]
        },
        {
          "output_type": "stream",
          "name": "stdout",
          "text": [
            "Round 94\n"
          ]
        },
        {
          "output_type": "stream",
          "name": "stderr",
          "text": [
            "100%|██████████| 6/6 [00:02<00:00,  2.76it/s]\n"
          ]
        },
        {
          "output_type": "stream",
          "name": "stdout",
          "text": [
            "Round 95\n"
          ]
        },
        {
          "output_type": "stream",
          "name": "stderr",
          "text": [
            "100%|██████████| 6/6 [00:02<00:00,  2.94it/s]\n"
          ]
        },
        {
          "output_type": "stream",
          "name": "stdout",
          "text": [
            "Round 96\n"
          ]
        },
        {
          "output_type": "stream",
          "name": "stderr",
          "text": [
            "100%|██████████| 6/6 [00:02<00:00,  2.89it/s]\n"
          ]
        },
        {
          "output_type": "stream",
          "name": "stdout",
          "text": [
            "Round 97\n"
          ]
        },
        {
          "output_type": "stream",
          "name": "stderr",
          "text": [
            "100%|██████████| 6/6 [00:02<00:00,  2.89it/s]\n"
          ]
        },
        {
          "output_type": "stream",
          "name": "stdout",
          "text": [
            "Round 98\n"
          ]
        },
        {
          "output_type": "stream",
          "name": "stderr",
          "text": [
            "100%|██████████| 6/6 [00:02<00:00,  2.91it/s]\n"
          ]
        },
        {
          "output_type": "stream",
          "name": "stdout",
          "text": [
            "Round 99\n"
          ]
        },
        {
          "output_type": "stream",
          "name": "stderr",
          "text": [
            "100%|██████████| 6/6 [00:02<00:00,  2.84it/s]\n"
          ]
        },
        {
          "output_type": "stream",
          "name": "stdout",
          "text": [
            "Round 100\n"
          ]
        },
        {
          "output_type": "stream",
          "name": "stderr",
          "text": [
            "100%|██████████| 6/6 [00:02<00:00,  2.86it/s]\n"
          ]
        },
        {
          "output_type": "stream",
          "name": "stdout",
          "text": [
            "Round 101\n"
          ]
        },
        {
          "output_type": "stream",
          "name": "stderr",
          "text": [
            "100%|██████████| 6/6 [00:02<00:00,  2.70it/s]\n"
          ]
        },
        {
          "output_type": "stream",
          "name": "stdout",
          "text": [
            "Round 102\n"
          ]
        },
        {
          "output_type": "stream",
          "name": "stderr",
          "text": [
            "100%|██████████| 6/6 [00:02<00:00,  2.85it/s]\n"
          ]
        },
        {
          "output_type": "stream",
          "name": "stdout",
          "text": [
            "Round 103\n"
          ]
        },
        {
          "output_type": "stream",
          "name": "stderr",
          "text": [
            "100%|██████████| 6/6 [00:02<00:00,  2.78it/s]\n"
          ]
        },
        {
          "output_type": "stream",
          "name": "stdout",
          "text": [
            "Round 104\n"
          ]
        },
        {
          "output_type": "stream",
          "name": "stderr",
          "text": [
            "100%|██████████| 6/6 [00:02<00:00,  2.81it/s]\n"
          ]
        },
        {
          "output_type": "stream",
          "name": "stdout",
          "text": [
            "Round 105\n"
          ]
        },
        {
          "output_type": "stream",
          "name": "stderr",
          "text": [
            "100%|██████████| 6/6 [00:02<00:00,  2.49it/s]\n"
          ]
        },
        {
          "output_type": "stream",
          "name": "stdout",
          "text": [
            "Round 106\n"
          ]
        },
        {
          "output_type": "stream",
          "name": "stderr",
          "text": [
            "100%|██████████| 6/6 [00:02<00:00,  2.76it/s]\n"
          ]
        },
        {
          "output_type": "stream",
          "name": "stdout",
          "text": [
            "Round 107\n"
          ]
        },
        {
          "output_type": "stream",
          "name": "stderr",
          "text": [
            "100%|██████████| 6/6 [00:02<00:00,  2.59it/s]\n"
          ]
        },
        {
          "output_type": "stream",
          "name": "stdout",
          "text": [
            "Round 108\n"
          ]
        },
        {
          "output_type": "stream",
          "name": "stderr",
          "text": [
            "100%|██████████| 6/6 [00:02<00:00,  2.67it/s]\n"
          ]
        },
        {
          "output_type": "stream",
          "name": "stdout",
          "text": [
            "Round 109\n"
          ]
        },
        {
          "output_type": "stream",
          "name": "stderr",
          "text": [
            "100%|██████████| 6/6 [00:02<00:00,  2.65it/s]\n"
          ]
        },
        {
          "output_type": "stream",
          "name": "stdout",
          "text": [
            "Round 110\n"
          ]
        },
        {
          "output_type": "stream",
          "name": "stderr",
          "text": [
            "100%|██████████| 6/6 [00:02<00:00,  2.05it/s]\n"
          ]
        },
        {
          "output_type": "stream",
          "name": "stdout",
          "text": [
            "Round 111\n"
          ]
        },
        {
          "output_type": "stream",
          "name": "stderr",
          "text": [
            "100%|██████████| 6/6 [00:02<00:00,  2.49it/s]\n"
          ]
        },
        {
          "output_type": "stream",
          "name": "stdout",
          "text": [
            "Round 112\n"
          ]
        },
        {
          "output_type": "stream",
          "name": "stderr",
          "text": [
            "100%|██████████| 6/6 [00:02<00:00,  2.49it/s]\n"
          ]
        },
        {
          "output_type": "stream",
          "name": "stdout",
          "text": [
            "Round 113\n"
          ]
        },
        {
          "output_type": "stream",
          "name": "stderr",
          "text": [
            "100%|██████████| 6/6 [00:02<00:00,  2.66it/s]\n"
          ]
        },
        {
          "output_type": "stream",
          "name": "stdout",
          "text": [
            "Round 114\n"
          ]
        },
        {
          "output_type": "stream",
          "name": "stderr",
          "text": [
            "100%|██████████| 6/6 [00:02<00:00,  2.51it/s]\n"
          ]
        },
        {
          "output_type": "stream",
          "name": "stdout",
          "text": [
            "Round 115\n"
          ]
        },
        {
          "output_type": "stream",
          "name": "stderr",
          "text": [
            "100%|██████████| 6/6 [00:02<00:00,  2.64it/s]\n"
          ]
        },
        {
          "output_type": "stream",
          "name": "stdout",
          "text": [
            "Round 116\n"
          ]
        },
        {
          "output_type": "stream",
          "name": "stderr",
          "text": [
            "100%|██████████| 6/6 [00:02<00:00,  2.57it/s]\n"
          ]
        },
        {
          "output_type": "stream",
          "name": "stdout",
          "text": [
            "Round 117\n"
          ]
        },
        {
          "output_type": "stream",
          "name": "stderr",
          "text": [
            "100%|██████████| 6/6 [00:02<00:00,  2.62it/s]\n"
          ]
        },
        {
          "output_type": "stream",
          "name": "stdout",
          "text": [
            "Round 118\n"
          ]
        },
        {
          "output_type": "stream",
          "name": "stderr",
          "text": [
            "100%|██████████| 6/6 [00:02<00:00,  2.54it/s]\n"
          ]
        },
        {
          "output_type": "stream",
          "name": "stdout",
          "text": [
            "Round 119\n"
          ]
        },
        {
          "output_type": "stream",
          "name": "stderr",
          "text": [
            "100%|██████████| 6/6 [00:02<00:00,  2.63it/s]\n"
          ]
        },
        {
          "output_type": "stream",
          "name": "stdout",
          "text": [
            "Round 120\n"
          ]
        },
        {
          "output_type": "stream",
          "name": "stderr",
          "text": [
            "100%|██████████| 6/6 [00:02<00:00,  2.59it/s]\n"
          ]
        },
        {
          "output_type": "stream",
          "name": "stdout",
          "text": [
            "Round 121\n"
          ]
        },
        {
          "output_type": "stream",
          "name": "stderr",
          "text": [
            "100%|██████████| 6/6 [00:02<00:00,  2.57it/s]\n"
          ]
        },
        {
          "output_type": "stream",
          "name": "stdout",
          "text": [
            "Round 122\n"
          ]
        },
        {
          "output_type": "stream",
          "name": "stderr",
          "text": [
            "100%|██████████| 6/6 [00:02<00:00,  2.61it/s]\n"
          ]
        },
        {
          "output_type": "stream",
          "name": "stdout",
          "text": [
            "Round 123\n"
          ]
        },
        {
          "output_type": "stream",
          "name": "stderr",
          "text": [
            "100%|██████████| 6/6 [00:02<00:00,  2.47it/s]\n"
          ]
        },
        {
          "output_type": "stream",
          "name": "stdout",
          "text": [
            "Round 124\n"
          ]
        },
        {
          "output_type": "stream",
          "name": "stderr",
          "text": [
            "100%|██████████| 6/6 [00:02<00:00,  2.59it/s]\n"
          ]
        },
        {
          "output_type": "stream",
          "name": "stdout",
          "text": [
            "Round 125\n"
          ]
        },
        {
          "output_type": "stream",
          "name": "stderr",
          "text": [
            "100%|██████████| 6/6 [00:02<00:00,  2.60it/s]\n"
          ]
        },
        {
          "output_type": "stream",
          "name": "stdout",
          "text": [
            "Round 126\n"
          ]
        },
        {
          "output_type": "stream",
          "name": "stderr",
          "text": [
            "100%|██████████| 6/6 [00:02<00:00,  2.50it/s]\n"
          ]
        },
        {
          "output_type": "stream",
          "name": "stdout",
          "text": [
            "Round 127\n"
          ]
        },
        {
          "output_type": "stream",
          "name": "stderr",
          "text": [
            "100%|██████████| 6/6 [00:02<00:00,  2.60it/s]\n"
          ]
        },
        {
          "output_type": "stream",
          "name": "stdout",
          "text": [
            "Round 128\n"
          ]
        },
        {
          "output_type": "stream",
          "name": "stderr",
          "text": [
            "100%|██████████| 6/6 [00:02<00:00,  2.55it/s]\n"
          ]
        },
        {
          "output_type": "stream",
          "name": "stdout",
          "text": [
            "Round 129\n"
          ]
        },
        {
          "output_type": "stream",
          "name": "stderr",
          "text": [
            "100%|██████████| 6/6 [00:02<00:00,  2.53it/s]\n"
          ]
        },
        {
          "output_type": "stream",
          "name": "stdout",
          "text": [
            "Round 130\n"
          ]
        },
        {
          "output_type": "stream",
          "name": "stderr",
          "text": [
            "100%|██████████| 6/6 [00:02<00:00,  2.50it/s]\n"
          ]
        },
        {
          "output_type": "stream",
          "name": "stdout",
          "text": [
            "Round 131\n"
          ]
        },
        {
          "output_type": "stream",
          "name": "stderr",
          "text": [
            "100%|██████████| 6/6 [00:02<00:00,  2.48it/s]\n"
          ]
        },
        {
          "output_type": "stream",
          "name": "stdout",
          "text": [
            "Round 132\n"
          ]
        },
        {
          "output_type": "stream",
          "name": "stderr",
          "text": [
            "100%|██████████| 6/6 [00:02<00:00,  2.52it/s]\n"
          ]
        },
        {
          "output_type": "stream",
          "name": "stdout",
          "text": [
            "Round 133\n"
          ]
        },
        {
          "output_type": "stream",
          "name": "stderr",
          "text": [
            "100%|██████████| 6/6 [00:02<00:00,  2.48it/s]\n"
          ]
        },
        {
          "output_type": "stream",
          "name": "stdout",
          "text": [
            "Round 134\n"
          ]
        },
        {
          "output_type": "stream",
          "name": "stderr",
          "text": [
            "100%|██████████| 6/6 [00:02<00:00,  2.50it/s]\n"
          ]
        },
        {
          "output_type": "stream",
          "name": "stdout",
          "text": [
            "Round 135\n"
          ]
        },
        {
          "output_type": "stream",
          "name": "stderr",
          "text": [
            "100%|██████████| 6/6 [00:02<00:00,  2.58it/s]\n"
          ]
        },
        {
          "output_type": "stream",
          "name": "stdout",
          "text": [
            "Round 136\n"
          ]
        },
        {
          "output_type": "stream",
          "name": "stderr",
          "text": [
            "100%|██████████| 6/6 [00:02<00:00,  2.58it/s]\n"
          ]
        },
        {
          "output_type": "stream",
          "name": "stdout",
          "text": [
            "Round 137\n"
          ]
        },
        {
          "output_type": "stream",
          "name": "stderr",
          "text": [
            "100%|██████████| 6/6 [00:02<00:00,  2.45it/s]\n"
          ]
        },
        {
          "output_type": "stream",
          "name": "stdout",
          "text": [
            "Round 138\n"
          ]
        },
        {
          "output_type": "stream",
          "name": "stderr",
          "text": [
            "100%|██████████| 6/6 [00:02<00:00,  2.58it/s]\n"
          ]
        },
        {
          "output_type": "stream",
          "name": "stdout",
          "text": [
            "Round 139\n"
          ]
        },
        {
          "output_type": "stream",
          "name": "stderr",
          "text": [
            "100%|██████████| 6/6 [00:02<00:00,  2.52it/s]\n"
          ]
        },
        {
          "output_type": "stream",
          "name": "stdout",
          "text": [
            "Round 140\n"
          ]
        },
        {
          "output_type": "stream",
          "name": "stderr",
          "text": [
            "100%|██████████| 6/6 [00:02<00:00,  2.55it/s]\n"
          ]
        },
        {
          "output_type": "stream",
          "name": "stdout",
          "text": [
            "Round 141\n"
          ]
        },
        {
          "output_type": "stream",
          "name": "stderr",
          "text": [
            "100%|██████████| 6/6 [00:02<00:00,  2.56it/s]\n"
          ]
        },
        {
          "output_type": "stream",
          "name": "stdout",
          "text": [
            "Round 142\n"
          ]
        },
        {
          "output_type": "stream",
          "name": "stderr",
          "text": [
            "100%|██████████| 6/6 [00:02<00:00,  2.55it/s]\n"
          ]
        },
        {
          "output_type": "stream",
          "name": "stdout",
          "text": [
            "Round 143\n"
          ]
        },
        {
          "output_type": "stream",
          "name": "stderr",
          "text": [
            "100%|██████████| 6/6 [00:02<00:00,  2.40it/s]\n"
          ]
        },
        {
          "output_type": "stream",
          "name": "stdout",
          "text": [
            "Round 144\n"
          ]
        },
        {
          "output_type": "stream",
          "name": "stderr",
          "text": [
            "100%|██████████| 6/6 [00:02<00:00,  2.52it/s]\n"
          ]
        },
        {
          "output_type": "stream",
          "name": "stdout",
          "text": [
            "Round 145\n"
          ]
        },
        {
          "output_type": "stream",
          "name": "stderr",
          "text": [
            "100%|██████████| 6/6 [00:02<00:00,  2.56it/s]\n"
          ]
        },
        {
          "output_type": "stream",
          "name": "stdout",
          "text": [
            "Round 146\n"
          ]
        },
        {
          "output_type": "stream",
          "name": "stderr",
          "text": [
            "100%|██████████| 6/6 [00:02<00:00,  2.52it/s]\n"
          ]
        },
        {
          "output_type": "stream",
          "name": "stdout",
          "text": [
            "Round 147\n"
          ]
        },
        {
          "output_type": "stream",
          "name": "stderr",
          "text": [
            "100%|██████████| 6/6 [00:02<00:00,  2.44it/s]\n"
          ]
        },
        {
          "output_type": "stream",
          "name": "stdout",
          "text": [
            "Round 148\n"
          ]
        },
        {
          "output_type": "stream",
          "name": "stderr",
          "text": [
            "100%|██████████| 6/6 [00:02<00:00,  2.45it/s]\n"
          ]
        },
        {
          "output_type": "stream",
          "name": "stdout",
          "text": [
            "Round 149\n"
          ]
        },
        {
          "output_type": "stream",
          "name": "stderr",
          "text": [
            "100%|██████████| 6/6 [00:02<00:00,  2.51it/s]\n"
          ]
        }
      ]
    },
    {
      "cell_type": "code",
      "source": [
        "#Aggregate client state for global model\n",
        "server_aggregate(global_model, client_models)"
      ],
      "metadata": {
        "id": "zvC5squ26_Os"
      },
      "execution_count": null,
      "outputs": []
    },
    {
      "cell_type": "markdown",
      "source": [
        "##Evaluate for GCN with federated averaging"
      ],
      "metadata": {
        "id": "y_qBqmA3HHd4"
      }
    },
    {
      "cell_type": "code",
      "source": [
        "#Predict for test set using the global model\n",
        "pred_ = []\n",
        "test_values = []\n",
        "for data in test_loader:\n",
        "      data.x = data.x.to(device, dtype = torch.float)\n",
        "      #data.y = data.y.to(device, dtype = torch.float)\n",
        "      pred = global_model(data.x, data.edge_index)\n",
        "\n",
        "      loss = F.mse_loss(pred.squeeze(), data.y.squeeze())\n",
        "      pred = pred.detach().numpy()\n",
        "      data.y = data.y.detach().numpy() \n",
        "      \n",
        "      pred_.append(pred)\n",
        "      test_values.append(data.y)\n",
        "\n",
        "\n"
      ],
      "metadata": {
        "id": "R99tAi1TKTGJ"
      },
      "execution_count": null,
      "outputs": []
    },
    {
      "cell_type": "code",
      "source": [
        "#Conversion\n",
        "pred_ = np.asarray(pred_)\n",
        "test_values = np.asarray(test_values)"
      ],
      "metadata": {
        "id": "b4EmCRGzssH-"
      },
      "execution_count": null,
      "outputs": []
    },
    {
      "cell_type": "code",
      "source": [
        "#Median absolute error \n",
        "mae = median_absolute_error(np.ndarray.flatten(pred_), np.ndarray.flatten(test_values))\n",
        "print(mae)"
      ],
      "metadata": {
        "colab": {
          "base_uri": "https://localhost:8080/"
        },
        "id": "SAoeJ1iZKq3W",
        "outputId": "2dd7dab0-d6ec-4d33-c97a-2423a1564255"
      },
      "execution_count": null,
      "outputs": [
        {
          "output_type": "stream",
          "name": "stdout",
          "text": [
            "1.9173469543457031\n"
          ]
        }
      ]
    },
    {
      "cell_type": "code",
      "source": [
        "#Mean absolute error \n",
        "pred_ = np.asarray(pred_)\n",
        "test_values = np.asarray(test_values)\n",
        "\n",
        "mean_absolute_error(np.ndarray.flatten(pred_), np.ndarray.flatten(test_values))\n"
      ],
      "metadata": {
        "colab": {
          "base_uri": "https://localhost:8080/"
        },
        "id": "4tHzduEyKubN",
        "outputId": "95bfc8b6-9872-461f-9f08-2c0c545fd1f7"
      },
      "execution_count": null,
      "outputs": [
        {
          "output_type": "execute_result",
          "data": {
            "text/plain": [
              "2.859435213088989"
            ]
          },
          "metadata": {},
          "execution_count": 530
        }
      ]
    },
    {
      "cell_type": "markdown",
      "source": [
        "#Pruning"
      ],
      "metadata": {
        "id": "BLhHgE3A99qz"
      }
    },
    {
      "cell_type": "code",
      "source": [
        "model.conv1.lin_src.weight"
      ],
      "metadata": {
        "colab": {
          "base_uri": "https://localhost:8080/"
        },
        "id": "W3N_AeK9L2E1",
        "outputId": "889ee57b-f6cb-45f7-976f-fd28964e0f24"
      },
      "execution_count": 585,
      "outputs": [
        {
          "output_type": "execute_result",
          "data": {
            "text/plain": [
              "Parameter containing:\n",
              "tensor([[-4.2510e-02,  5.9965e-02],\n",
              "        [ 1.1606e-01, -4.8619e-02],\n",
              "        [-2.1589e-01,  1.5472e-01],\n",
              "        [-2.1155e-01,  6.6350e-02],\n",
              "        [-1.2471e-01, -8.5832e-02],\n",
              "        [ 1.3030e-02,  8.2306e-02],\n",
              "        [ 6.7456e-02,  4.5722e-02],\n",
              "        [ 5.8396e-02, -1.2893e-02],\n",
              "        [-8.4711e-02, -8.4921e-02],\n",
              "        [ 3.4154e-02, -7.0577e-02],\n",
              "        [-1.3836e-01, -6.7823e-02],\n",
              "        [-9.6197e-02,  9.9072e-02],\n",
              "        [-1.8417e-01,  1.3311e-01],\n",
              "        [-1.2199e-01, -1.5282e-01],\n",
              "        [-1.4300e-01, -4.0384e-02],\n",
              "        [-7.3585e-02,  7.4345e-02],\n",
              "        [-1.7464e-01,  1.2675e-01],\n",
              "        [-7.0975e-02, -6.5564e-02],\n",
              "        [ 1.1588e-01, -1.2777e-01],\n",
              "        [ 1.5249e-03, -9.2880e-02],\n",
              "        [ 4.3662e-02,  8.6550e-03],\n",
              "        [-6.1265e-02, -2.1967e-02],\n",
              "        [ 1.0594e-01, -1.0405e-01],\n",
              "        [ 6.9288e-02, -6.2989e-03],\n",
              "        [ 4.7854e-02, -1.1517e-01],\n",
              "        [-1.6043e-01, -1.1341e-01],\n",
              "        [-4.6870e-02,  5.0100e-02],\n",
              "        [-1.0541e-01, -1.3419e-01],\n",
              "        [-1.4604e-01,  1.4736e-01],\n",
              "        [-6.9020e-02, -9.5766e-02],\n",
              "        [-5.9961e-02, -9.5727e-02],\n",
              "        [ 1.3429e-01, -8.4758e-02],\n",
              "        [-1.9642e-01,  1.3739e-01],\n",
              "        [-8.3779e-02,  8.6993e-03],\n",
              "        [ 4.2914e-02,  5.6197e-03],\n",
              "        [ 1.5683e-01, -6.6391e-02],\n",
              "        [ 5.5645e-02,  3.2209e-02],\n",
              "        [ 1.0313e-01,  2.7565e-02],\n",
              "        [ 7.7586e-02,  2.7044e-02],\n",
              "        [-1.1410e-03, -5.5869e-03],\n",
              "        [-2.1578e-01,  1.5552e-01],\n",
              "        [ 6.1247e-02, -1.2587e-01],\n",
              "        [-8.0452e-02,  7.0200e-02],\n",
              "        [-6.3492e-02,  8.4368e-02],\n",
              "        [ 1.6758e-02, -1.3988e-01],\n",
              "        [ 9.8594e-02,  8.4899e-03],\n",
              "        [-6.3313e-04, -2.4570e-03],\n",
              "        [ 1.0700e-01, -4.3337e-02],\n",
              "        [ 1.3681e-01, -5.8732e-02],\n",
              "        [ 8.9118e-03,  1.8909e-02],\n",
              "        [-1.5497e-01,  5.2081e-02],\n",
              "        [ 5.3405e-02, -1.3182e-01],\n",
              "        [-8.6035e-02, -7.5380e-02],\n",
              "        [ 7.1646e-02, -2.2439e-02],\n",
              "        [ 4.2666e-02,  2.9459e-02],\n",
              "        [-8.4177e-02, -5.2387e-02],\n",
              "        [-2.8633e-02,  7.0204e-02],\n",
              "        [ 6.3511e-02,  5.3428e-02],\n",
              "        [ 1.6307e-01, -7.3260e-02],\n",
              "        [-4.1571e-04, -2.3878e-03],\n",
              "        [ 2.3982e-02, -6.3863e-02],\n",
              "        [-6.4133e-02,  6.6633e-02],\n",
              "        [-1.9201e-02,  7.7004e-02],\n",
              "        [-3.4341e-03, -2.5855e-02],\n",
              "        [ 1.0262e-01, -6.2937e-02],\n",
              "        [-1.3113e-01, -8.4261e-03],\n",
              "        [ 1.2087e-01, -1.2918e-01],\n",
              "        [ 5.1974e-02,  9.8099e-03],\n",
              "        [ 1.0044e-01, -6.2620e-02],\n",
              "        [ 8.9823e-02, -4.1602e-03],\n",
              "        [ 1.0258e-01, -1.6163e-01],\n",
              "        [-1.7583e-02, -1.2475e-01],\n",
              "        [-1.8877e-01,  1.4229e-01],\n",
              "        [ 8.5752e-02, -4.7812e-02],\n",
              "        [ 8.2995e-02, -3.0506e-02],\n",
              "        [-2.1623e-01,  1.4188e-01],\n",
              "        [ 1.2294e-01, -7.0949e-02],\n",
              "        [-8.0764e-02,  8.9926e-02],\n",
              "        [-4.2304e-02,  4.5882e-02],\n",
              "        [ 1.4002e-01, -5.7806e-02],\n",
              "        [ 7.1006e-02, -1.1292e-01],\n",
              "        [-1.1563e-01,  1.1176e-01],\n",
              "        [ 1.6004e-02, -1.5958e-01],\n",
              "        [-2.1346e-01,  6.0127e-02],\n",
              "        [-3.9465e-02, -9.1256e-02],\n",
              "        [ 1.0252e-02, -4.4331e-02],\n",
              "        [ 1.0618e-01, -5.8737e-02],\n",
              "        [-4.3060e-02, -9.2951e-02],\n",
              "        [-2.9231e-03,  2.8619e-02],\n",
              "        [ 1.0254e-01, -4.2867e-02],\n",
              "        [ 1.2583e-01, -4.7957e-02],\n",
              "        [-1.1103e-01,  1.0996e-01],\n",
              "        [-1.5506e-04, -7.6783e-02],\n",
              "        [ 8.4546e-03, -1.0012e-01],\n",
              "        [ 1.6332e-01, -1.0008e-01],\n",
              "        [ 2.1403e-02, -6.9500e-02],\n",
              "        [-7.3369e-02, -5.4978e-02],\n",
              "        [-9.8877e-02,  9.6648e-02],\n",
              "        [-7.8335e-02, -2.0233e-02],\n",
              "        [-6.0837e-02, -9.0983e-02],\n",
              "        [ 1.0743e-02,  4.5152e-02],\n",
              "        [ 6.2585e-02, -1.5983e-02],\n",
              "        [-6.7984e-02, -7.5626e-02],\n",
              "        [-4.7929e-03,  4.4958e-02],\n",
              "        [-1.1485e-01,  1.0792e-01],\n",
              "        [ 1.7236e-03, -2.3019e-02],\n",
              "        [ 1.2280e-01, -8.5779e-03],\n",
              "        [-9.4150e-03,  5.3951e-02],\n",
              "        [-2.7465e-02, -1.9518e-02],\n",
              "        [ 1.0660e-01, -4.1765e-02],\n",
              "        [-2.2070e-02,  4.1900e-02],\n",
              "        [-9.8769e-03, -8.4286e-02],\n",
              "        [-1.0392e-02, -7.0914e-03],\n",
              "        [ 1.8205e-03,  2.4585e-02],\n",
              "        [ 2.3787e-02,  2.4149e-02],\n",
              "        [-2.5623e-03, -1.5399e-01],\n",
              "        [ 1.4194e-01, -5.6706e-02],\n",
              "        [ 5.4195e-02,  2.1677e-02],\n",
              "        [ 1.0164e-01, -3.2518e-02],\n",
              "        [ 4.2162e-02,  6.2867e-03],\n",
              "        [ 1.6782e-01, -1.5186e-01],\n",
              "        [-1.1292e-01, -1.7663e-02],\n",
              "        [-1.8084e-01,  5.5665e-02],\n",
              "        [-2.0676e-01,  1.4325e-01],\n",
              "        [-9.8986e-02,  1.0413e-01],\n",
              "        [-1.4384e-01,  1.0155e-01],\n",
              "        [-1.7908e-01,  1.2913e-01],\n",
              "        [-6.3190e-02,  1.0285e-01],\n",
              "        [-2.9964e-02, -3.3431e-03],\n",
              "        [-9.1131e-02, -9.6318e-02],\n",
              "        [ 4.6747e-02, -8.6429e-02],\n",
              "        [ 6.5004e-02,  1.7809e-02],\n",
              "        [ 1.1073e-02, -2.6241e-02],\n",
              "        [ 3.8816e-02, -9.8399e-02],\n",
              "        [-5.3652e-02, -3.9332e-02],\n",
              "        [ 7.6902e-02,  3.2135e-02],\n",
              "        [ 7.4764e-02,  1.1909e-02],\n",
              "        [ 8.2801e-02, -2.3718e-02],\n",
              "        [ 1.0161e-01,  1.1511e-03],\n",
              "        [ 8.8634e-02, -1.3088e-01],\n",
              "        [-1.5725e-01,  1.1073e-01],\n",
              "        [ 8.9641e-03, -1.0716e-01],\n",
              "        [ 1.1838e-01, -4.9719e-02],\n",
              "        [-9.5940e-02, -8.8787e-02],\n",
              "        [-8.1475e-02, -2.9112e-02],\n",
              "        [-2.4138e-02, -1.1337e-01],\n",
              "        [ 5.1239e-02, -9.8831e-02],\n",
              "        [ 3.7530e-02,  8.5867e-04],\n",
              "        [-6.9823e-04, -6.6340e-03],\n",
              "        [-1.0027e-01, -1.5077e-01],\n",
              "        [ 1.1746e-01, -4.8411e-02],\n",
              "        [-3.4480e-02,  5.3721e-02],\n",
              "        [ 1.4387e-01, -8.8110e-02],\n",
              "        [-6.5100e-02,  4.3511e-03],\n",
              "        [-5.9275e-02, -8.4703e-02],\n",
              "        [-1.1987e-01, -1.3482e-01],\n",
              "        [-1.3408e-01,  4.0877e-02],\n",
              "        [ 5.6117e-02,  4.0873e-02],\n",
              "        [-1.2375e-01, -1.1208e-01],\n",
              "        [ 1.5053e-01, -5.9740e-02],\n",
              "        [ 7.1627e-02,  1.1559e-02],\n",
              "        [-1.0500e-01, -3.1754e-02],\n",
              "        [ 6.3962e-02,  1.4977e-02],\n",
              "        [ 3.3518e-02,  2.4279e-02],\n",
              "        [-1.3230e-01, -1.0403e-01],\n",
              "        [-1.3032e-01, -1.5083e-01],\n",
              "        [ 6.6410e-04, -3.8308e-02],\n",
              "        [ 7.6030e-02, -1.3745e-01],\n",
              "        [ 1.1134e-01, -1.1995e-01],\n",
              "        [-4.7702e-02, -4.1739e-02],\n",
              "        [ 1.5618e-02, -8.7710e-02],\n",
              "        [ 8.8327e-02, -3.5622e-02],\n",
              "        [ 2.4029e-02,  5.0546e-03],\n",
              "        [ 3.4290e-03, -2.3285e-02],\n",
              "        [-1.4215e-01, -7.8548e-02],\n",
              "        [-2.9418e-02,  6.3047e-02],\n",
              "        [-8.9991e-04, -1.2517e-03],\n",
              "        [-1.3576e-01, -7.1652e-02],\n",
              "        [-1.4423e-01,  4.8025e-02],\n",
              "        [-9.1203e-02, -6.8316e-02],\n",
              "        [ 5.0762e-02, -1.1577e-01],\n",
              "        [-4.1904e-02, -1.0019e-01],\n",
              "        [ 4.0694e-03, -1.4134e-01],\n",
              "        [-1.7206e-01,  1.2423e-01],\n",
              "        [-1.5705e-01,  1.1172e-01],\n",
              "        [ 9.8848e-02, -1.3885e-01],\n",
              "        [ 1.2931e-01, -5.3152e-02],\n",
              "        [-2.4577e-03, -2.4501e-02],\n",
              "        [ 6.0929e-02,  3.0761e-02],\n",
              "        [-4.1627e-05, -1.6884e-04],\n",
              "        [-6.9166e-03,  6.9532e-02],\n",
              "        [-4.1003e-03, -3.7395e-02],\n",
              "        [-6.8891e-02, -1.7656e-02],\n",
              "        [-2.2894e-02,  2.9514e-02],\n",
              "        [ 1.6353e-01, -1.7231e-01],\n",
              "        [ 1.3096e-01, -4.9805e-02],\n",
              "        [-1.3347e-03,  4.0023e-02],\n",
              "        [-3.8447e-02, -3.7672e-02],\n",
              "        [ 1.0276e-01, -3.8455e-02],\n",
              "        [-1.1494e-01,  1.1222e-01],\n",
              "        [ 4.7508e-02,  5.0821e-02],\n",
              "        [ 9.8346e-02, -2.3693e-02],\n",
              "        [-7.5435e-02,  6.1045e-03],\n",
              "        [-2.1217e-01,  1.4838e-01],\n",
              "        [-1.4749e-01,  1.0551e-01],\n",
              "        [-9.0616e-03, -8.4643e-02],\n",
              "        [ 9.7967e-02,  3.1169e-03],\n",
              "        [-2.5487e-02,  5.8135e-02],\n",
              "        [ 1.1975e-01, -7.4593e-02],\n",
              "        [ 6.8935e-02,  2.4447e-02],\n",
              "        [ 9.1216e-02, -3.6307e-02],\n",
              "        [-9.6973e-02, -4.5895e-02],\n",
              "        [-1.4073e-01, -1.3526e-01],\n",
              "        [-2.4353e-02,  4.4294e-02],\n",
              "        [-8.1556e-02, -2.8218e-02],\n",
              "        [-1.3264e-01, -2.7435e-02],\n",
              "        [-1.6109e-01,  1.1615e-01],\n",
              "        [ 1.2881e-01, -5.4820e-02],\n",
              "        [-1.5389e-01,  1.1247e-01],\n",
              "        [ 7.9540e-02, -5.5000e-03],\n",
              "        [-2.3393e-01,  1.5968e-01],\n",
              "        [-1.4500e-01,  1.0066e-01],\n",
              "        [ 1.0836e-01, -7.1771e-02],\n",
              "        [ 8.3415e-02, -3.1083e-02],\n",
              "        [ 2.9458e-02,  6.9911e-02],\n",
              "        [ 1.0578e-01, -3.8955e-02],\n",
              "        [-2.3349e-01,  1.7093e-01],\n",
              "        [-5.0954e-02, -8.8494e-02],\n",
              "        [-8.4843e-02,  9.5127e-02],\n",
              "        [ 4.7218e-02,  3.4457e-02],\n",
              "        [-2.1220e-01,  5.8157e-02],\n",
              "        [-2.1761e-01,  1.5646e-01],\n",
              "        [ 1.0651e-01, -1.1861e-02],\n",
              "        [-8.9677e-02, -1.3267e-01],\n",
              "        [-2.1165e-01,  6.0682e-02],\n",
              "        [ 5.3192e-02,  1.7925e-02],\n",
              "        [-2.7331e-01,  7.4026e-02],\n",
              "        [ 1.0453e-02,  3.9093e-02],\n",
              "        [ 9.9025e-02, -3.9493e-02],\n",
              "        [ 6.5923e-02, -2.4911e-02],\n",
              "        [ 9.6522e-02, -1.3942e-01],\n",
              "        [ 5.8060e-02, -1.9249e-02],\n",
              "        [-1.5417e-01,  4.4198e-02],\n",
              "        [ 1.8409e-02, -6.5436e-02],\n",
              "        [-4.5073e-02,  6.5523e-02],\n",
              "        [ 8.0314e-02, -8.6453e-02],\n",
              "        [-2.0713e-01,  1.4668e-01],\n",
              "        [-4.1825e-02,  4.9340e-02],\n",
              "        [ 1.5612e-01, -6.7768e-02],\n",
              "        [-2.0187e-01,  1.4893e-01],\n",
              "        [-1.4221e-01, -1.3351e-01],\n",
              "        [-1.2850e-01,  1.0756e-02],\n",
              "        [ 2.6388e-02,  1.5059e-02],\n",
              "        [-5.2935e-02, -5.3433e-02],\n",
              "        [ 5.4205e-02,  4.9981e-02],\n",
              "        [ 7.8671e-02,  2.2150e-02]], requires_grad=True)"
            ]
          },
          "metadata": {},
          "execution_count": 585
        }
      ]
    },
    {
      "cell_type": "markdown",
      "source": [
        "#Initialise model"
      ],
      "metadata": {
        "id": "MRwnoz1vJMJK"
      }
    },
    {
      "cell_type": "code",
      "source": [
        "#GCN Architecture\n",
        "class GCN(torch.nn.Module):\n",
        "    def __init__(self, hidden_channels):\n",
        "        super(GCN, self).__init__()\n",
        "        torch.manual_seed(12345)\n",
        "        \n",
        "        self.conv1 = GATConv(2, 256)\n",
        "        #self.conv2 = GATConv(256, 128)\n",
        "        # self.conv3 = GCNConv(128, 56)\n",
        "        # self.conv4 = GCNConv(56, 28)\n",
        "        #self.conv3 = GCNConv(data.num_features, 32)\n",
        "        \n",
        "        #self.linear1 = torch.nn.Linear(128,64)\n",
        "        self.conv3 = GCNConv(256,128)\n",
        "        self.linear1 = torch.nn.Linear(128,64)\n",
        "        self.linear2 = torch.nn.Linear(64,1)\n",
        "        #self.linear3 = torch.nn.Linear(32,1)\n",
        "    def forward(self, x, edge_index):\n",
        "        x = self.conv1(x, edge_index)\n",
        "        x = x.relu()\n",
        "        x = F.dropout(x, p=0.5, training=self.training)\n",
        "        #x = self.conv2(x, edge_index)\n",
        "        #x = x.relu()\n",
        "        #x = torch.flatten(x)\n",
        "        # x = self.conv2(x, edge_index)\n",
        "        # x = x.relu()\n",
        "        # x = self.conv3(x, edge_index)\n",
        "        # x = x.relu()\n",
        "        # x = self.conv4(x, edge_index)\n",
        "        # x = x.relu()\n",
        "        # x = self.conv2(x, edge_index)\n",
        "        # x = x.relu()\n",
        "        # x = self.linear1(x)\n",
        "        # x = x.relu()\n",
        "        x = self.conv3(x, edge_index)\n",
        "        x = x.relu()\n",
        "        x = self.linear1(x)\n",
        "        #x= x.relu()\n",
        "        x = self.linear2(x)\n",
        "        # x = self.linear3(x)\n",
        "        #x= x.relu()\n",
        "        \n",
        "        return x"
      ],
      "metadata": {
        "id": "pVqptEtSRqTk"
      },
      "execution_count": null,
      "outputs": []
    },
    {
      "cell_type": "code",
      "source": [
        "#Define model\n",
        "device = torch.device('cuda' if torch.cuda.is_available() else 'cpu')\n",
        "model = GCN(256).to(device)"
      ],
      "metadata": {
        "id": "z8QGwcOd-I0Y"
      },
      "execution_count": null,
      "outputs": []
    },
    {
      "cell_type": "code",
      "source": [
        "#Define optimiser\n",
        "optim = torch.optim.Adam(model.parameters(), lr=0.001)"
      ],
      "metadata": {
        "id": "jsndEfVP-Len"
      },
      "execution_count": null,
      "outputs": []
    },
    {
      "cell_type": "markdown",
      "source": [
        "#Train initial network"
      ],
      "metadata": {
        "id": "vF-8IBlDJecc"
      }
    },
    {
      "cell_type": "code",
      "source": [
        "#Train model\n",
        "for epoch in range(1, 300):\n",
        "  print(epoch)\n",
        "  for data in train_loader:\n",
        "    total_loss = 0\n",
        "    optim.zero_grad()\n",
        "    data.x = data.x.to(device, dtype = torch.float)\n",
        "    data.y = data.y.to(device, dtype = torch.float)\n",
        "    pred = model(data.x, data.edge_index)\n",
        "    loss = F.mse_loss(pred.squeeze(), data.y.squeeze())\n",
        "    #total_loss += loss.item() * data.num_graphs\n",
        "    \n",
        "    loss.backward()\n",
        "    optim.step()"
      ],
      "metadata": {
        "id": "IZTxaAxp-OPl"
      },
      "execution_count": null,
      "outputs": []
    },
    {
      "cell_type": "markdown",
      "source": [
        "#Evaluate on test set"
      ],
      "metadata": {
        "id": "7aZAD-GIJjOS"
      }
    },
    {
      "cell_type": "code",
      "source": [
        "#Predict for test set\n",
        "pred_ = []\n",
        "test_values = []\n",
        "for data in test_loader:\n",
        "    data.x = data.x.to(device, dtype = torch.float)\n",
        "    #data.y = data.y.to(device, dtype = torch.float)\n",
        "    pred = model(data.x, data.edge_index)\n",
        "\n",
        "    loss = F.mse_loss(pred.squeeze(), data.y.squeeze())\n",
        "    pred = pred.detach().numpy()\n",
        "    data.y = data.y.detach().numpy() \n",
        "    pred_.append(pred)\n",
        "    test_values.append(data.y)\n"
      ],
      "metadata": {
        "id": "-oZdvzlr-RVM"
      },
      "execution_count": null,
      "outputs": []
    },
    {
      "cell_type": "code",
      "source": [
        "#Median absolute error \n",
        "pred_ = np.asarray(pred_)\n",
        "test_values = np.asarray(test_values)\n",
        "\n",
        "median_absolute_error(np.ndarray.flatten(pred_), np.ndarray.flatten(test_values))\n"
      ],
      "metadata": {
        "id": "QGXM39_X-UuZ"
      },
      "execution_count": null,
      "outputs": []
    },
    {
      "cell_type": "code",
      "source": [
        "#Mean absolute error\n",
        "pred_ = np.asarray(pred_)\n",
        "test_values = np.asarray(test_values)\n",
        "\n",
        "mean_absolute_error(np.ndarray.flatten(pred_), np.ndarray.flatten(test_values))\n"
      ],
      "metadata": {
        "id": "w-TNDAXmBkWx"
      },
      "execution_count": null,
      "outputs": []
    },
    {
      "cell_type": "code",
      "source": [
        "#Save model weights\n",
        "torch.save(model.state_dict(), 'model_weights_.pth')"
      ],
      "metadata": {
        "id": "wDoZ2t1eBSnb"
      },
      "execution_count": null,
      "outputs": []
    },
    {
      "cell_type": "markdown",
      "source": [
        "##Magnitude-based pruning based on lowest L1 score"
      ],
      "metadata": {
        "id": "ZZpNdVjYJ65v"
      }
    },
    {
      "cell_type": "code",
      "source": [
        "#Pruning \n",
        "def prune_(proportion, GCN, layer1, layer2, layer3):\n",
        "  parameters_to_prune = (\n",
        "      (GCN.layer1, 'weight'),\n",
        "      (GCN.layer2, 'weight'),\n",
        "      (GCN.layer3, 'weight')\n",
        "  )\n",
        "\n",
        "  prune.global_unstructured(\n",
        "      parameters_to_prune,\n",
        "      pruning_method=prune.L1Unstructured,\n",
        "      amount=proportion,\n",
        "  )"
      ],
      "metadata": {
        "id": "9UNBEUS2BgSU"
      },
      "execution_count": null,
      "outputs": []
    },
    {
      "cell_type": "code",
      "source": [
        "#Load model weights\n",
        "model.load_state_dict(torch.load('model_weights_.pth'))"
      ],
      "metadata": {
        "id": "8jRl0pn6Pl3E"
      },
      "execution_count": null,
      "outputs": []
    },
    {
      "cell_type": "code",
      "source": [
        "#Apply pruning\n",
        "prune_(0.1, model, conv1.lin_src, conv3.lin, linear1)"
      ],
      "metadata": {
        "id": "CBf1uDt4PdIO"
      },
      "execution_count": null,
      "outputs": []
    },
    {
      "cell_type": "markdown",
      "source": [
        "###Re-train"
      ],
      "metadata": {
        "id": "EC22HRHQQdfv"
      }
    },
    {
      "cell_type": "code",
      "source": [
        "#Re-Train model\n",
        "for epoch in range(1, 300):\n",
        "  print(epoch)\n",
        "  for data in train_loader:\n",
        "    total_loss = 0\n",
        "    optim.zero_grad()\n",
        "    data.x = data.x.to(device, dtype = torch.float)\n",
        "    data.y = data.y.to(device, dtype = torch.float)\n",
        "    pred = model(data.x, data.edge_index)\n",
        "    loss = F.mse_loss(pred.squeeze(), data.y.squeeze())\n",
        "    #total_loss += loss.item() * data.num_graphs\n",
        "    \n",
        "    loss.backward()\n",
        "    optim.step()"
      ],
      "metadata": {
        "id": "AgVG-eXyQfJf"
      },
      "execution_count": null,
      "outputs": []
    },
    {
      "cell_type": "markdown",
      "source": [
        "###Evaluate on test set"
      ],
      "metadata": {
        "id": "vwyvBGe1QiB_"
      }
    },
    {
      "cell_type": "code",
      "source": [
        "#Predict for test set\n",
        "pred_ = []\n",
        "test_values = []\n",
        "for data in test_loader:\n",
        "    data.x = data.x.to(device, dtype = torch.float)\n",
        "    #data.y = data.y.to(device, dtype = torch.float)\n",
        "    pred = model(data.x, data.edge_index)\n",
        "\n",
        "    loss = F.mse_loss(pred.squeeze(), data.y.squeeze())\n",
        "    pred = pred.detach().numpy()\n",
        "    data.y = data.y.detach().numpy() \n",
        "    pred_.append(pred)\n",
        "    test_values.append(data.y)\n"
      ],
      "metadata": {
        "id": "XdqVQvDtQmqx"
      },
      "execution_count": null,
      "outputs": []
    },
    {
      "cell_type": "code",
      "source": [
        "#Median absolute error \n",
        "pred_ = np.asarray(pred_)\n",
        "test_values = np.asarray(test_values)\n",
        "\n",
        "median_absolute_error(np.ndarray.flatten(pred_), np.ndarray.flatten(test_values))\n"
      ],
      "metadata": {
        "id": "kQa8THY6QrgB"
      },
      "execution_count": null,
      "outputs": []
    },
    {
      "cell_type": "code",
      "source": [
        "#Mean absolute error\n",
        "pred_ = np.asarray(pred_)\n",
        "test_values = np.asarray(test_values)\n",
        "\n",
        "mean_absolute_error(np.ndarray.flatten(pred_), np.ndarray.flatten(test_values))\n"
      ],
      "metadata": {
        "id": "qOy36fp6Qt3W"
      },
      "execution_count": null,
      "outputs": []
    },
    {
      "cell_type": "markdown",
      "source": [
        "##Magnitude-based pruning based on threshold"
      ],
      "metadata": {
        "id": "W47USN_wQ0Uv"
      }
    },
    {
      "cell_type": "code",
      "source": [
        "#Initialise model\n",
        "class GCN(torch.nn.Module):\n",
        "    def __init__(self, hidden_channels):\n",
        "        super(GCN, self).__init__()\n",
        "        torch.manual_seed(12345)\n",
        "        self.conv1 = GCNConv(2, 256)\n",
        "        self.conv2 = GCNConv(256, 128)\n",
        "        #self.conv3 = GCNConv(128, 1)\n",
        "        #self.conv3 = GCNConv(data.num_features, 32)\n",
        "        self.linear1 = torch.nn.Linear(128,1)\n",
        "        # self.linear2 = torch.nn.Linear(56,1)\n",
        "    def forward(self, x, edge_index):\n",
        "        x = self.conv1(x, edge_index)\n",
        "        x = x.relu()\n",
        "        x = F.dropout(x, p=0.5, training=self.training)\n",
        "        x = self.conv2(x, edge_index)\n",
        "        x = x.relu()\n",
        "        # x = self.conv3(x, edge_index)\n",
        "        # x = x.relu()\n",
        "        # x = self.conv2(x, edge_index)\n",
        "        # x = x.relu()\n",
        "        # x = self.conv2(x, edge_index)\n",
        "        # x = x.relu()\n",
        "        x = self.linear1(x)\n",
        "        # x = x.relu()\n",
        "        # x = self.linear2(x)\n",
        "        return x"
      ],
      "metadata": {
        "id": "pzMfV1VreIcu"
      },
      "execution_count": null,
      "outputs": []
    },
    {
      "cell_type": "code",
      "source": [
        "device = torch.device('cuda' if torch.cuda.is_available() else 'cpu')\n",
        "model = GCN(256).to(device)"
      ],
      "metadata": {
        "id": "XmuVZWINMtix"
      },
      "execution_count": null,
      "outputs": []
    },
    {
      "cell_type": "code",
      "source": [
        "#Threshold pruning\n",
        "class ThresholdPruning(prune.BasePruningMethod):\n",
        "    PRUNING_TYPE = \"unstructured\"\n",
        "\n",
        "    def __init__(self, threshold):\n",
        "        self.threshold = threshold\n",
        "\n",
        "    def compute_mask(self, tensor, default_mask):\n",
        "        return torch.abs(tensor) > self.threshold"
      ],
      "metadata": {
        "id": "bUlp3GJ6Mt78"
      },
      "execution_count": null,
      "outputs": []
    },
    {
      "cell_type": "code",
      "source": [
        "#Load previous weights\n",
        "model.load_state_dict(torch.load('model_weights_.pth'))"
      ],
      "metadata": {
        "colab": {
          "base_uri": "https://localhost:8080/"
        },
        "id": "0aInHjDxPD0X",
        "outputId": "5c850132-27f1-410a-cb9c-310c78f000ed"
      },
      "execution_count": null,
      "outputs": [
        {
          "output_type": "execute_result",
          "data": {
            "text/plain": [
              "<All keys matched successfully>"
            ]
          },
          "metadata": {},
          "execution_count": 360
        }
      ]
    },
    {
      "cell_type": "code",
      "source": [
        "#Mention parameters\n",
        "parameters_to_prune = (\n",
        "    (model.conv1.lin_src, 'weight'),\n",
        "    (model.conv3.lin, 'weight'),\n",
        "    (model.linear1, 'weight')\n",
        ")\n",
        "\n",
        "prune.global_unstructured(\n",
        "    parameters_to_prune, pruning_method=ThresholdPruning, threshold=0.01\n",
        ")"
      ],
      "metadata": {
        "id": "P8GJLtNQPEa7"
      },
      "execution_count": null,
      "outputs": []
    },
    {
      "cell_type": "markdown",
      "source": [
        "###Re-train"
      ],
      "metadata": {
        "id": "d6JrOfWeReUE"
      }
    },
    {
      "cell_type": "code",
      "source": [
        "for epoch in range(1, 300):\n",
        "  print(epoch)\n",
        "  for data in train_loader:\n",
        "    total_loss = 0\n",
        "    optim.zero_grad()\n",
        "    data.x = data.x.to(device, dtype = torch.float)\n",
        "    data.y = data.y.to(device, dtype = torch.float)\n",
        "    pred = model(data.x, data.edge_index)\n",
        "    loss = F.mse_loss(pred.squeeze(), data.y.squeeze())\n",
        "    #total_loss += loss.item() * data.num_graphs\n",
        "    \n",
        "    loss.backward()\n",
        "    optim.step()"
      ],
      "metadata": {
        "id": "jWQ1uztMRkKv"
      },
      "execution_count": null,
      "outputs": []
    },
    {
      "cell_type": "markdown",
      "source": [
        "###Evaluate on test set"
      ],
      "metadata": {
        "id": "Kg3tDSSARnZM"
      }
    },
    {
      "cell_type": "code",
      "source": [
        "#Predict for test set\n",
        "pred_ = []\n",
        "test_values = []\n",
        "for data in test_loader:\n",
        "    data.x = data.x.to(device, dtype = torch.float)\n",
        "    #data.y = data.y.to(device, dtype = torch.float)\n",
        "    pred = model(data.x, data.edge_index)\n",
        "\n",
        "    loss = F.mse_loss(pred.squeeze(), data.y.squeeze())\n",
        "    pred = pred.detach().numpy()\n",
        "    data.y = data.y.detach().numpy() \n",
        "    pred_.append(pred)\n",
        "    test_values.append(data.y)\n"
      ],
      "metadata": {
        "id": "xgtaQCv4TqCo"
      },
      "execution_count": null,
      "outputs": []
    },
    {
      "cell_type": "code",
      "source": [
        "#Median absolute error \n",
        "pred_ = np.asarray(pred_)\n",
        "test_values = np.asarray(test_values)\n",
        "\n",
        "median_absolute_error(np.ndarray.flatten(pred_), np.ndarray.flatten(test_values))\n"
      ],
      "metadata": {
        "id": "nBQh1Qw4R0aX"
      },
      "execution_count": null,
      "outputs": []
    },
    {
      "cell_type": "code",
      "source": [
        "#Mean absolute error\n",
        "pred_ = np.asarray(pred_)\n",
        "test_values = np.asarray(test_values)\n",
        "\n",
        "mean_absolute_error(np.ndarray.flatten(pred_), np.ndarray.flatten(test_values))\n"
      ],
      "metadata": {
        "id": "wkx8LVBgR2ck"
      },
      "execution_count": null,
      "outputs": []
    }
  ]
}